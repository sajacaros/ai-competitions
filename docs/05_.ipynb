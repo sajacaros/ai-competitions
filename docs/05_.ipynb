{
 "cells": [
  {
   "cell_type": "markdown",
   "source": [
    "# 05 다시 살펴보는 머신러닝 주요개념\n",
    "## 다루는 내용\n",
    "* 분류와 회귀\n",
    "    * 회귀 평가지표\n",
    "* 분류 평가지표\n",
    "    * 오차 행렬\n",
    "        * 정확도, 정밀도, 재현율, F1 점수\n",
    "    * 로그 손실\n",
    "    * ROC, AUC\n",
    "* 데이터 인코딩\n",
    "    * 레이블 인코딩\n",
    "    * 원-핫 인코딩\n",
    "* 피처 스케일링\n",
    "    * min-max 정규화\n",
    "    * 표준화\n",
    "* 교차 검증\n",
    "    * K 폴드\n",
    "    * 층화 K 폴드\n",
    "* 주요 머신러닝 모델\n",
    "    * 선형 회귀\n",
    "    * 로지스틱 회귀\n",
    "    * 결정 트리\n",
    "    * 앙상블\n",
    "    * 랜덤 포레스트\n",
    "    * XGBoost\n",
    "    * LightGBM\n",
    "* 하이퍼파라미터 최적화\n",
    "    * 그리드 서치\n",
    "    * 랜덤 서치\n",
    "    * 베이지안 최적화"
   ],
   "metadata": {
    "collapsed": false,
    "pycharm": {
     "name": "#%% md\n"
    }
   }
  },
  {
   "cell_type": "markdown",
   "source": [
    "## 5.1 분류와 회귀\n",
    "* 타깃값이 범주형 데이터면 분류 문제\n",
    "* 타깃값이 숫자형 데이터면 회귀 문제\n",
    "### 5.1.1 분류\n",
    "* 분류(classification)란?\n",
    "    * 어떤 대상을 정해진 범주에 구분하는 작업\n",
    "* 이진 분류(binary classification)\n",
    "    * 타깃값이 두 개인 분류\n",
    "* 다중 분류(multiclass classification)\n",
    "    * 타깃값이 세 개 이상인 분류\n",
    "### 5.1.2 회귀\n",
    "* 독립 변수(independent variable)\n",
    "    * 영향을 미치는 변수\n",
    "* 종속 변수(dependent variable)\n",
    "    * 영향을 받는 변수\n",
    "* 회귀(regression)란?\n",
    "    * 독립변수와 종속변수 간 관계를 모델링하는 방법\n",
    "    * Y = $\\theta_0$ + $\\theta_1$x\n",
    "* 다중선형회귀(multiple linear regression)\n",
    "    * Y = $\\theta_0$ + $\\theta_1x_1$ + $\\theta_2x_2$ + $\\theta_3x_3$\n",
    "* 회귀 모델의 성능을 측정하는 평가지표\n",
    "|평가지표|수식|설명|\n",
    "|--|--|--|\n",
    "|MAE|${1 \\over N} \\sum_{i=1}^N\\|y_i - \\hat{y_i}\\|$|평균 절대 오차(Mean Absolute Error)|\n",
    "|MSE|${1 \\over N} \\sum_{i=1}^N(y_i - \\hat{y_i})^2$|평균 제곱 오차(Mean Squared Error)|\n",
    "|RMSE|$\\sqrt{{1 \\over N} \\sum_{i=1}^N(y_i - \\hat{y_i})^2}$|평균 제곱근 오차(Root Mean Squared Error)|\n",
    "|MSLE|${1 \\over N} \\sum_{i=1}^N(log(y_i+1)-log(\\hat{y_i}+1))^2$|Mean Squared Log Error|\n",
    "|RMSLE|$\\sqrt{{1 \\over N} \\sum_{i=1}^N(log(y_i+1)-log(\\hat{y_i}+1))^2}$|Root Mean Squared Log Error|\n",
    "|$R^2$|$ \\hat{\\sigma}^2 \\over {\\sigma}^2$|예측 타깃값의 분산/실제 타깃값의 분산, 1에 가까울 수록 성능이 좋음|"
   ],
   "metadata": {
    "collapsed": false,
    "pycharm": {
     "name": "#%% md\n"
    }
   }
  },
  {
   "cell_type": "markdown",
   "source": [
    "## 5.2 분류 평가지표\n",
    "### 5.2.1 오차 행렬\n",
    "### 5.2.2 로그 손실\n",
    "### 5.2.3 ROC 곡선과 AUC"
   ],
   "metadata": {
    "collapsed": false
   }
  },
  {
   "cell_type": "markdown",
   "source": [
    "## 5.3 데이터 인코딩\n",
    "### 5.3.1 레이블 인코딩\n",
    "### 5.3.2 원-핫 인코딩"
   ],
   "metadata": {
    "collapsed": false
   }
  },
  {
   "cell_type": "markdown",
   "source": [
    "## 5.4 피처 스케일링\n",
    "### 5.4.1 min-max 정규화\n",
    "### 5.4.2 표준화"
   ],
   "metadata": {
    "collapsed": false
   }
  },
  {
   "cell_type": "markdown",
   "source": [
    "## 5.5 교차 검증\n",
    "### 5.5.1 K 폴드 교차 검증\n",
    "### 5.5.2 층화 K 폴드 교차 검증"
   ],
   "metadata": {
    "collapsed": false
   }
  },
  {
   "cell_type": "markdown",
   "source": [
    "## 5.6 주요 머신러닝 모델\n",
    "### 5.6.1 선형 회귀 모델\n",
    "### 5.6.2 로지스틱 회귀 모델\n",
    "### 5.6.3 결정 트리\n",
    "### 5.6.4 앙상블 학습\n",
    "### 5.6.5 랜덤 포레스트\n",
    "### 5.6.6 XGBoost\n",
    "### 5.6.7 LightGBM"
   ],
   "metadata": {
    "collapsed": false
   }
  },
  {
   "cell_type": "markdown",
   "source": [
    "## 5.7 하이퍼파리미터 최적화\n",
    "### 5.7.1 그리드 서치\n",
    "### 5.7.2 랜덤 서치\n",
    "### 5.7.3 베이지안 최적화"
   ],
   "metadata": {
    "collapsed": false
   }
  },
  {
   "cell_type": "code",
   "execution_count": null,
   "outputs": [],
   "source": [],
   "metadata": {
    "collapsed": false,
    "pycharm": {
     "name": "#%%\n"
    }
   }
  },
  {
   "cell_type": "code",
   "execution_count": null,
   "outputs": [],
   "source": [],
   "metadata": {
    "collapsed": false,
    "pycharm": {
     "name": "#%%\n"
    }
   }
  },
  {
   "cell_type": "code",
   "execution_count": null,
   "outputs": [],
   "source": [],
   "metadata": {
    "collapsed": false,
    "pycharm": {
     "name": "#%%\n"
    }
   }
  },
  {
   "cell_type": "code",
   "execution_count": null,
   "outputs": [],
   "source": [],
   "metadata": {
    "collapsed": false,
    "pycharm": {
     "name": "#%%\n"
    }
   }
  },
  {
   "cell_type": "code",
   "execution_count": null,
   "outputs": [],
   "source": [],
   "metadata": {
    "collapsed": false,
    "pycharm": {
     "name": "#%%\n"
    }
   }
  },
  {
   "cell_type": "code",
   "execution_count": 1,
   "metadata": {
    "collapsed": true
   },
   "outputs": [],
   "source": [
    "import seaborn as sns\n",
    "import matplotlib.pyplot as plt\n",
    "import pandas as pd\n",
    "import numpy as np"
   ]
  },
  {
   "cell_type": "code",
   "execution_count": null,
   "outputs": [],
   "source": [],
   "metadata": {
    "collapsed": false,
    "pycharm": {
     "name": "#%%\n"
    }
   }
  }
 ],
 "metadata": {
  "kernelspec": {
   "display_name": "Python 3",
   "language": "python",
   "name": "python3"
  },
  "language_info": {
   "codemirror_mode": {
    "name": "ipython",
    "version": 2
   },
   "file_extension": ".py",
   "mimetype": "text/x-python",
   "name": "python",
   "nbconvert_exporter": "python",
   "pygments_lexer": "ipython2",
   "version": "2.7.6"
  }
 },
 "nbformat": 4,
 "nbformat_minor": 0
}