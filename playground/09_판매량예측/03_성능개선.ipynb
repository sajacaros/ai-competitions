{
 "cells": [
  {
   "cell_type": "markdown",
   "source": [
    "# 09 향후 판매량 예측"
   ],
   "metadata": {
    "collapsed": false
   }
  },
  {
   "cell_type": "markdown",
   "source": [
    "## 9.4 성능 개선"
   ],
   "metadata": {
    "collapsed": false
   }
  },
  {
   "cell_type": "code",
   "execution_count": 352,
   "outputs": [],
   "source": [
    "import gc\n",
    "\n",
    "import pandas as pd\n",
    "import numpy as np\n",
    "import seaborn as sns\n",
    "import matplotlib.pyplot as plt\n",
    "import matplotlib as mpl"
   ],
   "metadata": {
    "collapsed": false,
    "pycharm": {
     "name": "#%%\n"
    }
   }
  },
  {
   "cell_type": "code",
   "execution_count": 353,
   "outputs": [],
   "source": [
    "# 데이터 블로오기\n",
    "data_path = '../../data/09_sales/'\n",
    "\n",
    "sales_train = pd.read_csv(data_path + 'sales_train.csv')\n",
    "shops = pd.read_csv(data_path + 'shops.csv')\n",
    "items = pd.read_csv(data_path + 'items.csv')\n",
    "item_categories = pd.read_csv(data_path + 'item_categories.csv')\n",
    "test = pd.read_csv(data_path + 'test.csv')\n",
    "submission = pd.read_csv(data_path + 'sample_submission.csv')"
   ],
   "metadata": {
    "collapsed": false,
    "pycharm": {
     "name": "#%%\n"
    }
   }
  },
  {
   "cell_type": "markdown",
   "source": [
    "### 9.4.1 피처 엔지니어링I: 피처명 한글화와 데이터 다운캐스팅"
   ],
   "metadata": {
    "collapsed": false,
    "pycharm": {
     "name": "#%% md\n"
    }
   }
  },
  {
   "cell_type": "code",
   "execution_count": 354,
   "outputs": [],
   "source": [
    "sales_train = sales_train.rename(columns={\n",
    "    'date': '날짜',\n",
    "    'date_block_num': '월ID',\n",
    "    'shop_id': '상점ID',\n",
    "    'item_id': '상품ID',\n",
    "    'item_price': '판매가',\n",
    "    'item_cnt_day': '판매량',\n",
    "})\n",
    "shops = shops.rename(columns={\n",
    "    'shop_name': '상점명',\n",
    "    'shop_id': '상점ID',\n",
    "})\n",
    "items = items.rename(columns={\n",
    "    'item_name': '상품명',\n",
    "    'item_id': '상품ID',\n",
    "    'item_category_id': '상품분류ID',\n",
    "})\n",
    "item_categories = item_categories.rename(columns={\n",
    "    'item_category_name': '상품분류명',\n",
    "    'item_category_id': '상품분류ID',\n",
    "})\n",
    "test = test.rename(columns={\n",
    "    'shop_id': '상점ID',\n",
    "    'item_id': '상품ID',\n",
    "})"
   ],
   "metadata": {
    "collapsed": false,
    "pycharm": {
     "name": "#%%\n"
    }
   }
  },
  {
   "cell_type": "code",
   "execution_count": 355,
   "outputs": [],
   "source": [
    "def downcast(df, verbose=True):\n",
    "    start_mem = df.memory_usage().sum() / 1024 ** 2\n",
    "    for col in df.columns:\n",
    "        dtype_name = df[col].dtype.name\n",
    "        if dtype_name == 'object':\n",
    "            pass\n",
    "        elif dtype_name == 'bool':\n",
    "            df[col] = df[col].astype('int8')\n",
    "        elif dtype_name.startswith('int') or (df[col].round() == df[col]).all():\n",
    "            df[col] = pd.to_numeric(df[col], downcast='integer')\n",
    "        else:\n",
    "            df[col] = pd.to_numeric(df[col], downcast='float')\n",
    "    end_mem = df.memory_usage().sum() / 1024**2\n",
    "    if verbose:\n",
    "        print(f'{100*(start_mem-end_mem)/start_mem:.2f} % 압축됨')\n",
    "    return df"
   ],
   "metadata": {
    "collapsed": false,
    "pycharm": {
     "name": "#%%\n"
    }
   }
  },
  {
   "cell_type": "code",
   "execution_count": 356,
   "outputs": [
    {
     "name": "stdout",
     "output_type": "stream",
     "text": [
      "54.17 % 압축됨\n",
      "38.60 % 압축됨\n",
      "54.15 % 압축됨\n",
      "39.95 % 압축됨\n",
      "70.83 % 압축됨\n"
     ]
    }
   ],
   "source": [
    "all_df = [sales_train, shops, items, item_categories, test]\n",
    "for df in all_df:\n",
    "    df = downcast(df)"
   ],
   "metadata": {
    "collapsed": false,
    "pycharm": {
     "name": "#%%\n"
    }
   }
  },
  {
   "cell_type": "markdown",
   "source": [
    "### 9.4.2 피처 엔지니어링II: 개별 데이터 피처 엔지니어링"
   ],
   "metadata": {
    "collapsed": false
   }
  },
  {
   "cell_type": "code",
   "execution_count": 357,
   "outputs": [],
   "source": [
    "# sales_train 이상치 제거 및 전처리\n",
    "sales_train = sales_train[sales_train['판매가'] > 0]\n",
    "sales_train = sales_train[sales_train['판매가'] < 50000]\n",
    "\n",
    "sales_train = sales_train[sales_train['판매량'] > 0]\n",
    "sales_train = sales_train[sales_train['판매량'] < 1000]"
   ],
   "metadata": {
    "collapsed": false,
    "pycharm": {
     "name": "#%%\n"
    }
   }
  },
  {
   "cell_type": "code",
   "execution_count": 358,
   "outputs": [],
   "source": [
    "# 상점ID 누락 처리\n",
    "sales_train.loc[sales_train['상점ID'] == 0, '상점ID'] = 57\n",
    "sales_train.loc[sales_train['상점ID'] == 1, '상점ID'] = 58\n",
    "sales_train.loc[sales_train['상점ID'] == 10, '상점ID'] = 11\n",
    "sales_train.loc[sales_train['상점ID'] == 39, '상점ID'] = 40"
   ],
   "metadata": {
    "collapsed": false,
    "pycharm": {
     "name": "#%%\n"
    }
   }
  },
  {
   "cell_type": "code",
   "execution_count": 359,
   "outputs": [],
   "source": [
    "# test 데이터에서 상점 ID 수정\n",
    "test.loc[test['상점ID'] == 0, '상점ID'] = 57\n",
    "test.loc[test['상점ID'] == 1, '상점ID'] = 58\n",
    "test.loc[test['상점ID'] == 10, '상점ID'] = 11\n",
    "test.loc[test['상점ID'] == 39, '상점ID'] = 40"
   ],
   "metadata": {
    "collapsed": false,
    "pycharm": {
     "name": "#%%\n"
    }
   }
  },
  {
   "cell_type": "code",
   "execution_count": 360,
   "outputs": [
    {
     "data": {
      "text/plain": "array(['!Якутск', 'Адыгея', 'Балашиха', 'Волжский', 'Вологда', 'Воронеж',\n       'Выездная', 'Жуковский', 'Интернет-магазин', 'Казань', 'Калуга',\n       'Коломна', 'Красноярск', 'Курск', 'Москва', 'Мытищи', 'Н.Новгород',\n       'Новосибирск', 'Омск', 'РостовНаДону', 'СПб', 'Самара', 'Сергиев',\n       'Сургут', 'Томск', 'Тюмень', 'Уфа', 'Химки', 'Цифровой', 'Чехов',\n       'Якутск', 'Ярославль'], dtype=object)"
     },
     "execution_count": 360,
     "metadata": {},
     "output_type": "execute_result"
    }
   ],
   "source": [
    "# shops 파생 피처 생성 및 인코딩\n",
    "shops['도시'] = shops['상점명'].apply(lambda x: x.split()[0])\n",
    "shops['도시'].unique()"
   ],
   "metadata": {
    "collapsed": false,
    "pycharm": {
     "name": "#%%\n"
    }
   }
  },
  {
   "cell_type": "code",
   "execution_count": 361,
   "outputs": [],
   "source": [
    "shops.loc[shops['도시']=='!Якутск', '도시'] = 'Якутск'"
   ],
   "metadata": {
    "collapsed": false,
    "pycharm": {
     "name": "#%%\n"
    }
   }
  },
  {
   "cell_type": "code",
   "execution_count": 362,
   "outputs": [],
   "source": [
    "from sklearn.preprocessing import LabelEncoder\n",
    "label_encoder = LabelEncoder()\n",
    "shops['도시'] = label_encoder.fit_transform(shops['도시'])"
   ],
   "metadata": {
    "collapsed": false,
    "pycharm": {
     "name": "#%%\n"
    }
   }
  },
  {
   "cell_type": "code",
   "execution_count": 363,
   "outputs": [
    {
     "data": {
      "text/plain": "   상점ID  도시\n0     0  29\n1     1  29\n2     2   0\n3     3   1\n4     4   2",
      "text/html": "<div>\n<style scoped>\n    .dataframe tbody tr th:only-of-type {\n        vertical-align: middle;\n    }\n\n    .dataframe tbody tr th {\n        vertical-align: top;\n    }\n\n    .dataframe thead th {\n        text-align: right;\n    }\n</style>\n<table border=\"1\" class=\"dataframe\">\n  <thead>\n    <tr style=\"text-align: right;\">\n      <th></th>\n      <th>상점ID</th>\n      <th>도시</th>\n    </tr>\n  </thead>\n  <tbody>\n    <tr>\n      <th>0</th>\n      <td>0</td>\n      <td>29</td>\n    </tr>\n    <tr>\n      <th>1</th>\n      <td>1</td>\n      <td>29</td>\n    </tr>\n    <tr>\n      <th>2</th>\n      <td>2</td>\n      <td>0</td>\n    </tr>\n    <tr>\n      <th>3</th>\n      <td>3</td>\n      <td>1</td>\n    </tr>\n    <tr>\n      <th>4</th>\n      <td>4</td>\n      <td>2</td>\n    </tr>\n  </tbody>\n</table>\n</div>"
     },
     "execution_count": 363,
     "metadata": {},
     "output_type": "execute_result"
    }
   ],
   "source": [
    "shops = shops.drop(columns='상점명')\n",
    "shops.head()"
   ],
   "metadata": {
    "collapsed": false,
    "pycharm": {
     "name": "#%%\n"
    }
   }
  },
  {
   "cell_type": "code",
   "execution_count": 364,
   "outputs": [],
   "source": [
    "items = items.drop(columns='상품명')"
   ],
   "metadata": {
    "collapsed": false,
    "pycharm": {
     "name": "#%%\n"
    }
   }
  },
  {
   "cell_type": "code",
   "execution_count": 365,
   "outputs": [
    {
     "data": {
      "text/plain": "   상품ID  상품분류ID  첫 판매월\n0     0      40   20.0\n1     1      76   15.0\n2     2      40   19.0\n3     3      40   18.0\n4     4      40   20.0",
      "text/html": "<div>\n<style scoped>\n    .dataframe tbody tr th:only-of-type {\n        vertical-align: middle;\n    }\n\n    .dataframe tbody tr th {\n        vertical-align: top;\n    }\n\n    .dataframe thead th {\n        text-align: right;\n    }\n</style>\n<table border=\"1\" class=\"dataframe\">\n  <thead>\n    <tr style=\"text-align: right;\">\n      <th></th>\n      <th>상품ID</th>\n      <th>상품분류ID</th>\n      <th>첫 판매월</th>\n    </tr>\n  </thead>\n  <tbody>\n    <tr>\n      <th>0</th>\n      <td>0</td>\n      <td>40</td>\n      <td>20.0</td>\n    </tr>\n    <tr>\n      <th>1</th>\n      <td>1</td>\n      <td>76</td>\n      <td>15.0</td>\n    </tr>\n    <tr>\n      <th>2</th>\n      <td>2</td>\n      <td>40</td>\n      <td>19.0</td>\n    </tr>\n    <tr>\n      <th>3</th>\n      <td>3</td>\n      <td>40</td>\n      <td>18.0</td>\n    </tr>\n    <tr>\n      <th>4</th>\n      <td>4</td>\n      <td>40</td>\n      <td>20.0</td>\n    </tr>\n  </tbody>\n</table>\n</div>"
     },
     "execution_count": 365,
     "metadata": {},
     "output_type": "execute_result"
    }
   ],
   "source": [
    "# items 파생 피처 생성\n",
    "items['첫 판매월'] = sales_train.groupby('상품ID').agg({'월ID':'min'})['월ID']\n",
    "items.head()"
   ],
   "metadata": {
    "collapsed": false,
    "pycharm": {
     "name": "#%%\n"
    }
   }
  },
  {
   "cell_type": "code",
   "execution_count": 366,
   "outputs": [
    {
     "data": {
      "text/plain": "        상품ID  상품분류ID  첫 판매월\n83        83      40    NaN\n140      140      45    NaN\n168      168      44    NaN\n173      173      45    NaN\n204      204      44    NaN\n...      ...     ...    ...\n21974  21974      61    NaN\n21975  21975      61    NaN\n22022  22022      40    NaN\n22035  22035      40    NaN\n22137  22137      40    NaN\n\n[368 rows x 3 columns]",
      "text/html": "<div>\n<style scoped>\n    .dataframe tbody tr th:only-of-type {\n        vertical-align: middle;\n    }\n\n    .dataframe tbody tr th {\n        vertical-align: top;\n    }\n\n    .dataframe thead th {\n        text-align: right;\n    }\n</style>\n<table border=\"1\" class=\"dataframe\">\n  <thead>\n    <tr style=\"text-align: right;\">\n      <th></th>\n      <th>상품ID</th>\n      <th>상품분류ID</th>\n      <th>첫 판매월</th>\n    </tr>\n  </thead>\n  <tbody>\n    <tr>\n      <th>83</th>\n      <td>83</td>\n      <td>40</td>\n      <td>NaN</td>\n    </tr>\n    <tr>\n      <th>140</th>\n      <td>140</td>\n      <td>45</td>\n      <td>NaN</td>\n    </tr>\n    <tr>\n      <th>168</th>\n      <td>168</td>\n      <td>44</td>\n      <td>NaN</td>\n    </tr>\n    <tr>\n      <th>173</th>\n      <td>173</td>\n      <td>45</td>\n      <td>NaN</td>\n    </tr>\n    <tr>\n      <th>204</th>\n      <td>204</td>\n      <td>44</td>\n      <td>NaN</td>\n    </tr>\n    <tr>\n      <th>...</th>\n      <td>...</td>\n      <td>...</td>\n      <td>...</td>\n    </tr>\n    <tr>\n      <th>21974</th>\n      <td>21974</td>\n      <td>61</td>\n      <td>NaN</td>\n    </tr>\n    <tr>\n      <th>21975</th>\n      <td>21975</td>\n      <td>61</td>\n      <td>NaN</td>\n    </tr>\n    <tr>\n      <th>22022</th>\n      <td>22022</td>\n      <td>40</td>\n      <td>NaN</td>\n    </tr>\n    <tr>\n      <th>22035</th>\n      <td>22035</td>\n      <td>40</td>\n      <td>NaN</td>\n    </tr>\n    <tr>\n      <th>22137</th>\n      <td>22137</td>\n      <td>40</td>\n      <td>NaN</td>\n    </tr>\n  </tbody>\n</table>\n<p>368 rows × 3 columns</p>\n</div>"
     },
     "execution_count": 366,
     "metadata": {},
     "output_type": "execute_result"
    }
   ],
   "source": [
    "items[items['첫 판매월'].isna()]"
   ],
   "metadata": {
    "collapsed": false,
    "pycharm": {
     "name": "#%%\n"
    }
   }
  },
  {
   "cell_type": "code",
   "execution_count": 367,
   "outputs": [],
   "source": [
    "items['첫 판매월'] = items['첫 판매월'].fillna(34)"
   ],
   "metadata": {
    "collapsed": false,
    "pycharm": {
     "name": "#%%\n"
    }
   }
  },
  {
   "cell_type": "code",
   "execution_count": 368,
   "outputs": [],
   "source": [
    "# item_categories 파생 피처 생성 및 인코딩\n",
    "item_categories['대분류'] = item_categories['상품분류명'].apply(lambda x: x.split()[0])"
   ],
   "metadata": {
    "collapsed": false,
    "pycharm": {
     "name": "#%%\n"
    }
   }
  },
  {
   "cell_type": "code",
   "execution_count": 369,
   "outputs": [
    {
     "data": {
      "text/plain": "대분류\nИгры          14\nКниги         13\nПодарки       12\nИгровые        8\nАксессуары     7\nМузыка         6\nПрограммы      6\nКарты          5\nКино           5\nСлужебные      2\nЧистые         2\nPC             1\nБилеты         1\nДоставка       1\nЭлементы       1\nName: count, dtype: int64"
     },
     "execution_count": 369,
     "metadata": {},
     "output_type": "execute_result"
    }
   ],
   "source": [
    "item_categories['대분류'].value_counts()"
   ],
   "metadata": {
    "collapsed": false,
    "pycharm": {
     "name": "#%%\n"
    }
   }
  },
  {
   "cell_type": "code",
   "execution_count": 370,
   "outputs": [
    {
     "data": {
      "text/plain": "                     상품분류명  상품분류ID         대분류\n0  PC - Гарнитуры/Наушники       0         etc\n1         Аксессуары - PS2       1  Аксессуары\n2         Аксессуары - PS3       2  Аксессуары\n3         Аксессуары - PS4       3  Аксессуары\n4         Аксессуары - PSP       4  Аксессуары",
      "text/html": "<div>\n<style scoped>\n    .dataframe tbody tr th:only-of-type {\n        vertical-align: middle;\n    }\n\n    .dataframe tbody tr th {\n        vertical-align: top;\n    }\n\n    .dataframe thead th {\n        text-align: right;\n    }\n</style>\n<table border=\"1\" class=\"dataframe\">\n  <thead>\n    <tr style=\"text-align: right;\">\n      <th></th>\n      <th>상품분류명</th>\n      <th>상품분류ID</th>\n      <th>대분류</th>\n    </tr>\n  </thead>\n  <tbody>\n    <tr>\n      <th>0</th>\n      <td>PC - Гарнитуры/Наушники</td>\n      <td>0</td>\n      <td>etc</td>\n    </tr>\n    <tr>\n      <th>1</th>\n      <td>Аксессуары - PS2</td>\n      <td>1</td>\n      <td>Аксессуары</td>\n    </tr>\n    <tr>\n      <th>2</th>\n      <td>Аксессуары - PS3</td>\n      <td>2</td>\n      <td>Аксессуары</td>\n    </tr>\n    <tr>\n      <th>3</th>\n      <td>Аксессуары - PS4</td>\n      <td>3</td>\n      <td>Аксессуары</td>\n    </tr>\n    <tr>\n      <th>4</th>\n      <td>Аксессуары - PSP</td>\n      <td>4</td>\n      <td>Аксессуары</td>\n    </tr>\n  </tbody>\n</table>\n</div>"
     },
     "execution_count": 370,
     "metadata": {},
     "output_type": "execute_result"
    }
   ],
   "source": [
    "def make_etc(x):\n",
    "    if len(item_categories[item_categories['대분류']==x]) >= 5:\n",
    "        return x\n",
    "    else:\n",
    "        return 'etc'\n",
    "\n",
    "item_categories['대분류'] = item_categories['대분류'].apply(make_etc)\n",
    "item_categories.head()"
   ],
   "metadata": {
    "collapsed": false,
    "pycharm": {
     "name": "#%%\n"
    }
   }
  },
  {
   "cell_type": "code",
   "execution_count": 371,
   "outputs": [],
   "source": [
    "label_encoder = LabelEncoder()\n",
    "item_categories['대분류'] = label_encoder.fit_transform(item_categories['대분류'])"
   ],
   "metadata": {
    "collapsed": false,
    "pycharm": {
     "name": "#%%\n"
    }
   }
  },
  {
   "cell_type": "code",
   "execution_count": 372,
   "outputs": [
    {
     "data": {
      "text/plain": "   상품분류ID  대분류\n0       0    0\n1       1    1\n2       2    1\n3       3    1\n4       4    1",
      "text/html": "<div>\n<style scoped>\n    .dataframe tbody tr th:only-of-type {\n        vertical-align: middle;\n    }\n\n    .dataframe tbody tr th {\n        vertical-align: top;\n    }\n\n    .dataframe thead th {\n        text-align: right;\n    }\n</style>\n<table border=\"1\" class=\"dataframe\">\n  <thead>\n    <tr style=\"text-align: right;\">\n      <th></th>\n      <th>상품분류ID</th>\n      <th>대분류</th>\n    </tr>\n  </thead>\n  <tbody>\n    <tr>\n      <th>0</th>\n      <td>0</td>\n      <td>0</td>\n    </tr>\n    <tr>\n      <th>1</th>\n      <td>1</td>\n      <td>1</td>\n    </tr>\n    <tr>\n      <th>2</th>\n      <td>2</td>\n      <td>1</td>\n    </tr>\n    <tr>\n      <th>3</th>\n      <td>3</td>\n      <td>1</td>\n    </tr>\n    <tr>\n      <th>4</th>\n      <td>4</td>\n      <td>1</td>\n    </tr>\n  </tbody>\n</table>\n</div>"
     },
     "execution_count": 372,
     "metadata": {},
     "output_type": "execute_result"
    }
   ],
   "source": [
    "item_categories = item_categories.drop(columns='상품분류명')\n",
    "item_categories.head()"
   ],
   "metadata": {
    "collapsed": false,
    "pycharm": {
     "name": "#%%\n"
    }
   }
  },
  {
   "cell_type": "markdown",
   "source": [
    "### 9.4.3 피처 엔지니어링III: 데이터 조합 및 파생 피처 생성"
   ],
   "metadata": {
    "collapsed": false
   }
  },
  {
   "cell_type": "code",
   "execution_count": 373,
   "outputs": [],
   "source": [
    "# 데이터 조합\n",
    "from itertools import product\n",
    "train = []\n",
    "for i in sales_train['월ID'].unique():\n",
    "    all_shop = sales_train.loc[sales_train['월ID']==i, '상점ID'].unique()\n",
    "    all_item = sales_train.loc[sales_train['월ID']==i, '상점ID'].unique()\n",
    "    train.append(np.array(list(product([i], all_shop, all_item))))\n",
    "idx_features = ['월ID', '상점ID', '상품ID']\n",
    "train = pd.DataFrame(np.vstack(train), columns=idx_features)"
   ],
   "metadata": {
    "collapsed": false,
    "pycharm": {
     "name": "#%%\n"
    }
   }
  },
  {
   "cell_type": "code",
   "execution_count": 374,
   "outputs": [
    {
     "data": {
      "text/plain": "   월ID  상점ID  상품ID  월간 판매량  평균 판매가\n0    0    59    59     NaN     NaN\n1    0    59    25     NaN     NaN\n2    0    59    24     NaN     NaN\n3    0    59    23     NaN     NaN\n4    0    59    19     NaN     NaN",
      "text/html": "<div>\n<style scoped>\n    .dataframe tbody tr th:only-of-type {\n        vertical-align: middle;\n    }\n\n    .dataframe tbody tr th {\n        vertical-align: top;\n    }\n\n    .dataframe thead th {\n        text-align: right;\n    }\n</style>\n<table border=\"1\" class=\"dataframe\">\n  <thead>\n    <tr style=\"text-align: right;\">\n      <th></th>\n      <th>월ID</th>\n      <th>상점ID</th>\n      <th>상품ID</th>\n      <th>월간 판매량</th>\n      <th>평균 판매가</th>\n    </tr>\n  </thead>\n  <tbody>\n    <tr>\n      <th>0</th>\n      <td>0</td>\n      <td>59</td>\n      <td>59</td>\n      <td>NaN</td>\n      <td>NaN</td>\n    </tr>\n    <tr>\n      <th>1</th>\n      <td>0</td>\n      <td>59</td>\n      <td>25</td>\n      <td>NaN</td>\n      <td>NaN</td>\n    </tr>\n    <tr>\n      <th>2</th>\n      <td>0</td>\n      <td>59</td>\n      <td>24</td>\n      <td>NaN</td>\n      <td>NaN</td>\n    </tr>\n    <tr>\n      <th>3</th>\n      <td>0</td>\n      <td>59</td>\n      <td>23</td>\n      <td>NaN</td>\n      <td>NaN</td>\n    </tr>\n    <tr>\n      <th>4</th>\n      <td>0</td>\n      <td>59</td>\n      <td>19</td>\n      <td>NaN</td>\n      <td>NaN</td>\n    </tr>\n  </tbody>\n</table>\n</div>"
     },
     "execution_count": 374,
     "metadata": {},
     "output_type": "execute_result"
    }
   ],
   "source": [
    "# 파생 피처 생성\n",
    "group = sales_train.groupby(idx_features).agg({'판매량': 'sum', '판매가': 'mean'})\n",
    "group = group.reset_index()\n",
    "group = group.rename(columns={'판매량':'월간 판매량', '판매가':'평균 판매가'})\n",
    "train = train.merge(group, on=idx_features, how='left')\n",
    "train.head()"
   ],
   "metadata": {
    "collapsed": false,
    "pycharm": {
     "name": "#%%\n"
    }
   }
  },
  {
   "cell_type": "code",
   "execution_count": 375,
   "outputs": [
    {
     "data": {
      "text/plain": "8"
     },
     "execution_count": 375,
     "metadata": {},
     "output_type": "execute_result"
    }
   ],
   "source": [
    "import gc\n",
    "\n",
    "del group\n",
    "gc.collect()"
   ],
   "metadata": {
    "collapsed": false,
    "pycharm": {
     "name": "#%%\n"
    }
   }
  },
  {
   "cell_type": "code",
   "execution_count": 376,
   "outputs": [
    {
     "data": {
      "text/plain": "0"
     },
     "execution_count": 376,
     "metadata": {},
     "output_type": "execute_result"
    }
   ],
   "source": [
    "group = sales_train.groupby(idx_features).agg({'판매량':'count'})\n",
    "group = group.reset_index()\n",
    "group = group.rename(columns={'판매량': '판매건수'})\n",
    "train = train.merge(group, on=idx_features, how='left')\n",
    "del group, sales_train\n",
    "gc.collect()"
   ],
   "metadata": {
    "collapsed": false,
    "pycharm": {
     "name": "#%%\n"
    }
   }
  },
  {
   "cell_type": "code",
   "execution_count": 377,
   "outputs": [
    {
     "data": {
      "text/plain": "    월ID  상점ID  상품ID  월간 판매량  평균 판매가  판매건수\n0     0    59    59     NaN     NaN   NaN\n1     0    59    25     NaN     NaN   NaN\n2     0    59    24     NaN     NaN   NaN\n3     0    59    23     NaN     NaN   NaN\n4     0    59    19     NaN     NaN   NaN\n5     0    59    22     NaN     NaN   NaN\n6     0    59    18     NaN     NaN   NaN\n7     0    59    21     NaN     NaN   NaN\n8     0    59    28     NaN     NaN   NaN\n9     0    59    27     NaN     NaN   NaN\n10    0    59    29     NaN     NaN   NaN\n11    0    59    26     NaN     NaN   NaN\n12    0    59     4     NaN     NaN   NaN\n13    0    59     6     NaN     NaN   NaN\n14    0    59     2     NaN     NaN   NaN\n15    0    59     3     NaN     NaN   NaN\n16    0    59     7     NaN     NaN   NaN\n17    0    59    57     NaN     NaN   NaN\n18    0    59    58     NaN     NaN   NaN\n19    0    59    16     NaN     NaN   NaN\n20    0    59    15     NaN     NaN   NaN\n21    0    59     8     NaN     NaN   NaN\n22    0    59    11     NaN     NaN   NaN\n23    0    59    14     NaN     NaN   NaN\n24    0    59    13     NaN     NaN   NaN\n25    0    59    12     NaN     NaN   NaN\n26    0    59    53     NaN     NaN   NaN\n27    0    59    31     NaN     NaN   NaN\n28    0    59    30     NaN     NaN   NaN\n29    0    59    32     3.0   349.0   3.0",
      "text/html": "<div>\n<style scoped>\n    .dataframe tbody tr th:only-of-type {\n        vertical-align: middle;\n    }\n\n    .dataframe tbody tr th {\n        vertical-align: top;\n    }\n\n    .dataframe thead th {\n        text-align: right;\n    }\n</style>\n<table border=\"1\" class=\"dataframe\">\n  <thead>\n    <tr style=\"text-align: right;\">\n      <th></th>\n      <th>월ID</th>\n      <th>상점ID</th>\n      <th>상품ID</th>\n      <th>월간 판매량</th>\n      <th>평균 판매가</th>\n      <th>판매건수</th>\n    </tr>\n  </thead>\n  <tbody>\n    <tr>\n      <th>0</th>\n      <td>0</td>\n      <td>59</td>\n      <td>59</td>\n      <td>NaN</td>\n      <td>NaN</td>\n      <td>NaN</td>\n    </tr>\n    <tr>\n      <th>1</th>\n      <td>0</td>\n      <td>59</td>\n      <td>25</td>\n      <td>NaN</td>\n      <td>NaN</td>\n      <td>NaN</td>\n    </tr>\n    <tr>\n      <th>2</th>\n      <td>0</td>\n      <td>59</td>\n      <td>24</td>\n      <td>NaN</td>\n      <td>NaN</td>\n      <td>NaN</td>\n    </tr>\n    <tr>\n      <th>3</th>\n      <td>0</td>\n      <td>59</td>\n      <td>23</td>\n      <td>NaN</td>\n      <td>NaN</td>\n      <td>NaN</td>\n    </tr>\n    <tr>\n      <th>4</th>\n      <td>0</td>\n      <td>59</td>\n      <td>19</td>\n      <td>NaN</td>\n      <td>NaN</td>\n      <td>NaN</td>\n    </tr>\n    <tr>\n      <th>5</th>\n      <td>0</td>\n      <td>59</td>\n      <td>22</td>\n      <td>NaN</td>\n      <td>NaN</td>\n      <td>NaN</td>\n    </tr>\n    <tr>\n      <th>6</th>\n      <td>0</td>\n      <td>59</td>\n      <td>18</td>\n      <td>NaN</td>\n      <td>NaN</td>\n      <td>NaN</td>\n    </tr>\n    <tr>\n      <th>7</th>\n      <td>0</td>\n      <td>59</td>\n      <td>21</td>\n      <td>NaN</td>\n      <td>NaN</td>\n      <td>NaN</td>\n    </tr>\n    <tr>\n      <th>8</th>\n      <td>0</td>\n      <td>59</td>\n      <td>28</td>\n      <td>NaN</td>\n      <td>NaN</td>\n      <td>NaN</td>\n    </tr>\n    <tr>\n      <th>9</th>\n      <td>0</td>\n      <td>59</td>\n      <td>27</td>\n      <td>NaN</td>\n      <td>NaN</td>\n      <td>NaN</td>\n    </tr>\n    <tr>\n      <th>10</th>\n      <td>0</td>\n      <td>59</td>\n      <td>29</td>\n      <td>NaN</td>\n      <td>NaN</td>\n      <td>NaN</td>\n    </tr>\n    <tr>\n      <th>11</th>\n      <td>0</td>\n      <td>59</td>\n      <td>26</td>\n      <td>NaN</td>\n      <td>NaN</td>\n      <td>NaN</td>\n    </tr>\n    <tr>\n      <th>12</th>\n      <td>0</td>\n      <td>59</td>\n      <td>4</td>\n      <td>NaN</td>\n      <td>NaN</td>\n      <td>NaN</td>\n    </tr>\n    <tr>\n      <th>13</th>\n      <td>0</td>\n      <td>59</td>\n      <td>6</td>\n      <td>NaN</td>\n      <td>NaN</td>\n      <td>NaN</td>\n    </tr>\n    <tr>\n      <th>14</th>\n      <td>0</td>\n      <td>59</td>\n      <td>2</td>\n      <td>NaN</td>\n      <td>NaN</td>\n      <td>NaN</td>\n    </tr>\n    <tr>\n      <th>15</th>\n      <td>0</td>\n      <td>59</td>\n      <td>3</td>\n      <td>NaN</td>\n      <td>NaN</td>\n      <td>NaN</td>\n    </tr>\n    <tr>\n      <th>16</th>\n      <td>0</td>\n      <td>59</td>\n      <td>7</td>\n      <td>NaN</td>\n      <td>NaN</td>\n      <td>NaN</td>\n    </tr>\n    <tr>\n      <th>17</th>\n      <td>0</td>\n      <td>59</td>\n      <td>57</td>\n      <td>NaN</td>\n      <td>NaN</td>\n      <td>NaN</td>\n    </tr>\n    <tr>\n      <th>18</th>\n      <td>0</td>\n      <td>59</td>\n      <td>58</td>\n      <td>NaN</td>\n      <td>NaN</td>\n      <td>NaN</td>\n    </tr>\n    <tr>\n      <th>19</th>\n      <td>0</td>\n      <td>59</td>\n      <td>16</td>\n      <td>NaN</td>\n      <td>NaN</td>\n      <td>NaN</td>\n    </tr>\n    <tr>\n      <th>20</th>\n      <td>0</td>\n      <td>59</td>\n      <td>15</td>\n      <td>NaN</td>\n      <td>NaN</td>\n      <td>NaN</td>\n    </tr>\n    <tr>\n      <th>21</th>\n      <td>0</td>\n      <td>59</td>\n      <td>8</td>\n      <td>NaN</td>\n      <td>NaN</td>\n      <td>NaN</td>\n    </tr>\n    <tr>\n      <th>22</th>\n      <td>0</td>\n      <td>59</td>\n      <td>11</td>\n      <td>NaN</td>\n      <td>NaN</td>\n      <td>NaN</td>\n    </tr>\n    <tr>\n      <th>23</th>\n      <td>0</td>\n      <td>59</td>\n      <td>14</td>\n      <td>NaN</td>\n      <td>NaN</td>\n      <td>NaN</td>\n    </tr>\n    <tr>\n      <th>24</th>\n      <td>0</td>\n      <td>59</td>\n      <td>13</td>\n      <td>NaN</td>\n      <td>NaN</td>\n      <td>NaN</td>\n    </tr>\n    <tr>\n      <th>25</th>\n      <td>0</td>\n      <td>59</td>\n      <td>12</td>\n      <td>NaN</td>\n      <td>NaN</td>\n      <td>NaN</td>\n    </tr>\n    <tr>\n      <th>26</th>\n      <td>0</td>\n      <td>59</td>\n      <td>53</td>\n      <td>NaN</td>\n      <td>NaN</td>\n      <td>NaN</td>\n    </tr>\n    <tr>\n      <th>27</th>\n      <td>0</td>\n      <td>59</td>\n      <td>31</td>\n      <td>NaN</td>\n      <td>NaN</td>\n      <td>NaN</td>\n    </tr>\n    <tr>\n      <th>28</th>\n      <td>0</td>\n      <td>59</td>\n      <td>30</td>\n      <td>NaN</td>\n      <td>NaN</td>\n      <td>NaN</td>\n    </tr>\n    <tr>\n      <th>29</th>\n      <td>0</td>\n      <td>59</td>\n      <td>32</td>\n      <td>3.0</td>\n      <td>349.0</td>\n      <td>3.0</td>\n    </tr>\n  </tbody>\n</table>\n</div>"
     },
     "execution_count": 377,
     "metadata": {},
     "output_type": "execute_result"
    }
   ],
   "source": [
    "train.head(30)"
   ],
   "metadata": {
    "collapsed": false,
    "pycharm": {
     "name": "#%%\n"
    }
   }
  },
  {
   "cell_type": "markdown",
   "source": [
    "### 9.4.4 피처 엔지니어링IV: 데이터 합치기"
   ],
   "metadata": {
    "collapsed": false
   }
  },
  {
   "cell_type": "code",
   "execution_count": 378,
   "outputs": [],
   "source": [
    "test['월ID'] = 34"
   ],
   "metadata": {
    "collapsed": false,
    "pycharm": {
     "name": "#%%\n"
    }
   }
  },
  {
   "cell_type": "code",
   "execution_count": 379,
   "outputs": [
    {
     "data": {
      "text/plain": "   월ID  상점ID  상품ID  월간 판매량  평균 판매가  판매건수\n0    0    59    59     0.0     0.0   0.0\n1    0    59    25     0.0     0.0   0.0\n2    0    59    24     0.0     0.0   0.0\n3    0    59    23     0.0     0.0   0.0\n4    0    59    19     0.0     0.0   0.0",
      "text/html": "<div>\n<style scoped>\n    .dataframe tbody tr th:only-of-type {\n        vertical-align: middle;\n    }\n\n    .dataframe tbody tr th {\n        vertical-align: top;\n    }\n\n    .dataframe thead th {\n        text-align: right;\n    }\n</style>\n<table border=\"1\" class=\"dataframe\">\n  <thead>\n    <tr style=\"text-align: right;\">\n      <th></th>\n      <th>월ID</th>\n      <th>상점ID</th>\n      <th>상품ID</th>\n      <th>월간 판매량</th>\n      <th>평균 판매가</th>\n      <th>판매건수</th>\n    </tr>\n  </thead>\n  <tbody>\n    <tr>\n      <th>0</th>\n      <td>0</td>\n      <td>59</td>\n      <td>59</td>\n      <td>0.0</td>\n      <td>0.0</td>\n      <td>0.0</td>\n    </tr>\n    <tr>\n      <th>1</th>\n      <td>0</td>\n      <td>59</td>\n      <td>25</td>\n      <td>0.0</td>\n      <td>0.0</td>\n      <td>0.0</td>\n    </tr>\n    <tr>\n      <th>2</th>\n      <td>0</td>\n      <td>59</td>\n      <td>24</td>\n      <td>0.0</td>\n      <td>0.0</td>\n      <td>0.0</td>\n    </tr>\n    <tr>\n      <th>3</th>\n      <td>0</td>\n      <td>59</td>\n      <td>23</td>\n      <td>0.0</td>\n      <td>0.0</td>\n      <td>0.0</td>\n    </tr>\n    <tr>\n      <th>4</th>\n      <td>0</td>\n      <td>59</td>\n      <td>19</td>\n      <td>0.0</td>\n      <td>0.0</td>\n      <td>0.0</td>\n    </tr>\n  </tbody>\n</table>\n</div>"
     },
     "execution_count": 379,
     "metadata": {},
     "output_type": "execute_result"
    }
   ],
   "source": [
    "all_data = pd.concat([train, test.drop(columns='ID')], ignore_index=True, keys=idx_features)\n",
    "all_data = all_data.fillna(0)\n",
    "all_data.head()"
   ],
   "metadata": {
    "collapsed": false,
    "pycharm": {
     "name": "#%%\n"
    }
   }
  },
  {
   "cell_type": "code",
   "execution_count": 380,
   "outputs": [
    {
     "name": "stdout",
     "output_type": "stream",
     "text": [
      "73.08 % 압축됨\n"
     ]
    }
   ],
   "source": [
    "# 모든 데이터 병합\n",
    "all_data = all_data.merge(shops, on='상점ID', how='left')\n",
    "all_data = all_data.merge(items, on='상품ID', how='left')\n",
    "all_data = all_data.merge(item_categories, on='상품분류ID', how='left')\n",
    "\n",
    "all_data = downcast(all_data)"
   ],
   "metadata": {
    "collapsed": false,
    "pycharm": {
     "name": "#%%\n"
    }
   }
  },
  {
   "cell_type": "code",
   "execution_count": 381,
   "outputs": [
    {
     "data": {
      "text/plain": "0"
     },
     "execution_count": 381,
     "metadata": {},
     "output_type": "execute_result"
    }
   ],
   "source": [
    "del shops, items, item_categories\n",
    "gc.collect()"
   ],
   "metadata": {
    "collapsed": false,
    "pycharm": {
     "name": "#%%\n"
    }
   }
  },
  {
   "cell_type": "markdown",
   "source": [
    "### 9.4.5 피처 엔지니어링V: 시차 피처 생성"
   ],
   "metadata": {
    "collapsed": false
   }
  },
  {
   "cell_type": "code",
   "execution_count": 382,
   "outputs": [],
   "source": [
    "# 기준 피처별 월간 평균 판매량 파생 피처 생성\n",
    "def add_mean_features(df, mean_features, idx_features):\n",
    "    assert (idx_features[0] == '월ID') and len(idx_features) in [2,3]\n",
    "\n",
    "    if len(idx_features) == 2:\n",
    "        feature_name = idx_features[1] + '별 평균 판매량'\n",
    "    else:\n",
    "        feature_name = idx_features[1] + ' ' + idx_features[2] + '별 평균 판매량'\n",
    "\n",
    "    group = df.groupby(idx_features).agg({'월간 판매량': 'mean'})\n",
    "    group = group.reset_index()\n",
    "    group = group.rename(columns={'월간 판매량': feature_name})\n",
    "\n",
    "    df = df.merge(group, on=idx_features, how='left')\n",
    "    df = downcast(df, verbose=False)\n",
    "    mean_features.append(feature_name)\n",
    "    del group\n",
    "    gc.collect()\n",
    "    return df, mean_features"
   ],
   "metadata": {
    "collapsed": false,
    "pycharm": {
     "name": "#%%\n"
    }
   }
  },
  {
   "cell_type": "code",
   "execution_count": 383,
   "outputs": [],
   "source": [
    "item_mean_features = []\n",
    "\n",
    "all_data, item_mean_features = add_mean_features(\n",
    "    df = all_data,\n",
    "    mean_features=item_mean_features,\n",
    "    idx_features=['월ID', '상품ID']\n",
    ")\n",
    "\n",
    "all_data, item_mean_features = add_mean_features(\n",
    "    df = all_data,\n",
    "    mean_features=item_mean_features,\n",
    "    idx_features=['월ID', '상품ID', '도시']\n",
    ")"
   ],
   "metadata": {
    "collapsed": false,
    "pycharm": {
     "name": "#%%\n"
    }
   }
  },
  {
   "cell_type": "code",
   "execution_count": 384,
   "outputs": [],
   "source": [
    "shop_mean_features = []\n",
    "all_data, shop_mean_features = add_mean_features(\n",
    "    df=all_data,\n",
    "    mean_features=shop_mean_features,\n",
    "    idx_features=['월ID', '상점ID', '상품분류ID']\n",
    ")"
   ],
   "metadata": {
    "collapsed": false,
    "pycharm": {
     "name": "#%%\n"
    }
   }
  },
  {
   "cell_type": "code",
   "execution_count": 385,
   "outputs": [],
   "source": [
    "# 시차 피처 생성 원리 및 함수 구현\n",
    "def add_lag_features(df, lag_features_to_clip, idx_features, lag_feature, nlags=3, clip=False):\n",
    "    df_temp = df[idx_features+[lag_feature]].copy()\n",
    "    for i in range(1, nlags+1):\n",
    "        lag_feature_name = lag_feature + '_시차' + str(i)\n",
    "        df_temp.columns = idx_features + [lag_feature_name]\n",
    "        df_temp['월ID'] += 1\n",
    "        df = df.merge(df_temp.drop_duplicates(), on=idx_features, how='left')\n",
    "        df[lag_feature_name] = df[lag_feature_name].fillna(0)\n",
    "        if clip:\n",
    "            lag_features_to_clip.append(lag_feature_name)\n",
    "    df = downcast(df, False)\n",
    "    del df_temp\n",
    "    gc.collect()\n",
    "    return df, lag_features_to_clip"
   ],
   "metadata": {
    "collapsed": false,
    "pycharm": {
     "name": "#%%\n"
    }
   }
  },
  {
   "cell_type": "code",
   "execution_count": 386,
   "outputs": [],
   "source": [
    "# 시차 피처 생성I : 월간 판매량\n",
    "lag_features_to_clip = [] # 0 ~ 20 사이로 제한할 시차 피처명을 담을 리스트\n",
    "idx_features = ['월ID', '상점ID', '상품ID'] # 기준 피처\n",
    "\n",
    "# idx_features를 기준으로 월간 판매량의 세 달치 시차 피처 생성\n",
    "all_data, lag_features_to_clip = add_lag_features(df=all_data,\n",
    "                                                  lag_features_to_clip=lag_features_to_clip,\n",
    "                                                  idx_features=idx_features,\n",
    "                                                  lag_feature='월간 판매량',\n",
    "                                                  nlags=3,\n",
    "                                                  clip=True) # 값을 0 ~ 20 사이로 제한"
   ],
   "metadata": {
    "collapsed": false,
    "pycharm": {
     "name": "#%%\n"
    }
   }
  },
  {
   "cell_type": "code",
   "execution_count": 387,
   "outputs": [],
   "source": [
    "# 시차 피처 생성 II: 판매건수, 평균 판매가\n",
    "# idx_features를 기준으로 판매건수 피처의 세 달치 시차 피처 생성\n",
    "all_data, lag_features_to_clip = add_lag_features(df=all_data,\n",
    "                                                  lag_features_to_clip=lag_features_to_clip,\n",
    "                                                  idx_features=idx_features,\n",
    "                                                  lag_feature='판매건수',\n",
    "                                                  nlags=3)\n",
    "\n",
    "# idx_features를 기준으로 평균 판매가 피처의 세 달치 시차 피처 생성\n",
    "all_data, lag_features_to_clip = add_lag_features(df=all_data,\n",
    "                                                  lag_features_to_clip=lag_features_to_clip,\n",
    "                                                  idx_features=idx_features,\n",
    "                                                  lag_feature='평균 판매가',\n",
    "                                                  nlags=3)"
   ],
   "metadata": {
    "collapsed": false,
    "pycharm": {
     "name": "#%%\n"
    }
   }
  },
  {
   "cell_type": "code",
   "execution_count": 388,
   "outputs": [],
   "source": [
    "# 시차 피처 생성 III: 평균 판매량\n",
    "# idx_features를 기준으로 item_mean_features 요소별 시차 피처 생성\n",
    "for item_mean_feature in item_mean_features:\n",
    "    all_data, lag_features_to_clip = add_lag_features(df=all_data,\n",
    "                                                      lag_features_to_clip=lag_features_to_clip,\n",
    "                                                      idx_features=idx_features,\n",
    "                                                      lag_feature=item_mean_feature,\n",
    "                                                      nlags=3,\n",
    "                                                      clip=True)\n",
    "# item_mean_features 피처 제거\n",
    "all_data = all_data.drop(item_mean_features, axis=1)"
   ],
   "metadata": {
    "collapsed": false,
    "pycharm": {
     "name": "#%%\n"
    }
   }
  },
  {
   "cell_type": "code",
   "execution_count": 391,
   "outputs": [
    {
     "data": {
      "text/plain": "      월ID  상점ID  상품ID  월간 판매량      평균 판매가  판매건수  도시  상품분류ID  첫 판매월  대분류  ...  \\\n4224    2     2    27       0    0.000000     0   0      19      0    3  ...   \n4245    2    41    32       2  349.000000     2  18      40      0    5  ...   \n4291    2    38    32       1  349.000000     1  17      40      0    5  ...   \n4331    2    44    35       0    0.000000     0  20      40      0    5  ...   \n4337    2    44    32       4  349.000000     4  20      40      0    5  ...   \n4377    2    37    35       0    0.000000     0  16      40      0    5  ...   \n4383    2    37    32       2  349.000000     2  16      40      0    5  ...   \n4392    2    37    52       0    0.000000     0  16      57      0    7  ...   \n4423    2    35    35       1  379.049988     1  15      40      0    5  ...   \n4429    2    35    32       4  344.500000     4  15      40      0    5  ...   \n4453    2    35    28       0    0.000000     0  15      30      0    3  ...   \n4469    2    46    35       0    0.000000     0  21      40      0    5  ...   \n4475    2    46    32       3  349.000000     3  21      40      0    5  ...   \n4499    2    46    28       0    0.000000     0  21      30      0    3  ...   \n4511    2    42    41       0    0.000000     0  19      57      0    7  ...   \n4515    2    42    35       1  399.000000     1  19      40      0    5  ...   \n4518    2    42    45       0    0.000000     0  19      57      0    7  ...   \n4521    2    42    32       1  349.000000     1  19      40      0    5  ...   \n4526    2    42    47       0    0.000000     0  19      57      0    7  ...   \n4530    2    42    52       0    0.000000     0  19      57      0    7  ...   \n4552    2    42    59       1  249.000000     1  19      57      0    7  ...   \n4567    2    45    32       8  349.000000     6  20      40      0    5  ...   \n4592    2    45    27       0    0.000000     0  20      19      0    3  ...   \n4603    2    31    41       0    0.000000     0  13      57      0    7  ...   \n4605    2    31    44       0    0.000000     0  13      57      0    7  ...   \n4607    2    31    35       2  399.000000     2  13      40      0    5  ...   \n4608    2    31    46       0    0.000000     0  13      57      0    7  ...   \n4610    2    31    45       0    0.000000     0  13      57      0    7  ...   \n4613    2    31    32      13  349.000000    10  13      40      0    5  ...   \n4614    2    31    54       0    0.000000     0  13      57      0    7  ...   \n4615    2    31    53       1  299.000000     1  13      57      0    7  ...   \n4618    2    31    47       0    0.000000     0  13      57      0    7  ...   \n4621    2    31    51       0    0.000000     0  13      57      0    7  ...   \n4622    2    31    52       0    0.000000     0  13      57      0    7  ...   \n4637    2    31    28       0    0.000000     0  13      30      0    3  ...   \n4638    2    31    27       0    0.000000     0  13      19      0    3  ...   \n4639    2    31    29       0    0.000000     0  13      23      0    3  ...   \n4644    2    31    59       3  249.000000     2  13      57      0    7  ...   \n4653    2    30    35       0    0.000000     0  13      40      0    5  ...   \n4659    2    30    32       2  349.000000     2  13      40      0    5  ...   \n4661    2    30    53       1  299.000000     1  13      57      0    7  ...   \n4667    2    30    51       2  223.899994     2  13      57      0    7  ...   \n4699    2    32    35       0    0.000000     0  13      40      0    5  ...   \n4705    2    32    32       3  349.000000     3  13      40      0    5  ...   \n4741    2    54    41       1  249.000000     1  26      57      0    7  ...   \n4745    2    54    35       2  399.000000     2  26      40      0    5  ...   \n4748    2    54    45       3  299.000000     3  26      57      0    7  ...   \n4751    2    54    32      13  349.000000    11  26      40      0    5  ...   \n4752    2    54    54       0    0.000000     0  26      57      0    7  ...   \n4753    2    54    53       0    0.000000     0  26      57      0    7  ...   \n\n      판매건수_시차3  평균 판매가_시차1   평균 판매가_시차2  평균 판매가_시차3  상품ID별 평균 판매량_시차1  \\\n4224         0         0.0  2499.000000         0.0          0.065217   \n4245         0       349.0   349.000000         0.0          4.521739   \n4291         0       349.0   349.000000         0.0          4.521739   \n4331         0       399.0   399.000000         0.0          2.586957   \n4337         0       349.0   349.000000         0.0          4.521739   \n4377         0       399.0   399.000000         0.0          2.586957   \n4383         0       349.0   349.000000         0.0          4.521739   \n4392         0         0.0   249.000000         0.0          0.108696   \n4423         0       399.0   399.000000         0.0          2.586957   \n4429         0       349.0   344.637512         0.0          4.521739   \n4453         0       473.5   549.000000         0.0          0.173913   \n4469         0       399.0   399.000000         0.0          2.586957   \n4475         0       349.0   349.000000         0.0          4.521739   \n4499         0       398.0   549.000000         0.0          0.173913   \n4511         0         0.0   249.000000         0.0          0.108696   \n4515         0       399.0   399.000000         0.0          2.586957   \n4518         0         0.0   299.000000         0.0          0.152174   \n4521         0       349.0   348.937775         0.0          4.521739   \n4526         0         0.0   249.000000         0.0          0.086957   \n4530         0         0.0   249.000000         0.0          0.108696   \n4552         0       249.0   249.000000         0.0          0.391304   \n4567         0       349.0   349.000000         0.0          4.521739   \n4592         0         0.0  2499.000000         0.0          0.065217   \n4603         0         0.0   249.000000         0.0          0.108696   \n4605         0       249.0   249.000000         0.0          0.108696   \n4607         0       399.0   399.000000         0.0          2.586957   \n4608         0       249.0   249.000000         0.0          0.065217   \n4610         0       299.0   299.000000         0.0          0.152174   \n4613         0       349.0   349.000000         0.0          4.521739   \n4614         0         0.0   299.000000         0.0          0.086957   \n4615         0       299.0   299.000000         0.0          0.130435   \n4618         0       249.0   249.000000         0.0          0.086957   \n4621         0       249.0   249.000000         0.0          0.391304   \n4622         0         0.0   249.000000         0.0          0.108696   \n4637         0         0.0   549.000000         0.0          0.173913   \n4638         0         0.0  2499.000000         0.0          0.065217   \n4639         0         0.0  2499.000000         0.0          0.000000   \n4644         0       249.0   249.000000         0.0          0.391304   \n4653         0       399.0   399.000000         0.0          2.586957   \n4659         0       349.0   349.000000         0.0          4.521739   \n4661         0         0.0   299.000000         0.0          0.130435   \n4667         0       249.0   249.000000         0.0          0.391304   \n4699         0         0.0   399.000000         0.0          2.586957   \n4705         0         0.0   349.000000         0.0          4.521739   \n4741         0       249.0   249.000000         0.0          0.108696   \n4745         0       399.0   399.000000         0.0          2.586957   \n4748         0         0.0   299.000000         0.0          0.152174   \n4751         0       349.0   349.000000         0.0          4.521739   \n4752         0         0.0   299.000000         0.0          0.086957   \n4753         0         0.0   299.000000         0.0          0.130435   \n\n      상품ID별 평균 판매량_시차2  상품ID별 평균 판매량_시차3  상품ID 도시별 평균 판매량_시차1  \\\n4224          0.155556               0.0             0.000000   \n4245          6.644444               0.0             1.000000   \n4291          6.644444               0.0             1.000000   \n4331          1.733333               0.0             1.500000   \n4337          6.644444               0.0             6.500000   \n4377          1.733333               0.0             1.000000   \n4383          6.644444               0.0             2.000000   \n4392          0.155556               0.0             0.000000   \n4423          1.733333               0.0             4.000000   \n4429          6.644444               0.0             2.000000   \n4453          0.177778               0.0             2.000000   \n4469          1.733333               0.0             1.000000   \n4475          6.644444               0.0             9.000000   \n4499          0.177778               0.0             2.000000   \n4511          0.200000               0.0             0.000000   \n4515          1.733333               0.0             2.500000   \n4518          0.177778               0.0             0.000000   \n4521          6.644444               0.0             4.000000   \n4526          0.133333               0.0             0.000000   \n4530          0.155556               0.0             0.000000   \n4552          0.400000               0.0             1.000000   \n4567          6.644444               0.0             6.500000   \n4592          0.155556               0.0             0.000000   \n4603          0.200000               0.0             0.166667   \n4605          0.133333               0.0             0.250000   \n4607          1.733333               0.0             3.083333   \n4608          0.044444               0.0             0.250000   \n4610          0.177778               0.0             0.583333   \n4613          6.644444               0.0             7.000000   \n4614          0.133333               0.0             0.333333   \n4615          0.177778               0.0             0.500000   \n4618          0.133333               0.0             0.333333   \n4621          0.288889               0.0             0.833333   \n4622          0.155556               0.0             0.333333   \n4637          0.177778               0.0             0.083333   \n4638          0.155556               0.0             0.166667   \n4639          0.111111               0.0             0.000000   \n4644          0.400000               0.0             0.750000   \n4653          1.733333               0.0             3.083333   \n4659          6.644444               0.0             7.000000   \n4661          0.177778               0.0             0.500000   \n4667          0.288889               0.0             0.833333   \n4699          1.733333               0.0             3.083333   \n4705          6.644444               0.0             7.000000   \n4741          0.200000               0.0             1.000000   \n4745          1.733333               0.0            12.000000   \n4748          0.177778               0.0             0.000000   \n4751          6.644444               0.0            18.000000   \n4752          0.133333               0.0             0.000000   \n4753          0.177778               0.0             0.000000   \n\n      상품ID 도시별 평균 판매량_시차2  상품ID 도시별 평균 판매량_시차3  \n4224             1.000000                  0.0  \n4245             1.000000                  0.0  \n4291             4.000000                  0.0  \n4331             1.000000                  0.0  \n4337             5.500000                  0.0  \n4377             1.000000                  0.0  \n4383             2.000000                  0.0  \n4392             1.000000                  0.0  \n4423             2.000000                  0.0  \n4429             5.000000                  0.0  \n4453             1.000000                  0.0  \n4469             2.000000                  0.0  \n4475            11.000000                  0.0  \n4499             1.000000                  0.0  \n4511             1.000000                  0.0  \n4515             2.000000                  0.0  \n4518             0.500000                  0.0  \n4521             5.500000                  0.0  \n4526             0.500000                  0.0  \n4530             0.500000                  0.0  \n4552             1.000000                  0.0  \n4567             5.500000                  0.0  \n4592             0.500000                  0.0  \n4603             0.250000                  0.0  \n4605             0.333333                  0.0  \n4607             3.000000                  0.0  \n4608             0.083333                  0.0  \n4610             0.416667                  0.0  \n4613            12.083333                  0.0  \n4614             0.416667                  0.0  \n4615             0.250000                  0.0  \n4618             0.166667                  0.0  \n4621             0.750000                  0.0  \n4622             0.250000                  0.0  \n4637             0.250000                  0.0  \n4638             0.166667                  0.0  \n4639             0.250000                  0.0  \n4644             0.750000                  0.0  \n4653             3.000000                  0.0  \n4659            12.083333                  0.0  \n4661             0.250000                  0.0  \n4667             0.750000                  0.0  \n4699             3.000000                  0.0  \n4705            12.083333                  0.0  \n4741             1.000000                  0.0  \n4745             9.000000                  0.0  \n4748             1.000000                  0.0  \n4751            28.000000                  0.0  \n4752             1.000000                  0.0  \n4753             1.000000                  0.0  \n\n[50 rows x 26 columns]",
      "text/html": "<div>\n<style scoped>\n    .dataframe tbody tr th:only-of-type {\n        vertical-align: middle;\n    }\n\n    .dataframe tbody tr th {\n        vertical-align: top;\n    }\n\n    .dataframe thead th {\n        text-align: right;\n    }\n</style>\n<table border=\"1\" class=\"dataframe\">\n  <thead>\n    <tr style=\"text-align: right;\">\n      <th></th>\n      <th>월ID</th>\n      <th>상점ID</th>\n      <th>상품ID</th>\n      <th>월간 판매량</th>\n      <th>평균 판매가</th>\n      <th>판매건수</th>\n      <th>도시</th>\n      <th>상품분류ID</th>\n      <th>첫 판매월</th>\n      <th>대분류</th>\n      <th>...</th>\n      <th>판매건수_시차3</th>\n      <th>평균 판매가_시차1</th>\n      <th>평균 판매가_시차2</th>\n      <th>평균 판매가_시차3</th>\n      <th>상품ID별 평균 판매량_시차1</th>\n      <th>상품ID별 평균 판매량_시차2</th>\n      <th>상품ID별 평균 판매량_시차3</th>\n      <th>상품ID 도시별 평균 판매량_시차1</th>\n      <th>상품ID 도시별 평균 판매량_시차2</th>\n      <th>상품ID 도시별 평균 판매량_시차3</th>\n    </tr>\n  </thead>\n  <tbody>\n    <tr>\n      <th>4224</th>\n      <td>2</td>\n      <td>2</td>\n      <td>27</td>\n      <td>0</td>\n      <td>0.000000</td>\n      <td>0</td>\n      <td>0</td>\n      <td>19</td>\n      <td>0</td>\n      <td>3</td>\n      <td>...</td>\n      <td>0</td>\n      <td>0.0</td>\n      <td>2499.000000</td>\n      <td>0.0</td>\n      <td>0.065217</td>\n      <td>0.155556</td>\n      <td>0.0</td>\n      <td>0.000000</td>\n      <td>1.000000</td>\n      <td>0.0</td>\n    </tr>\n    <tr>\n      <th>4245</th>\n      <td>2</td>\n      <td>41</td>\n      <td>32</td>\n      <td>2</td>\n      <td>349.000000</td>\n      <td>2</td>\n      <td>18</td>\n      <td>40</td>\n      <td>0</td>\n      <td>5</td>\n      <td>...</td>\n      <td>0</td>\n      <td>349.0</td>\n      <td>349.000000</td>\n      <td>0.0</td>\n      <td>4.521739</td>\n      <td>6.644444</td>\n      <td>0.0</td>\n      <td>1.000000</td>\n      <td>1.000000</td>\n      <td>0.0</td>\n    </tr>\n    <tr>\n      <th>4291</th>\n      <td>2</td>\n      <td>38</td>\n      <td>32</td>\n      <td>1</td>\n      <td>349.000000</td>\n      <td>1</td>\n      <td>17</td>\n      <td>40</td>\n      <td>0</td>\n      <td>5</td>\n      <td>...</td>\n      <td>0</td>\n      <td>349.0</td>\n      <td>349.000000</td>\n      <td>0.0</td>\n      <td>4.521739</td>\n      <td>6.644444</td>\n      <td>0.0</td>\n      <td>1.000000</td>\n      <td>4.000000</td>\n      <td>0.0</td>\n    </tr>\n    <tr>\n      <th>4331</th>\n      <td>2</td>\n      <td>44</td>\n      <td>35</td>\n      <td>0</td>\n      <td>0.000000</td>\n      <td>0</td>\n      <td>20</td>\n      <td>40</td>\n      <td>0</td>\n      <td>5</td>\n      <td>...</td>\n      <td>0</td>\n      <td>399.0</td>\n      <td>399.000000</td>\n      <td>0.0</td>\n      <td>2.586957</td>\n      <td>1.733333</td>\n      <td>0.0</td>\n      <td>1.500000</td>\n      <td>1.000000</td>\n      <td>0.0</td>\n    </tr>\n    <tr>\n      <th>4337</th>\n      <td>2</td>\n      <td>44</td>\n      <td>32</td>\n      <td>4</td>\n      <td>349.000000</td>\n      <td>4</td>\n      <td>20</td>\n      <td>40</td>\n      <td>0</td>\n      <td>5</td>\n      <td>...</td>\n      <td>0</td>\n      <td>349.0</td>\n      <td>349.000000</td>\n      <td>0.0</td>\n      <td>4.521739</td>\n      <td>6.644444</td>\n      <td>0.0</td>\n      <td>6.500000</td>\n      <td>5.500000</td>\n      <td>0.0</td>\n    </tr>\n    <tr>\n      <th>4377</th>\n      <td>2</td>\n      <td>37</td>\n      <td>35</td>\n      <td>0</td>\n      <td>0.000000</td>\n      <td>0</td>\n      <td>16</td>\n      <td>40</td>\n      <td>0</td>\n      <td>5</td>\n      <td>...</td>\n      <td>0</td>\n      <td>399.0</td>\n      <td>399.000000</td>\n      <td>0.0</td>\n      <td>2.586957</td>\n      <td>1.733333</td>\n      <td>0.0</td>\n      <td>1.000000</td>\n      <td>1.000000</td>\n      <td>0.0</td>\n    </tr>\n    <tr>\n      <th>4383</th>\n      <td>2</td>\n      <td>37</td>\n      <td>32</td>\n      <td>2</td>\n      <td>349.000000</td>\n      <td>2</td>\n      <td>16</td>\n      <td>40</td>\n      <td>0</td>\n      <td>5</td>\n      <td>...</td>\n      <td>0</td>\n      <td>349.0</td>\n      <td>349.000000</td>\n      <td>0.0</td>\n      <td>4.521739</td>\n      <td>6.644444</td>\n      <td>0.0</td>\n      <td>2.000000</td>\n      <td>2.000000</td>\n      <td>0.0</td>\n    </tr>\n    <tr>\n      <th>4392</th>\n      <td>2</td>\n      <td>37</td>\n      <td>52</td>\n      <td>0</td>\n      <td>0.000000</td>\n      <td>0</td>\n      <td>16</td>\n      <td>57</td>\n      <td>0</td>\n      <td>7</td>\n      <td>...</td>\n      <td>0</td>\n      <td>0.0</td>\n      <td>249.000000</td>\n      <td>0.0</td>\n      <td>0.108696</td>\n      <td>0.155556</td>\n      <td>0.0</td>\n      <td>0.000000</td>\n      <td>1.000000</td>\n      <td>0.0</td>\n    </tr>\n    <tr>\n      <th>4423</th>\n      <td>2</td>\n      <td>35</td>\n      <td>35</td>\n      <td>1</td>\n      <td>379.049988</td>\n      <td>1</td>\n      <td>15</td>\n      <td>40</td>\n      <td>0</td>\n      <td>5</td>\n      <td>...</td>\n      <td>0</td>\n      <td>399.0</td>\n      <td>399.000000</td>\n      <td>0.0</td>\n      <td>2.586957</td>\n      <td>1.733333</td>\n      <td>0.0</td>\n      <td>4.000000</td>\n      <td>2.000000</td>\n      <td>0.0</td>\n    </tr>\n    <tr>\n      <th>4429</th>\n      <td>2</td>\n      <td>35</td>\n      <td>32</td>\n      <td>4</td>\n      <td>344.500000</td>\n      <td>4</td>\n      <td>15</td>\n      <td>40</td>\n      <td>0</td>\n      <td>5</td>\n      <td>...</td>\n      <td>0</td>\n      <td>349.0</td>\n      <td>344.637512</td>\n      <td>0.0</td>\n      <td>4.521739</td>\n      <td>6.644444</td>\n      <td>0.0</td>\n      <td>2.000000</td>\n      <td>5.000000</td>\n      <td>0.0</td>\n    </tr>\n    <tr>\n      <th>4453</th>\n      <td>2</td>\n      <td>35</td>\n      <td>28</td>\n      <td>0</td>\n      <td>0.000000</td>\n      <td>0</td>\n      <td>15</td>\n      <td>30</td>\n      <td>0</td>\n      <td>3</td>\n      <td>...</td>\n      <td>0</td>\n      <td>473.5</td>\n      <td>549.000000</td>\n      <td>0.0</td>\n      <td>0.173913</td>\n      <td>0.177778</td>\n      <td>0.0</td>\n      <td>2.000000</td>\n      <td>1.000000</td>\n      <td>0.0</td>\n    </tr>\n    <tr>\n      <th>4469</th>\n      <td>2</td>\n      <td>46</td>\n      <td>35</td>\n      <td>0</td>\n      <td>0.000000</td>\n      <td>0</td>\n      <td>21</td>\n      <td>40</td>\n      <td>0</td>\n      <td>5</td>\n      <td>...</td>\n      <td>0</td>\n      <td>399.0</td>\n      <td>399.000000</td>\n      <td>0.0</td>\n      <td>2.586957</td>\n      <td>1.733333</td>\n      <td>0.0</td>\n      <td>1.000000</td>\n      <td>2.000000</td>\n      <td>0.0</td>\n    </tr>\n    <tr>\n      <th>4475</th>\n      <td>2</td>\n      <td>46</td>\n      <td>32</td>\n      <td>3</td>\n      <td>349.000000</td>\n      <td>3</td>\n      <td>21</td>\n      <td>40</td>\n      <td>0</td>\n      <td>5</td>\n      <td>...</td>\n      <td>0</td>\n      <td>349.0</td>\n      <td>349.000000</td>\n      <td>0.0</td>\n      <td>4.521739</td>\n      <td>6.644444</td>\n      <td>0.0</td>\n      <td>9.000000</td>\n      <td>11.000000</td>\n      <td>0.0</td>\n    </tr>\n    <tr>\n      <th>4499</th>\n      <td>2</td>\n      <td>46</td>\n      <td>28</td>\n      <td>0</td>\n      <td>0.000000</td>\n      <td>0</td>\n      <td>21</td>\n      <td>30</td>\n      <td>0</td>\n      <td>3</td>\n      <td>...</td>\n      <td>0</td>\n      <td>398.0</td>\n      <td>549.000000</td>\n      <td>0.0</td>\n      <td>0.173913</td>\n      <td>0.177778</td>\n      <td>0.0</td>\n      <td>2.000000</td>\n      <td>1.000000</td>\n      <td>0.0</td>\n    </tr>\n    <tr>\n      <th>4511</th>\n      <td>2</td>\n      <td>42</td>\n      <td>41</td>\n      <td>0</td>\n      <td>0.000000</td>\n      <td>0</td>\n      <td>19</td>\n      <td>57</td>\n      <td>0</td>\n      <td>7</td>\n      <td>...</td>\n      <td>0</td>\n      <td>0.0</td>\n      <td>249.000000</td>\n      <td>0.0</td>\n      <td>0.108696</td>\n      <td>0.200000</td>\n      <td>0.0</td>\n      <td>0.000000</td>\n      <td>1.000000</td>\n      <td>0.0</td>\n    </tr>\n    <tr>\n      <th>4515</th>\n      <td>2</td>\n      <td>42</td>\n      <td>35</td>\n      <td>1</td>\n      <td>399.000000</td>\n      <td>1</td>\n      <td>19</td>\n      <td>40</td>\n      <td>0</td>\n      <td>5</td>\n      <td>...</td>\n      <td>0</td>\n      <td>399.0</td>\n      <td>399.000000</td>\n      <td>0.0</td>\n      <td>2.586957</td>\n      <td>1.733333</td>\n      <td>0.0</td>\n      <td>2.500000</td>\n      <td>2.000000</td>\n      <td>0.0</td>\n    </tr>\n    <tr>\n      <th>4518</th>\n      <td>2</td>\n      <td>42</td>\n      <td>45</td>\n      <td>0</td>\n      <td>0.000000</td>\n      <td>0</td>\n      <td>19</td>\n      <td>57</td>\n      <td>0</td>\n      <td>7</td>\n      <td>...</td>\n      <td>0</td>\n      <td>0.0</td>\n      <td>299.000000</td>\n      <td>0.0</td>\n      <td>0.152174</td>\n      <td>0.177778</td>\n      <td>0.0</td>\n      <td>0.000000</td>\n      <td>0.500000</td>\n      <td>0.0</td>\n    </tr>\n    <tr>\n      <th>4521</th>\n      <td>2</td>\n      <td>42</td>\n      <td>32</td>\n      <td>1</td>\n      <td>349.000000</td>\n      <td>1</td>\n      <td>19</td>\n      <td>40</td>\n      <td>0</td>\n      <td>5</td>\n      <td>...</td>\n      <td>0</td>\n      <td>349.0</td>\n      <td>348.937775</td>\n      <td>0.0</td>\n      <td>4.521739</td>\n      <td>6.644444</td>\n      <td>0.0</td>\n      <td>4.000000</td>\n      <td>5.500000</td>\n      <td>0.0</td>\n    </tr>\n    <tr>\n      <th>4526</th>\n      <td>2</td>\n      <td>42</td>\n      <td>47</td>\n      <td>0</td>\n      <td>0.000000</td>\n      <td>0</td>\n      <td>19</td>\n      <td>57</td>\n      <td>0</td>\n      <td>7</td>\n      <td>...</td>\n      <td>0</td>\n      <td>0.0</td>\n      <td>249.000000</td>\n      <td>0.0</td>\n      <td>0.086957</td>\n      <td>0.133333</td>\n      <td>0.0</td>\n      <td>0.000000</td>\n      <td>0.500000</td>\n      <td>0.0</td>\n    </tr>\n    <tr>\n      <th>4530</th>\n      <td>2</td>\n      <td>42</td>\n      <td>52</td>\n      <td>0</td>\n      <td>0.000000</td>\n      <td>0</td>\n      <td>19</td>\n      <td>57</td>\n      <td>0</td>\n      <td>7</td>\n      <td>...</td>\n      <td>0</td>\n      <td>0.0</td>\n      <td>249.000000</td>\n      <td>0.0</td>\n      <td>0.108696</td>\n      <td>0.155556</td>\n      <td>0.0</td>\n      <td>0.000000</td>\n      <td>0.500000</td>\n      <td>0.0</td>\n    </tr>\n    <tr>\n      <th>4552</th>\n      <td>2</td>\n      <td>42</td>\n      <td>59</td>\n      <td>1</td>\n      <td>249.000000</td>\n      <td>1</td>\n      <td>19</td>\n      <td>57</td>\n      <td>0</td>\n      <td>7</td>\n      <td>...</td>\n      <td>0</td>\n      <td>249.0</td>\n      <td>249.000000</td>\n      <td>0.0</td>\n      <td>0.391304</td>\n      <td>0.400000</td>\n      <td>0.0</td>\n      <td>1.000000</td>\n      <td>1.000000</td>\n      <td>0.0</td>\n    </tr>\n    <tr>\n      <th>4567</th>\n      <td>2</td>\n      <td>45</td>\n      <td>32</td>\n      <td>8</td>\n      <td>349.000000</td>\n      <td>6</td>\n      <td>20</td>\n      <td>40</td>\n      <td>0</td>\n      <td>5</td>\n      <td>...</td>\n      <td>0</td>\n      <td>349.0</td>\n      <td>349.000000</td>\n      <td>0.0</td>\n      <td>4.521739</td>\n      <td>6.644444</td>\n      <td>0.0</td>\n      <td>6.500000</td>\n      <td>5.500000</td>\n      <td>0.0</td>\n    </tr>\n    <tr>\n      <th>4592</th>\n      <td>2</td>\n      <td>45</td>\n      <td>27</td>\n      <td>0</td>\n      <td>0.000000</td>\n      <td>0</td>\n      <td>20</td>\n      <td>19</td>\n      <td>0</td>\n      <td>3</td>\n      <td>...</td>\n      <td>0</td>\n      <td>0.0</td>\n      <td>2499.000000</td>\n      <td>0.0</td>\n      <td>0.065217</td>\n      <td>0.155556</td>\n      <td>0.0</td>\n      <td>0.000000</td>\n      <td>0.500000</td>\n      <td>0.0</td>\n    </tr>\n    <tr>\n      <th>4603</th>\n      <td>2</td>\n      <td>31</td>\n      <td>41</td>\n      <td>0</td>\n      <td>0.000000</td>\n      <td>0</td>\n      <td>13</td>\n      <td>57</td>\n      <td>0</td>\n      <td>7</td>\n      <td>...</td>\n      <td>0</td>\n      <td>0.0</td>\n      <td>249.000000</td>\n      <td>0.0</td>\n      <td>0.108696</td>\n      <td>0.200000</td>\n      <td>0.0</td>\n      <td>0.166667</td>\n      <td>0.250000</td>\n      <td>0.0</td>\n    </tr>\n    <tr>\n      <th>4605</th>\n      <td>2</td>\n      <td>31</td>\n      <td>44</td>\n      <td>0</td>\n      <td>0.000000</td>\n      <td>0</td>\n      <td>13</td>\n      <td>57</td>\n      <td>0</td>\n      <td>7</td>\n      <td>...</td>\n      <td>0</td>\n      <td>249.0</td>\n      <td>249.000000</td>\n      <td>0.0</td>\n      <td>0.108696</td>\n      <td>0.133333</td>\n      <td>0.0</td>\n      <td>0.250000</td>\n      <td>0.333333</td>\n      <td>0.0</td>\n    </tr>\n    <tr>\n      <th>4607</th>\n      <td>2</td>\n      <td>31</td>\n      <td>35</td>\n      <td>2</td>\n      <td>399.000000</td>\n      <td>2</td>\n      <td>13</td>\n      <td>40</td>\n      <td>0</td>\n      <td>5</td>\n      <td>...</td>\n      <td>0</td>\n      <td>399.0</td>\n      <td>399.000000</td>\n      <td>0.0</td>\n      <td>2.586957</td>\n      <td>1.733333</td>\n      <td>0.0</td>\n      <td>3.083333</td>\n      <td>3.000000</td>\n      <td>0.0</td>\n    </tr>\n    <tr>\n      <th>4608</th>\n      <td>2</td>\n      <td>31</td>\n      <td>46</td>\n      <td>0</td>\n      <td>0.000000</td>\n      <td>0</td>\n      <td>13</td>\n      <td>57</td>\n      <td>0</td>\n      <td>7</td>\n      <td>...</td>\n      <td>0</td>\n      <td>249.0</td>\n      <td>249.000000</td>\n      <td>0.0</td>\n      <td>0.065217</td>\n      <td>0.044444</td>\n      <td>0.0</td>\n      <td>0.250000</td>\n      <td>0.083333</td>\n      <td>0.0</td>\n    </tr>\n    <tr>\n      <th>4610</th>\n      <td>2</td>\n      <td>31</td>\n      <td>45</td>\n      <td>0</td>\n      <td>0.000000</td>\n      <td>0</td>\n      <td>13</td>\n      <td>57</td>\n      <td>0</td>\n      <td>7</td>\n      <td>...</td>\n      <td>0</td>\n      <td>299.0</td>\n      <td>299.000000</td>\n      <td>0.0</td>\n      <td>0.152174</td>\n      <td>0.177778</td>\n      <td>0.0</td>\n      <td>0.583333</td>\n      <td>0.416667</td>\n      <td>0.0</td>\n    </tr>\n    <tr>\n      <th>4613</th>\n      <td>2</td>\n      <td>31</td>\n      <td>32</td>\n      <td>13</td>\n      <td>349.000000</td>\n      <td>10</td>\n      <td>13</td>\n      <td>40</td>\n      <td>0</td>\n      <td>5</td>\n      <td>...</td>\n      <td>0</td>\n      <td>349.0</td>\n      <td>349.000000</td>\n      <td>0.0</td>\n      <td>4.521739</td>\n      <td>6.644444</td>\n      <td>0.0</td>\n      <td>7.000000</td>\n      <td>12.083333</td>\n      <td>0.0</td>\n    </tr>\n    <tr>\n      <th>4614</th>\n      <td>2</td>\n      <td>31</td>\n      <td>54</td>\n      <td>0</td>\n      <td>0.000000</td>\n      <td>0</td>\n      <td>13</td>\n      <td>57</td>\n      <td>0</td>\n      <td>7</td>\n      <td>...</td>\n      <td>0</td>\n      <td>0.0</td>\n      <td>299.000000</td>\n      <td>0.0</td>\n      <td>0.086957</td>\n      <td>0.133333</td>\n      <td>0.0</td>\n      <td>0.333333</td>\n      <td>0.416667</td>\n      <td>0.0</td>\n    </tr>\n    <tr>\n      <th>4615</th>\n      <td>2</td>\n      <td>31</td>\n      <td>53</td>\n      <td>1</td>\n      <td>299.000000</td>\n      <td>1</td>\n      <td>13</td>\n      <td>57</td>\n      <td>0</td>\n      <td>7</td>\n      <td>...</td>\n      <td>0</td>\n      <td>299.0</td>\n      <td>299.000000</td>\n      <td>0.0</td>\n      <td>0.130435</td>\n      <td>0.177778</td>\n      <td>0.0</td>\n      <td>0.500000</td>\n      <td>0.250000</td>\n      <td>0.0</td>\n    </tr>\n    <tr>\n      <th>4618</th>\n      <td>2</td>\n      <td>31</td>\n      <td>47</td>\n      <td>0</td>\n      <td>0.000000</td>\n      <td>0</td>\n      <td>13</td>\n      <td>57</td>\n      <td>0</td>\n      <td>7</td>\n      <td>...</td>\n      <td>0</td>\n      <td>249.0</td>\n      <td>249.000000</td>\n      <td>0.0</td>\n      <td>0.086957</td>\n      <td>0.133333</td>\n      <td>0.0</td>\n      <td>0.333333</td>\n      <td>0.166667</td>\n      <td>0.0</td>\n    </tr>\n    <tr>\n      <th>4621</th>\n      <td>2</td>\n      <td>31</td>\n      <td>51</td>\n      <td>0</td>\n      <td>0.000000</td>\n      <td>0</td>\n      <td>13</td>\n      <td>57</td>\n      <td>0</td>\n      <td>7</td>\n      <td>...</td>\n      <td>0</td>\n      <td>249.0</td>\n      <td>249.000000</td>\n      <td>0.0</td>\n      <td>0.391304</td>\n      <td>0.288889</td>\n      <td>0.0</td>\n      <td>0.833333</td>\n      <td>0.750000</td>\n      <td>0.0</td>\n    </tr>\n    <tr>\n      <th>4622</th>\n      <td>2</td>\n      <td>31</td>\n      <td>52</td>\n      <td>0</td>\n      <td>0.000000</td>\n      <td>0</td>\n      <td>13</td>\n      <td>57</td>\n      <td>0</td>\n      <td>7</td>\n      <td>...</td>\n      <td>0</td>\n      <td>0.0</td>\n      <td>249.000000</td>\n      <td>0.0</td>\n      <td>0.108696</td>\n      <td>0.155556</td>\n      <td>0.0</td>\n      <td>0.333333</td>\n      <td>0.250000</td>\n      <td>0.0</td>\n    </tr>\n    <tr>\n      <th>4637</th>\n      <td>2</td>\n      <td>31</td>\n      <td>28</td>\n      <td>0</td>\n      <td>0.000000</td>\n      <td>0</td>\n      <td>13</td>\n      <td>30</td>\n      <td>0</td>\n      <td>3</td>\n      <td>...</td>\n      <td>0</td>\n      <td>0.0</td>\n      <td>549.000000</td>\n      <td>0.0</td>\n      <td>0.173913</td>\n      <td>0.177778</td>\n      <td>0.0</td>\n      <td>0.083333</td>\n      <td>0.250000</td>\n      <td>0.0</td>\n    </tr>\n    <tr>\n      <th>4638</th>\n      <td>2</td>\n      <td>31</td>\n      <td>27</td>\n      <td>0</td>\n      <td>0.000000</td>\n      <td>0</td>\n      <td>13</td>\n      <td>19</td>\n      <td>0</td>\n      <td>3</td>\n      <td>...</td>\n      <td>0</td>\n      <td>0.0</td>\n      <td>2499.000000</td>\n      <td>0.0</td>\n      <td>0.065217</td>\n      <td>0.155556</td>\n      <td>0.0</td>\n      <td>0.166667</td>\n      <td>0.166667</td>\n      <td>0.0</td>\n    </tr>\n    <tr>\n      <th>4639</th>\n      <td>2</td>\n      <td>31</td>\n      <td>29</td>\n      <td>0</td>\n      <td>0.000000</td>\n      <td>0</td>\n      <td>13</td>\n      <td>23</td>\n      <td>0</td>\n      <td>3</td>\n      <td>...</td>\n      <td>0</td>\n      <td>0.0</td>\n      <td>2499.000000</td>\n      <td>0.0</td>\n      <td>0.000000</td>\n      <td>0.111111</td>\n      <td>0.0</td>\n      <td>0.000000</td>\n      <td>0.250000</td>\n      <td>0.0</td>\n    </tr>\n    <tr>\n      <th>4644</th>\n      <td>2</td>\n      <td>31</td>\n      <td>59</td>\n      <td>3</td>\n      <td>249.000000</td>\n      <td>2</td>\n      <td>13</td>\n      <td>57</td>\n      <td>0</td>\n      <td>7</td>\n      <td>...</td>\n      <td>0</td>\n      <td>249.0</td>\n      <td>249.000000</td>\n      <td>0.0</td>\n      <td>0.391304</td>\n      <td>0.400000</td>\n      <td>0.0</td>\n      <td>0.750000</td>\n      <td>0.750000</td>\n      <td>0.0</td>\n    </tr>\n    <tr>\n      <th>4653</th>\n      <td>2</td>\n      <td>30</td>\n      <td>35</td>\n      <td>0</td>\n      <td>0.000000</td>\n      <td>0</td>\n      <td>13</td>\n      <td>40</td>\n      <td>0</td>\n      <td>5</td>\n      <td>...</td>\n      <td>0</td>\n      <td>399.0</td>\n      <td>399.000000</td>\n      <td>0.0</td>\n      <td>2.586957</td>\n      <td>1.733333</td>\n      <td>0.0</td>\n      <td>3.083333</td>\n      <td>3.000000</td>\n      <td>0.0</td>\n    </tr>\n    <tr>\n      <th>4659</th>\n      <td>2</td>\n      <td>30</td>\n      <td>32</td>\n      <td>2</td>\n      <td>349.000000</td>\n      <td>2</td>\n      <td>13</td>\n      <td>40</td>\n      <td>0</td>\n      <td>5</td>\n      <td>...</td>\n      <td>0</td>\n      <td>349.0</td>\n      <td>349.000000</td>\n      <td>0.0</td>\n      <td>4.521739</td>\n      <td>6.644444</td>\n      <td>0.0</td>\n      <td>7.000000</td>\n      <td>12.083333</td>\n      <td>0.0</td>\n    </tr>\n    <tr>\n      <th>4661</th>\n      <td>2</td>\n      <td>30</td>\n      <td>53</td>\n      <td>1</td>\n      <td>299.000000</td>\n      <td>1</td>\n      <td>13</td>\n      <td>57</td>\n      <td>0</td>\n      <td>7</td>\n      <td>...</td>\n      <td>0</td>\n      <td>0.0</td>\n      <td>299.000000</td>\n      <td>0.0</td>\n      <td>0.130435</td>\n      <td>0.177778</td>\n      <td>0.0</td>\n      <td>0.500000</td>\n      <td>0.250000</td>\n      <td>0.0</td>\n    </tr>\n    <tr>\n      <th>4667</th>\n      <td>2</td>\n      <td>30</td>\n      <td>51</td>\n      <td>2</td>\n      <td>223.899994</td>\n      <td>2</td>\n      <td>13</td>\n      <td>57</td>\n      <td>0</td>\n      <td>7</td>\n      <td>...</td>\n      <td>0</td>\n      <td>249.0</td>\n      <td>249.000000</td>\n      <td>0.0</td>\n      <td>0.391304</td>\n      <td>0.288889</td>\n      <td>0.0</td>\n      <td>0.833333</td>\n      <td>0.750000</td>\n      <td>0.0</td>\n    </tr>\n    <tr>\n      <th>4699</th>\n      <td>2</td>\n      <td>32</td>\n      <td>35</td>\n      <td>0</td>\n      <td>0.000000</td>\n      <td>0</td>\n      <td>13</td>\n      <td>40</td>\n      <td>0</td>\n      <td>5</td>\n      <td>...</td>\n      <td>0</td>\n      <td>0.0</td>\n      <td>399.000000</td>\n      <td>0.0</td>\n      <td>2.586957</td>\n      <td>1.733333</td>\n      <td>0.0</td>\n      <td>3.083333</td>\n      <td>3.000000</td>\n      <td>0.0</td>\n    </tr>\n    <tr>\n      <th>4705</th>\n      <td>2</td>\n      <td>32</td>\n      <td>32</td>\n      <td>3</td>\n      <td>349.000000</td>\n      <td>3</td>\n      <td>13</td>\n      <td>40</td>\n      <td>0</td>\n      <td>5</td>\n      <td>...</td>\n      <td>0</td>\n      <td>0.0</td>\n      <td>349.000000</td>\n      <td>0.0</td>\n      <td>4.521739</td>\n      <td>6.644444</td>\n      <td>0.0</td>\n      <td>7.000000</td>\n      <td>12.083333</td>\n      <td>0.0</td>\n    </tr>\n    <tr>\n      <th>4741</th>\n      <td>2</td>\n      <td>54</td>\n      <td>41</td>\n      <td>1</td>\n      <td>249.000000</td>\n      <td>1</td>\n      <td>26</td>\n      <td>57</td>\n      <td>0</td>\n      <td>7</td>\n      <td>...</td>\n      <td>0</td>\n      <td>249.0</td>\n      <td>249.000000</td>\n      <td>0.0</td>\n      <td>0.108696</td>\n      <td>0.200000</td>\n      <td>0.0</td>\n      <td>1.000000</td>\n      <td>1.000000</td>\n      <td>0.0</td>\n    </tr>\n    <tr>\n      <th>4745</th>\n      <td>2</td>\n      <td>54</td>\n      <td>35</td>\n      <td>2</td>\n      <td>399.000000</td>\n      <td>2</td>\n      <td>26</td>\n      <td>40</td>\n      <td>0</td>\n      <td>5</td>\n      <td>...</td>\n      <td>0</td>\n      <td>399.0</td>\n      <td>399.000000</td>\n      <td>0.0</td>\n      <td>2.586957</td>\n      <td>1.733333</td>\n      <td>0.0</td>\n      <td>12.000000</td>\n      <td>9.000000</td>\n      <td>0.0</td>\n    </tr>\n    <tr>\n      <th>4748</th>\n      <td>2</td>\n      <td>54</td>\n      <td>45</td>\n      <td>3</td>\n      <td>299.000000</td>\n      <td>3</td>\n      <td>26</td>\n      <td>57</td>\n      <td>0</td>\n      <td>7</td>\n      <td>...</td>\n      <td>0</td>\n      <td>0.0</td>\n      <td>299.000000</td>\n      <td>0.0</td>\n      <td>0.152174</td>\n      <td>0.177778</td>\n      <td>0.0</td>\n      <td>0.000000</td>\n      <td>1.000000</td>\n      <td>0.0</td>\n    </tr>\n    <tr>\n      <th>4751</th>\n      <td>2</td>\n      <td>54</td>\n      <td>32</td>\n      <td>13</td>\n      <td>349.000000</td>\n      <td>11</td>\n      <td>26</td>\n      <td>40</td>\n      <td>0</td>\n      <td>5</td>\n      <td>...</td>\n      <td>0</td>\n      <td>349.0</td>\n      <td>349.000000</td>\n      <td>0.0</td>\n      <td>4.521739</td>\n      <td>6.644444</td>\n      <td>0.0</td>\n      <td>18.000000</td>\n      <td>28.000000</td>\n      <td>0.0</td>\n    </tr>\n    <tr>\n      <th>4752</th>\n      <td>2</td>\n      <td>54</td>\n      <td>54</td>\n      <td>0</td>\n      <td>0.000000</td>\n      <td>0</td>\n      <td>26</td>\n      <td>57</td>\n      <td>0</td>\n      <td>7</td>\n      <td>...</td>\n      <td>0</td>\n      <td>0.0</td>\n      <td>299.000000</td>\n      <td>0.0</td>\n      <td>0.086957</td>\n      <td>0.133333</td>\n      <td>0.0</td>\n      <td>0.000000</td>\n      <td>1.000000</td>\n      <td>0.0</td>\n    </tr>\n    <tr>\n      <th>4753</th>\n      <td>2</td>\n      <td>54</td>\n      <td>53</td>\n      <td>0</td>\n      <td>0.000000</td>\n      <td>0</td>\n      <td>26</td>\n      <td>57</td>\n      <td>0</td>\n      <td>7</td>\n      <td>...</td>\n      <td>0</td>\n      <td>0.0</td>\n      <td>299.000000</td>\n      <td>0.0</td>\n      <td>0.130435</td>\n      <td>0.177778</td>\n      <td>0.0</td>\n      <td>0.000000</td>\n      <td>1.000000</td>\n      <td>0.0</td>\n    </tr>\n  </tbody>\n</table>\n<p>50 rows × 26 columns</p>\n</div>"
     },
     "execution_count": 391,
     "metadata": {},
     "output_type": "execute_result"
    }
   ],
   "source": [
    "all_data[all_data['월간 판매량_시차2'] != 0].head(50)"
   ],
   "metadata": {
    "collapsed": false,
    "pycharm": {
     "name": "#%%\n"
    }
   }
  },
  {
   "cell_type": "code",
   "execution_count": null,
   "outputs": [],
   "source": [
    "# ['월ID', '상점ID', '상품분류ID']를 기준으로 shop_mean_features 요소별 시차 피처 생성\n",
    "for shop_mean_feature in shop_mean_features:\n",
    "    all_data, lag_features_to_clip = add_lag_features(df=all_data,\n",
    "                                                      lag_features_to_clip=lag_features_to_clip,\n",
    "                                                      idx_features=['월ID', '상점ID', '상품분류ID'],\n",
    "                                                      lag_feature=shop_mean_feature,\n",
    "                                                      nlags=3,\n",
    "                                                      clip=True)\n",
    "# shop_mean_features 피처 제거\n",
    "all_data = all_data.drop(shop_mean_features, axis=1)"
   ],
   "metadata": {
    "collapsed": false,
    "pycharm": {
     "name": "#%%\n"
    }
   }
  },
  {
   "cell_type": "code",
   "execution_count": null,
   "outputs": [],
   "source": [
    "# 시차 피처 생성 마무리 : 결측값 처리\n",
    "# 월ID 3미만인 데이터 제거\n",
    "all_data = all_data.drop(all_data[all_data['월ID'] < 3].index)"
   ],
   "metadata": {
    "collapsed": false,
    "pycharm": {
     "name": "#%%\n"
    }
   }
  },
  {
   "cell_type": "markdown",
   "source": [
    "### 9.4.6 피처 엔지니어링VI: 기타 피처 엔지니어링"
   ],
   "metadata": {
    "collapsed": false
   }
  },
  {
   "cell_type": "code",
   "execution_count": null,
   "outputs": [],
   "source": [
    "# 기타 피처 추가\n",
    "all_data['월간 판매량 시차평균'] = all_data[['월간 판매량_시차1',\n",
    "                                          '월간 판매량_시차2',\n",
    "                                          '월간 판매량_시차3']].mean(axis=1)"
   ],
   "metadata": {
    "collapsed": false,
    "pycharm": {
     "name": "#%%\n"
    }
   }
  },
  {
   "cell_type": "code",
   "execution_count": null,
   "outputs": [],
   "source": [
    "# 0 ~ 20 사이로 값 제한\n",
    "all_data[lag_features_to_clip + ['월간 판매량', '월간 판매량 시차평균']] = all_data[lag_features_to_clip + ['월간 판매량', '월간 판매량 시차평균']].clip(0, 20)"
   ],
   "metadata": {
    "collapsed": false,
    "pycharm": {
     "name": "#%%\n"
    }
   }
  },
  {
   "cell_type": "code",
   "execution_count": null,
   "outputs": [],
   "source": [
    "# 시차 변화량\n",
    "all_data['시차변화량1'] = all_data['월간 판매량_시차1']/all_data['월간 판매량_시차2']\n",
    "all_data['시차변화량1'] = all_data['시차변화량1'].replace([np.inf, -np.inf],\n",
    "                                                        np.nan).fillna(0)\n",
    "\n",
    "all_data['시차변화량2'] = all_data['월간 판매량_시차2']/all_data['월간 판매량_시차3']\n",
    "all_data['시차변화량2'] = all_data['시차변화량2'].replace([np.inf, -np.inf],\n",
    "                                                        np.nan).fillna(0)"
   ],
   "metadata": {
    "collapsed": false,
    "pycharm": {
     "name": "#%%\n"
    }
   }
  },
  {
   "cell_type": "code",
   "execution_count": null,
   "outputs": [],
   "source": [
    "# 신상품 여부\n",
    "all_data['신상여부'] = all_data['첫 판매월'] == all_data['월ID']"
   ],
   "metadata": {
    "collapsed": false,
    "pycharm": {
     "name": "#%%\n"
    }
   }
  },
  {
   "cell_type": "code",
   "execution_count": null,
   "outputs": [],
   "source": [
    "# 첫 판매이후 지난 기간\n",
    "all_data['첫 판매 후 기간'] = all_data['월ID'] - all_data['첫 판매월']"
   ],
   "metadata": {
    "collapsed": false,
    "pycharm": {
     "name": "#%%\n"
    }
   }
  },
  {
   "cell_type": "code",
   "execution_count": null,
   "outputs": [],
   "source": [
    "all_data['월'] = all_data['월ID'] % 12"
   ],
   "metadata": {
    "collapsed": false,
    "pycharm": {
     "name": "#%%\n"
    }
   }
  },
  {
   "cell_type": "code",
   "execution_count": null,
   "outputs": [],
   "source": [
    "# 첫 판매월, 평균 판매가, 판매건수 피처 제거\n",
    "all_data = all_data.drop(['첫 판매월', '평균 판매가', '판매건수'], axis=1)"
   ],
   "metadata": {
    "collapsed": false,
    "pycharm": {
     "name": "#%%\n"
    }
   }
  },
  {
   "cell_type": "code",
   "execution_count": null,
   "outputs": [],
   "source": [
    "all_data = downcast(all_data, False) # 데이터 다운캐스팅"
   ],
   "metadata": {
    "collapsed": false,
    "pycharm": {
     "name": "#%%\n"
    }
   }
  },
  {
   "cell_type": "markdown",
   "source": [
    "### 9.4.7 피처 엔지니어링VII: 마무리"
   ],
   "metadata": {
    "collapsed": false
   }
  },
  {
   "cell_type": "code",
   "execution_count": null,
   "outputs": [],
   "source": [
    "all_data.info()"
   ],
   "metadata": {
    "collapsed": false,
    "pycharm": {
     "name": "#%%\n"
    }
   }
  },
  {
   "cell_type": "code",
   "execution_count": null,
   "outputs": [],
   "source": [
    "# 훈련 데이터 (피처)\n",
    "X_train = all_data[all_data['월ID'] < 33]\n",
    "X_train = X_train.drop(['월간 판매량'], axis=1)\n",
    "# 검증 데이터 (피처)\n",
    "X_valid = all_data[all_data['월ID'] == 33]\n",
    "X_valid = X_valid.drop(['월간 판매량'], axis=1)\n",
    "# 테스트 데이터 (피처)\n",
    "X_test = all_data[all_data['월ID'] == 34]\n",
    "X_test = X_test.drop(['월간 판매량'], axis=1)\n",
    "\n",
    "# 훈련 데이터 (타깃값)\n",
    "y_train = all_data[all_data['월ID'] < 33]['월간 판매량']\n",
    "# 검증 데이터 (타깃값)\n",
    "y_valid = all_data[all_data['월ID'] == 33]['월간 판매량']\n",
    "\n",
    "# 가비지 컬렉션\n",
    "# del all_data\n",
    "# gc.collect()"
   ],
   "metadata": {
    "collapsed": false,
    "pycharm": {
     "name": "#%%\n"
    }
   }
  },
  {
   "cell_type": "markdown",
   "source": [
    "### 9.4.8 모델 훈련 및 성능 검증"
   ],
   "metadata": {
    "collapsed": false
   }
  },
  {
   "cell_type": "code",
   "execution_count": null,
   "outputs": [],
   "source": [
    "import lightgbm as lgb\n",
    "\n",
    "# LightGBM 하이퍼파라미터\n",
    "params = {'metric': 'rmse',\n",
    "          'num_leaves': 255,\n",
    "          'learning_rate': 0.005,\n",
    "          'feature_fraction': 0.75,\n",
    "          'bagging_fraction': 0.75,\n",
    "          'bagging_freq': 5,\n",
    "          'force_col_wise': True,\n",
    "          'random_state': 10}\n",
    "\n",
    "cat_features = ['상점ID', '도시', '상품분류ID', '대분류', '월']\n",
    "\n",
    "# LightGBM 훈련 및 검증 데이터셋\n",
    "dtrain = lgb.Dataset(X_train, y_train)\n",
    "dvalid = lgb.Dataset(X_valid, y_valid)\n",
    "\n",
    "# LightGBM 모델 훈련\n",
    "lgb_model = lgb.train(params=params,\n",
    "                      train_set=dtrain,\n",
    "                      num_boost_round=1500,\n",
    "                      valid_sets=(dtrain, dvalid),\n",
    "                      early_stopping_rounds=150,\n",
    "                      categorical_feature=cat_features,\n",
    "                      verbose_eval=100)"
   ],
   "metadata": {
    "collapsed": false,
    "pycharm": {
     "name": "#%%\n"
    }
   }
  },
  {
   "cell_type": "markdown",
   "source": [
    "### 9.4.9 예측 및 결과 제출"
   ],
   "metadata": {
    "collapsed": false
   }
  },
  {
   "cell_type": "code",
   "execution_count": null,
   "outputs": [],
   "source": [
    "# 예측\n",
    "preds = lgb_model.predict(X_test).clip(0, 20)\n",
    "\n",
    "# 제출 파일 생성\n",
    "submission['item_cnt_month'] = preds\n",
    "submission.to_csv(data_path+'submission2.csv', index=False)"
   ],
   "metadata": {
    "collapsed": false,
    "pycharm": {
     "name": "#%%\n"
    }
   }
  },
  {
   "cell_type": "code",
   "execution_count": null,
   "outputs": [],
   "source": [
    "del X_train, y_train, X_valid, y_valid, X_test, lgb_model, dtrain, dvalid\n",
    "gc.collect();"
   ],
   "metadata": {
    "collapsed": false,
    "pycharm": {
     "name": "#%%\n"
    }
   }
  }
 ],
 "metadata": {
  "kernelspec": {
   "display_name": "Python 3",
   "language": "python",
   "name": "python3"
  },
  "language_info": {
   "codemirror_mode": {
    "name": "ipython",
    "version": 2
   },
   "file_extension": ".py",
   "mimetype": "text/x-python",
   "name": "python",
   "nbconvert_exporter": "python",
   "pygments_lexer": "ipython2",
   "version": "2.7.6"
  }
 },
 "nbformat": 4,
 "nbformat_minor": 0
}