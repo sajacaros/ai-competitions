{
 "cells": [
  {
   "cell_type": "markdown",
   "metadata": {
    "collapsed": true,
    "pycharm": {
     "name": "#%% md\n"
    }
   },
   "source": [
    "# 08 안전 운전자 예측\n",
    "## 8.6 성능 개선 III: LightGBM과 XGBoost 앙상블\n",
    "* 앙상블(ensemble)\n",
    "    * 여러 모델에서 얻은 예측 결과를 결합해 예측값을 도출하는 방식\n",
    "    * 상위권 캐글러들이 많이 사용함\n",
    "    * 다양한 모델을 사용하는게 바람직함"
   ]
  },
  {
   "cell_type": "code",
   "execution_count": null,
   "outputs": [],
   "source": [
    "import pandas as pd"
   ],
   "metadata": {
    "collapsed": false,
    "pycharm": {
     "name": "#%%\n"
    }
   }
  },
  {
   "cell_type": "code",
   "execution_count": null,
   "outputs": [],
   "source": [
    "data_path = '../../data/08_safe_driver/'\n",
    "submission_df = pd.read_csv(data_path+'sample_submission.csv', index_col='id')\n",
    "oof_test_preds_lgb = pd.read_csv(data_path+'submission_enhanced1.csv', index_col='id')\n",
    "oof_test_preds_xgb = pd.read_csv(data_path+'submission_enhanced2.csv', index_col='id')\n",
    "# 앙상블 수행\n",
    "oof_test_preds = oof_test_preds_lgb * 0.5 + oof_test_preds_xgb * 0.5"
   ],
   "metadata": {
    "collapsed": false,
    "pycharm": {
     "name": "#%%\n"
    }
   }
  },
  {
   "cell_type": "code",
   "execution_count": null,
   "outputs": [],
   "source": [
    "# 예측 및 결과 제출\n",
    "submission_df['target'] = oof_test_preds\n",
    "submission_df.to_csv(data_path+'submission_enhanced3.csv')"
   ],
   "metadata": {
    "collapsed": false,
    "pycharm": {
     "name": "#%%\n"
    }
   }
  }
 ],
 "metadata": {
  "kernelspec": {
   "display_name": "Python 3",
   "language": "python",
   "name": "python3"
  },
  "language_info": {
   "codemirror_mode": {
    "name": "ipython",
    "version": 2
   },
   "file_extension": ".py",
   "mimetype": "text/x-python",
   "name": "python",
   "nbconvert_exporter": "python",
   "pygments_lexer": "ipython2",
   "version": "2.7.6"
  }
 },
 "nbformat": 4,
 "nbformat_minor": 0
}