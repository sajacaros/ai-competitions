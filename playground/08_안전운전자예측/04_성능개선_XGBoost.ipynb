{
 "cells": [
  {
   "cell_type": "markdown",
   "metadata": {
    "collapsed": true,
    "pycharm": {
     "name": "#%% md\n"
    }
   },
   "source": [
    "# 08 안전 운전자 예측\n",
    "## 8.5 성능 개선 II: XGBoost 모델"
   ]
  },
  {
   "cell_type": "code",
   "execution_count": 1,
   "outputs": [],
   "source": [
    "import pandas as pd\n",
    "import numpy as np\n",
    "import matplotlib.pyplot as plt\n",
    "import seaborn as sns"
   ],
   "metadata": {
    "collapsed": false,
    "pycharm": {
     "name": "#%%\n"
    }
   }
  },
  {
   "cell_type": "code",
   "execution_count": 2,
   "outputs": [],
   "source": [
    "data_path = '../../data/08_safe_driver/'\n",
    "\n",
    "train_df = pd.read_csv(data_path+'train.csv', index_col='id')\n",
    "test_df = pd.read_csv(data_path+'test.csv', index_col='id')\n",
    "submission_df = pd.read_csv(data_path+'sample_submission.csv', index_col='id')"
   ],
   "metadata": {
    "collapsed": false,
    "pycharm": {
     "name": "#%%\n"
    }
   }
  },
  {
   "cell_type": "code",
   "execution_count": 3,
   "outputs": [],
   "source": [
    "# 데이터 합치기\n",
    "all_data = pd.concat([train_df, test_df], ignore_index=True)\n",
    "all_data = all_data.drop(columns='target')\n",
    "all_features = all_data.columns"
   ],
   "metadata": {
    "collapsed": false,
    "pycharm": {
     "name": "#%%\n"
    }
   }
  },
  {
   "cell_type": "code",
   "execution_count": 4,
   "outputs": [],
   "source": [
    "# 명목형 피처 원핫 인코딩\n",
    "from sklearn.preprocessing import OneHotEncoder\n",
    "cat_features = [feature for feature in all_features if 'cat' in feature]\n",
    "onehot_encoder = OneHotEncoder()\n",
    "encoded_cat_matrix = onehot_encoder.fit_transform(all_data[cat_features])"
   ],
   "metadata": {
    "collapsed": false,
    "pycharm": {
     "name": "#%%\n"
    }
   }
  },
  {
   "cell_type": "code",
   "execution_count": 5,
   "outputs": [],
   "source": [
    "# 파생 피처 추가\n",
    "## 결측값 개수를 파생 피처로 생성\n",
    "all_data['num_missing'] = (all_data==-1).sum(axis=1)"
   ],
   "metadata": {
    "collapsed": false,
    "pycharm": {
     "name": "#%%\n"
    }
   }
  },
  {
   "cell_type": "code",
   "execution_count": 6,
   "outputs": [],
   "source": [
    "# 필요 없는 피처 제거\n",
    "# drop_features = ['ps_ind_14', 'ps_ind_10_bin', 'ps_ind_11_bin', 'ps_ind_12_bin', 'ps_ind_13_bin', 'ps_car_14']\n",
    "remaining_features = [feature for feature in all_features if ('cat' not in feature and 'calc' not in feature)] # and feature not in drop_features)]\n",
    "remaining_features.append('num_missing')"
   ],
   "metadata": {
    "collapsed": false,
    "pycharm": {
     "name": "#%%\n"
    }
   }
  },
  {
   "cell_type": "code",
   "execution_count": 7,
   "outputs": [],
   "source": [
    "## ind 분류의 피처 처리\n",
    "ind_features = [feature for feature in all_features if 'ind' in feature]\n",
    "\n",
    "is_first_feature = True\n",
    "for ind_feature in ind_features:\n",
    "    if is_first_feature:\n",
    "        all_data['mix_ind'] = all_data[ind_feature].astype(str) + '_'\n",
    "        is_first_feature=False\n",
    "    else:\n",
    "        all_data['mix_ind'] += all_data[ind_feature].astype(str) + '_'"
   ],
   "metadata": {
    "collapsed": false,
    "pycharm": {
     "name": "#%%\n"
    }
   }
  },
  {
   "cell_type": "code",
   "execution_count": 8,
   "outputs": [],
   "source": [
    "cat_count_features = []\n",
    "for feature in cat_features+['mix_ind']:\n",
    "    val_counts_dict = all_data[feature].value_counts().to_dict()\n",
    "    all_data[f'{feature}_count'] = all_data[feature].apply(lambda x: val_counts_dict[x])\n",
    "    cat_count_features.append(f'{feature}_count')"
   ],
   "metadata": {
    "collapsed": false,
    "pycharm": {
     "name": "#%%\n"
    }
   }
  },
  {
   "cell_type": "code",
   "execution_count": 9,
   "outputs": [
    {
     "data": {
      "text/plain": "   ps_ind_01  ps_ind_03  ps_ind_06_bin  ps_ind_07_bin  ps_ind_08_bin  \\\n0          2          5              0              1              0   \n1          1          7              0              0              1   \n2          5          9              0              0              1   \n3          0          2              1              0              0   \n4          0          0              1              0              0   \n\n   ps_ind_09_bin  ps_ind_15  ps_ind_16_bin  ps_ind_17_bin  ps_ind_18_bin  ...  \\\n0              0         11              0              1              0  ...   \n1              0          3              0              0              1  ...   \n2              0         12              1              0              0  ...   \n3              0          8              1              0              0  ...   \n4              0          9              1              0              0  ...   \n\n   ps_car_03_cat_count  ps_car_04_cat_count  ps_car_05_cat_count  \\\n0              1028142              1241334               431560   \n1              1028142              1241334               666910   \n2              1028142              1241334               666910   \n3               183044              1241334               431560   \n4              1028142              1241334               666910   \n\n   ps_car_06_cat_count  ps_car_07_cat_count  ps_car_08_cat_count  \\\n0                77845              1383070               249663   \n1               329890              1383070              1238365   \n2               147714              1383070              1238365   \n3               329890              1383070              1238365   \n4               147714              1383070              1238365   \n\n   ps_car_09_cat_count  ps_car_10_cat_count  ps_car_11_cat_count  \\\n0               486510              1475460                18326   \n1               883326              1475460                12535   \n2               883326              1475460                19943   \n3                36798              1475460               212989   \n4               883326              1475460                26161   \n\n   mix_ind_count  \n0              6  \n1             36  \n2             24  \n3           2784  \n4            258  \n\n[5 rows x 33 columns]",
      "text/html": "<div>\n<style scoped>\n    .dataframe tbody tr th:only-of-type {\n        vertical-align: middle;\n    }\n\n    .dataframe tbody tr th {\n        vertical-align: top;\n    }\n\n    .dataframe thead th {\n        text-align: right;\n    }\n</style>\n<table border=\"1\" class=\"dataframe\">\n  <thead>\n    <tr style=\"text-align: right;\">\n      <th></th>\n      <th>ps_ind_01</th>\n      <th>ps_ind_03</th>\n      <th>ps_ind_06_bin</th>\n      <th>ps_ind_07_bin</th>\n      <th>ps_ind_08_bin</th>\n      <th>ps_ind_09_bin</th>\n      <th>ps_ind_15</th>\n      <th>ps_ind_16_bin</th>\n      <th>ps_ind_17_bin</th>\n      <th>ps_ind_18_bin</th>\n      <th>...</th>\n      <th>ps_car_03_cat_count</th>\n      <th>ps_car_04_cat_count</th>\n      <th>ps_car_05_cat_count</th>\n      <th>ps_car_06_cat_count</th>\n      <th>ps_car_07_cat_count</th>\n      <th>ps_car_08_cat_count</th>\n      <th>ps_car_09_cat_count</th>\n      <th>ps_car_10_cat_count</th>\n      <th>ps_car_11_cat_count</th>\n      <th>mix_ind_count</th>\n    </tr>\n  </thead>\n  <tbody>\n    <tr>\n      <th>0</th>\n      <td>2</td>\n      <td>5</td>\n      <td>0</td>\n      <td>1</td>\n      <td>0</td>\n      <td>0</td>\n      <td>11</td>\n      <td>0</td>\n      <td>1</td>\n      <td>0</td>\n      <td>...</td>\n      <td>1028142</td>\n      <td>1241334</td>\n      <td>431560</td>\n      <td>77845</td>\n      <td>1383070</td>\n      <td>249663</td>\n      <td>486510</td>\n      <td>1475460</td>\n      <td>18326</td>\n      <td>6</td>\n    </tr>\n    <tr>\n      <th>1</th>\n      <td>1</td>\n      <td>7</td>\n      <td>0</td>\n      <td>0</td>\n      <td>1</td>\n      <td>0</td>\n      <td>3</td>\n      <td>0</td>\n      <td>0</td>\n      <td>1</td>\n      <td>...</td>\n      <td>1028142</td>\n      <td>1241334</td>\n      <td>666910</td>\n      <td>329890</td>\n      <td>1383070</td>\n      <td>1238365</td>\n      <td>883326</td>\n      <td>1475460</td>\n      <td>12535</td>\n      <td>36</td>\n    </tr>\n    <tr>\n      <th>2</th>\n      <td>5</td>\n      <td>9</td>\n      <td>0</td>\n      <td>0</td>\n      <td>1</td>\n      <td>0</td>\n      <td>12</td>\n      <td>1</td>\n      <td>0</td>\n      <td>0</td>\n      <td>...</td>\n      <td>1028142</td>\n      <td>1241334</td>\n      <td>666910</td>\n      <td>147714</td>\n      <td>1383070</td>\n      <td>1238365</td>\n      <td>883326</td>\n      <td>1475460</td>\n      <td>19943</td>\n      <td>24</td>\n    </tr>\n    <tr>\n      <th>3</th>\n      <td>0</td>\n      <td>2</td>\n      <td>1</td>\n      <td>0</td>\n      <td>0</td>\n      <td>0</td>\n      <td>8</td>\n      <td>1</td>\n      <td>0</td>\n      <td>0</td>\n      <td>...</td>\n      <td>183044</td>\n      <td>1241334</td>\n      <td>431560</td>\n      <td>329890</td>\n      <td>1383070</td>\n      <td>1238365</td>\n      <td>36798</td>\n      <td>1475460</td>\n      <td>212989</td>\n      <td>2784</td>\n    </tr>\n    <tr>\n      <th>4</th>\n      <td>0</td>\n      <td>0</td>\n      <td>1</td>\n      <td>0</td>\n      <td>0</td>\n      <td>0</td>\n      <td>9</td>\n      <td>1</td>\n      <td>0</td>\n      <td>0</td>\n      <td>...</td>\n      <td>1028142</td>\n      <td>1241334</td>\n      <td>666910</td>\n      <td>147714</td>\n      <td>1383070</td>\n      <td>1238365</td>\n      <td>883326</td>\n      <td>1475460</td>\n      <td>26161</td>\n      <td>258</td>\n    </tr>\n  </tbody>\n</table>\n<p>5 rows × 33 columns</p>\n</div>"
     },
     "execution_count": 9,
     "metadata": {},
     "output_type": "execute_result"
    }
   ],
   "source": [
    "# 필요없는 피처 제거\n",
    "drop_features = ['ps_ind_14', 'ps_ind_10_bin', 'ps_ind_11_bin', 'ps_ind_12_bin', 'ps_ind_13_bin', 'ps_car_14']\n",
    "\n",
    "all_data_remaining = all_data[remaining_features+cat_count_features].drop(columns=drop_features)\n",
    "all_data_remaining.head()"
   ],
   "metadata": {
    "collapsed": false,
    "pycharm": {
     "name": "#%%\n"
    }
   }
  },
  {
   "cell_type": "code",
   "execution_count": 10,
   "outputs": [],
   "source": [
    "from scipy import sparse\n",
    "all_data_sprs = sparse.hstack([\n",
    "    sparse.csr_matrix(all_data_remaining),\n",
    "    encoded_cat_matrix\n",
    "], format='csr')"
   ],
   "metadata": {
    "collapsed": false,
    "pycharm": {
     "name": "#%%\n"
    }
   }
  },
  {
   "cell_type": "code",
   "execution_count": 11,
   "outputs": [],
   "source": [
    "# 데이터 나누기\n",
    "num_train = len(train_df)\n",
    "\n",
    "X = all_data_sprs[:num_train]\n",
    "X_test = all_data_sprs[num_train:]\n",
    "y = train_df['target'].values"
   ],
   "metadata": {
    "collapsed": false,
    "pycharm": {
     "name": "#%%\n"
    }
   }
  },
  {
   "cell_type": "code",
   "execution_count": 12,
   "outputs": [],
   "source": [
    "# 데이터셋 준비\n",
    "import xgboost as xgb\n",
    "from sklearn.model_selection import train_test_split\n",
    "\n",
    "X_train, X_valid, y_train, y_valid = train_test_split(X, y, test_size=0.2, random_state=0)\n",
    "\n",
    "bayes_dtrain = xgb.DMatrix(X_train, y_train)\n",
    "bayes_dvalid = xgb.DMatrix(X_valid, y_valid)"
   ],
   "metadata": {
    "collapsed": false,
    "pycharm": {
     "name": "#%%\n"
    }
   }
  },
  {
   "cell_type": "code",
   "execution_count": 13,
   "outputs": [],
   "source": [
    "param_bounds = {\n",
    "    'max_depth': (4,8),\n",
    "    'subsample': (0.6, 0.9),\n",
    "    'colsample_bytree': (0.7, 1.0),\n",
    "    'min_child_weight': (5, 7),\n",
    "    'gamma': (8, 11),\n",
    "    'reg_alpha': (7, 9),\n",
    "    'reg_lambda': (1.1, 1.5),\n",
    "    'scale_pos_weight': (1.4, 1.6)\n",
    "}\n",
    "\n",
    "fixed_params = {\n",
    "    'objective': 'binary:logistic',\n",
    "    'learning_rate': 0.02,\n",
    "    'random_state': 1991\n",
    "}"
   ],
   "metadata": {
    "collapsed": false,
    "pycharm": {
     "name": "#%%\n"
    }
   }
  },
  {
   "cell_type": "code",
   "execution_count": 14,
   "outputs": [],
   "source": [
    "def eval_gini(y_true, y_pred):\n",
    "    assert y_true.shape == y_pred.shape\n",
    "    n_samples = y_true.shape[0]\n",
    "    L_mid = np.linspace(1/n_samples, 1, n_samples) # 대각선 값\n",
    "\n",
    "    # 예측값에 대한 지니계수\n",
    "    pred_order = y_true[y_pred.argsort()]\n",
    "    # 로렌츠 곡선\n",
    "    L_pred = np.cumsum(pred_order) / np.sum(pred_order) # array / scalar = array\n",
    "    G_pred = np.sum(L_mid - L_pred) # 예측값에 대한 지니계수\n",
    "\n",
    "    # 예측이 완벽할 때 지니계수\n",
    "    true_order = y_true[y_true.argsort()]\n",
    "    L_true = np.cumsum(true_order) / np.sum(true_order) # 로렌츠 곡선\n",
    "    G_true = np.sum(L_mid - L_true) # 예측이 완벽할 때의 지니계수\n",
    "\n",
    "    # 정규화된 지니계수\n",
    "    return G_pred / G_true"
   ],
   "metadata": {
    "collapsed": false,
    "pycharm": {
     "name": "#%%\n"
    }
   }
  },
  {
   "cell_type": "code",
   "execution_count": 15,
   "outputs": [],
   "source": [
    "# XGBoost용 gini() 함수\n",
    "def gini(preds, dtrain):\n",
    "    labels = dtrain.get_label() # 데이터셋의 타깃값을 반환\n",
    "    #    평가지표 이름       평가 점수     평가 점수가 높을 수록 좋은지 여부\n",
    "    return 'gini',   eval_gini(labels, preds)"
   ],
   "metadata": {
    "collapsed": false,
    "pycharm": {
     "name": "#%%\n"
    }
   }
  },
  {
   "cell_type": "code",
   "execution_count": 18,
   "outputs": [],
   "source": [
    "# 베이지안 최적화용 평가지표 계산 함수 작성\n",
    "def eval_function(max_depth, subsample, colsample_bytree, min_child_weight, reg_alpha, gamma, reg_lambda, scale_pos_weight):\n",
    "    params = {\n",
    "        'max_depth': int(round(max_depth)),\n",
    "        'subsample': subsample,\n",
    "        'colsample_bytree': colsample_bytree,\n",
    "        'min_child_weight': min_child_weight,\n",
    "        'gamma': gamma,\n",
    "        'reg_alpha': reg_alpha,\n",
    "        'reg_lambda': reg_lambda,\n",
    "        'scale_pos_weight': scale_pos_weight\n",
    "    }\n",
    "    params.update(fixed_params)\n",
    "\n",
    "    print(f'하이퍼파라미터: {params}')\n",
    "\n",
    "    xgb_model = xgb.train(\n",
    "        params=params,\n",
    "        dtrain=bayes_dtrain,\n",
    "        num_boost_round=2000,\n",
    "        evals=[(bayes_dvalid, 'bayes_dvalid')],\n",
    "        maximize=True,\n",
    "        feval=gini,\n",
    "        early_stopping_rounds=200,\n",
    "        verbose_eval=False\n",
    "    )\n",
    "    best_iter = xgb_model.best_iteration\n",
    "    preds = xgb_model.predict(bayes_dvalid, iteration_range=(0, best_iter))\n",
    "    gini_score = eval_gini(y_valid, preds)\n",
    "    print(f'지니계수 : {gini_score}\\n')\n",
    "\n",
    "    return gini_score"
   ],
   "metadata": {
    "collapsed": false,
    "pycharm": {
     "name": "#%%\n"
    }
   }
  },
  {
   "cell_type": "code",
   "execution_count": 19,
   "outputs": [
    {
     "name": "stdout",
     "output_type": "stream",
     "text": [
      "|   iter    |  target   | colsam... |   gamma   | max_depth | min_ch... | reg_alpha | reg_la... | scale_... | subsample |\n",
      "-------------------------------------------------------------------------------------------------------------------------\n",
      "하이퍼파라미터: {'max_depth': 6, 'subsample': 0.867531900234624, 'colsample_bytree': 0.8646440511781974, 'min_child_weight': 6.0897663659937935, 'gamma': 10.14556809911726, 'reg_alpha': 7.84730959867781, 'reg_lambda': 1.3583576452266626, 'scale_pos_weight': 1.4875174422525386, 'objective': 'binary:logistic', 'learning_rate': 0.02, 'random_state': 1991}\n"
     ]
    },
    {
     "name": "stderr",
     "output_type": "stream",
     "text": [
      "C:\\Users\\dukim\\miniconda3\\envs\\musthave_mldl_problem_solving_strategy\\lib\\site-packages\\xgboost\\training.py:39: UserWarning: `feval` is deprecated, use `custom_metric` instead.  They have different behavior when custom objective is also used.See https://xgboost.readthedocs.io/en/latest/tutorials/custom_metric_obj.html for details on the `custom_metric`.\n",
      "  warnings.warn(\n"
     ]
    },
    {
     "name": "stdout",
     "output_type": "stream",
     "text": [
      "지니계수 : 0.2852804659784522\n",
      "\n",
      "| \u001B[0m1        \u001B[0m | \u001B[0m0.2853   \u001B[0m | \u001B[0m0.8646   \u001B[0m | \u001B[0m10.15    \u001B[0m | \u001B[0m6.411    \u001B[0m | \u001B[0m6.09     \u001B[0m | \u001B[0m7.847    \u001B[0m | \u001B[0m1.358    \u001B[0m | \u001B[0m1.488    \u001B[0m | \u001B[0m0.8675   \u001B[0m |\n",
      "하이퍼파라미터: {'max_depth': 7, 'subsample': 0.6261387899104622, 'colsample_bytree': 0.9890988281503088, 'min_child_weight': 6.0577898395058085, 'gamma': 9.150324556477333, 'reg_alpha': 8.136089122187865, 'reg_lambda': 1.4702386553170643, 'scale_pos_weight': 1.4142072116395774, 'objective': 'binary:logistic', 'learning_rate': 0.02, 'random_state': 1991}\n",
      "지니계수 : 0.2848088779310762\n",
      "\n",
      "| \u001B[0m2        \u001B[0m | \u001B[0m0.2848   \u001B[0m | \u001B[0m0.9891   \u001B[0m | \u001B[0m9.15     \u001B[0m | \u001B[0m7.167    \u001B[0m | \u001B[0m6.058    \u001B[0m | \u001B[0m8.136    \u001B[0m | \u001B[0m1.47     \u001B[0m | \u001B[0m1.414    \u001B[0m | \u001B[0m0.6261   \u001B[0m |\n",
      "하이퍼파라미터: {'max_depth': 7, 'subsample': 0.8341587528859367, 'colsample_bytree': 0.7060655192320977, 'min_child_weight': 6.7400242964936385, 'gamma': 10.497859536643814, 'reg_alpha': 8.957236684465528, 'reg_lambda': 1.4196634256866894, 'scale_pos_weight': 1.4922958724505864, 'objective': 'binary:logistic', 'learning_rate': 0.02, 'random_state': 1991}\n",
      "지니계수 : 0.28504908755804076\n",
      "\n",
      "| \u001B[0m3        \u001B[0m | \u001B[0m0.285    \u001B[0m | \u001B[0m0.7061   \u001B[0m | \u001B[0m10.5     \u001B[0m | \u001B[0m7.113    \u001B[0m | \u001B[0m6.74     \u001B[0m | \u001B[0m8.957    \u001B[0m | \u001B[0m1.42     \u001B[0m | \u001B[0m1.492    \u001B[0m | \u001B[0m0.8342   \u001B[0m |\n",
      "하이퍼파라미터: {'max_depth': 7, 'subsample': 0.7001630536555632, 'colsample_bytree': 0.8843124587484356, 'min_child_weight': 6.494091293383359, 'gamma': 10.452246227672624, 'reg_alpha': 8.551838810159788, 'reg_lambda': 1.3814765995549108, 'scale_pos_weight': 1.423280772455086, 'objective': 'binary:logistic', 'learning_rate': 0.02, 'random_state': 1991}\n"
     ]
    },
    {
     "name": "stderr",
     "output_type": "stream",
     "text": [
      "C:\\Users\\dukim\\miniconda3\\envs\\musthave_mldl_problem_solving_strategy\\lib\\site-packages\\xgboost\\training.py:39: UserWarning: `feval` is deprecated, use `custom_metric` instead.  They have different behavior when custom objective is also used.See https://xgboost.readthedocs.io/en/latest/tutorials/custom_metric_obj.html for details on the `custom_metric`.\n",
      "  warnings.warn(\n"
     ]
    },
    {
     "name": "stdout",
     "output_type": "stream",
     "text": [
      "지니계수 : 0.28372532851421195\n",
      "\n",
      "| \u001B[0m4        \u001B[0m | \u001B[0m0.2837   \u001B[0m | \u001B[0m0.8843   \u001B[0m | \u001B[0m10.45    \u001B[0m | \u001B[0m6.838    \u001B[0m | \u001B[0m6.494    \u001B[0m | \u001B[0m8.552    \u001B[0m | \u001B[0m1.381    \u001B[0m | \u001B[0m1.423    \u001B[0m | \u001B[0m0.7002   \u001B[0m |\n",
      "하이퍼파라미터: {'max_depth': 7, 'subsample': 0.8535233675350644, 'colsample_bytree': 0.92975858050776, 'min_child_weight': 6.249564429359247, 'gamma': 9.95563546750357, 'reg_alpha': 8.411512219837842, 'reg_lambda': 1.424460008293778, 'scale_pos_weight': 1.5416807226581535, 'objective': 'binary:logistic', 'learning_rate': 0.02, 'random_state': 1991}\n"
     ]
    },
    {
     "name": "stderr",
     "output_type": "stream",
     "text": [
      "C:\\Users\\dukim\\miniconda3\\envs\\musthave_mldl_problem_solving_strategy\\lib\\site-packages\\xgboost\\training.py:39: UserWarning: `feval` is deprecated, use `custom_metric` instead.  They have different behavior when custom objective is also used.See https://xgboost.readthedocs.io/en/latest/tutorials/custom_metric_obj.html for details on the `custom_metric`.\n",
      "  warnings.warn(\n"
     ]
    },
    {
     "name": "stdout",
     "output_type": "stream",
     "text": [
      "지니계수 : 0.28530004505451917\n",
      "\n",
      "| \u001B[95m5        \u001B[0m | \u001B[95m0.2853   \u001B[0m | \u001B[95m0.9298   \u001B[0m | \u001B[95m9.956    \u001B[0m | \u001B[95m6.809    \u001B[0m | \u001B[95m6.25     \u001B[0m | \u001B[95m8.412    \u001B[0m | \u001B[95m1.424    \u001B[0m | \u001B[95m1.542    \u001B[0m | \u001B[95m0.8535   \u001B[0m |\n",
      "하이퍼파라미터: {'max_depth': 7, 'subsample': 0.6462619019069298, 'colsample_bytree': 0.80929192865947, 'min_child_weight': 6.079999276892042, 'gamma': 9.553916776586505, 'reg_alpha': 8.860396362258099, 'reg_lambda': 1.4050740023119348, 'scale_pos_weight': 1.4668544695338273, 'objective': 'binary:logistic', 'learning_rate': 0.02, 'random_state': 1991}\n"
     ]
    },
    {
     "name": "stderr",
     "output_type": "stream",
     "text": [
      "C:\\Users\\dukim\\miniconda3\\envs\\musthave_mldl_problem_solving_strategy\\lib\\site-packages\\xgboost\\training.py:39: UserWarning: `feval` is deprecated, use `custom_metric` instead.  They have different behavior when custom objective is also used.See https://xgboost.readthedocs.io/en/latest/tutorials/custom_metric_obj.html for details on the `custom_metric`.\n",
      "  warnings.warn(\n"
     ]
    },
    {
     "name": "stdout",
     "output_type": "stream",
     "text": [
      "지니계수 : 0.2852898511572112\n",
      "\n",
      "| \u001B[0m6        \u001B[0m | \u001B[0m0.2853   \u001B[0m | \u001B[0m0.8093   \u001B[0m | \u001B[0m9.554    \u001B[0m | \u001B[0m6.532    \u001B[0m | \u001B[0m6.08     \u001B[0m | \u001B[0m8.86     \u001B[0m | \u001B[0m1.405    \u001B[0m | \u001B[0m1.467    \u001B[0m | \u001B[0m0.6463   \u001B[0m |\n",
      "하이퍼파라미터: {'max_depth': 7, 'subsample': 0.6931141936797243, 'colsample_bytree': 0.8817801730078565, 'min_child_weight': 6.992334203641873, 'gamma': 9.013424730095146, 'reg_alpha': 7.640858389939128, 'reg_lambda': 1.3562805915715632, 'scale_pos_weight': 1.449446257931491, 'objective': 'binary:logistic', 'learning_rate': 0.02, 'random_state': 1991}\n"
     ]
    },
    {
     "name": "stderr",
     "output_type": "stream",
     "text": [
      "C:\\Users\\dukim\\miniconda3\\envs\\musthave_mldl_problem_solving_strategy\\lib\\site-packages\\xgboost\\training.py:39: UserWarning: `feval` is deprecated, use `custom_metric` instead.  They have different behavior when custom objective is also used.See https://xgboost.readthedocs.io/en/latest/tutorials/custom_metric_obj.html for details on the `custom_metric`.\n",
      "  warnings.warn(\n"
     ]
    },
    {
     "name": "stdout",
     "output_type": "stream",
     "text": [
      "지니계수 : 0.28467572646560496\n",
      "\n",
      "| \u001B[0m7        \u001B[0m | \u001B[0m0.2847   \u001B[0m | \u001B[0m0.8818   \u001B[0m | \u001B[0m9.013    \u001B[0m | \u001B[0m6.927    \u001B[0m | \u001B[0m6.992    \u001B[0m | \u001B[0m7.641    \u001B[0m | \u001B[0m1.356    \u001B[0m | \u001B[0m1.449    \u001B[0m | \u001B[0m0.6931   \u001B[0m |\n",
      "하이퍼파라미터: {'max_depth': 5, 'subsample': 0.6261564417044092, 'colsample_bytree': 0.8763145220620449, 'min_child_weight': 5.135323353557588, 'gamma': 8.39495450163982, 'reg_alpha': 8.950443047087845, 'reg_lambda': 1.4235649099168255, 'scale_pos_weight': 1.5217625173811569, 'objective': 'binary:logistic', 'learning_rate': 0.02, 'random_state': 1991}\n"
     ]
    },
    {
     "name": "stderr",
     "output_type": "stream",
     "text": [
      "C:\\Users\\dukim\\miniconda3\\envs\\musthave_mldl_problem_solving_strategy\\lib\\site-packages\\xgboost\\training.py:39: UserWarning: `feval` is deprecated, use `custom_metric` instead.  They have different behavior when custom objective is also used.See https://xgboost.readthedocs.io/en/latest/tutorials/custom_metric_obj.html for details on the `custom_metric`.\n",
      "  warnings.warn(\n"
     ]
    },
    {
     "name": "stdout",
     "output_type": "stream",
     "text": [
      "지니계수 : 0.28457181017567373\n",
      "\n",
      "| \u001B[0m8        \u001B[0m | \u001B[0m0.2846   \u001B[0m | \u001B[0m0.8763   \u001B[0m | \u001B[0m8.395    \u001B[0m | \u001B[0m4.561    \u001B[0m | \u001B[0m5.135    \u001B[0m | \u001B[0m8.95     \u001B[0m | \u001B[0m1.424    \u001B[0m | \u001B[0m1.522    \u001B[0m | \u001B[0m0.6262   \u001B[0m |\n",
      "하이퍼파라미터: {'max_depth': 6, 'subsample': 0.857971740304964, 'colsample_bytree': 0.9583821245229369, 'min_child_weight': 6.158305055403563, 'gamma': 9.305332775334449, 'reg_alpha': 8.200928434091152, 'reg_lambda': 1.2571039588093065, 'scale_pos_weight': 1.4700266933495618, 'objective': 'binary:logistic', 'learning_rate': 0.02, 'random_state': 1991}\n"
     ]
    },
    {
     "name": "stderr",
     "output_type": "stream",
     "text": [
      "C:\\Users\\dukim\\miniconda3\\envs\\musthave_mldl_problem_solving_strategy\\lib\\site-packages\\xgboost\\training.py:39: UserWarning: `feval` is deprecated, use `custom_metric` instead.  They have different behavior when custom objective is also used.See https://xgboost.readthedocs.io/en/latest/tutorials/custom_metric_obj.html for details on the `custom_metric`.\n",
      "  warnings.warn(\n"
     ]
    },
    {
     "name": "stdout",
     "output_type": "stream",
     "text": [
      "지니계수 : 0.28538973194158385\n",
      "\n",
      "| \u001B[95m9        \u001B[0m | \u001B[95m0.2854   \u001B[0m | \u001B[95m0.9584   \u001B[0m | \u001B[95m9.305    \u001B[0m | \u001B[95m5.594    \u001B[0m | \u001B[95m6.158    \u001B[0m | \u001B[95m8.201    \u001B[0m | \u001B[95m1.257    \u001B[0m | \u001B[95m1.47     \u001B[0m | \u001B[95m0.858    \u001B[0m |\n",
      "=========================================================================================================================\n"
     ]
    }
   ],
   "source": [
    "# 최적화 수행\n",
    "from bayes_opt import BayesianOptimization\n",
    "optimizer = BayesianOptimization(\n",
    "    f=eval_function,\n",
    "    pbounds=param_bounds,\n",
    "    random_state=0\n",
    ")\n",
    "optimizer.maximize(init_points=3, n_iter=6)"
   ],
   "metadata": {
    "collapsed": false,
    "pycharm": {
     "name": "#%%\n"
    }
   }
  },
  {
   "cell_type": "code",
   "execution_count": 20,
   "outputs": [
    {
     "data": {
      "text/plain": "{'colsample_bytree': 0.9583821245229369,\n 'gamma': 9.305332775334449,\n 'max_depth': 5.594282602920541,\n 'min_child_weight': 6.158305055403563,\n 'reg_alpha': 8.200928434091152,\n 'reg_lambda': 1.2571039588093065,\n 'scale_pos_weight': 1.4700266933495618,\n 'subsample': 0.857971740304964}"
     },
     "execution_count": 20,
     "metadata": {},
     "output_type": "execute_result"
    }
   ],
   "source": [
    "# 결과 확인\n",
    "max_params = optimizer.max['params']\n",
    "max_params"
   ],
   "metadata": {
    "collapsed": false,
    "pycharm": {
     "name": "#%%\n"
    }
   }
  },
  {
   "cell_type": "code",
   "execution_count": 21,
   "outputs": [
    {
     "data": {
      "text/plain": "{'colsample_bytree': 0.9583821245229369,\n 'gamma': 9.305332775334449,\n 'max_depth': 6,\n 'min_child_weight': 6.158305055403563,\n 'reg_alpha': 8.200928434091152,\n 'reg_lambda': 1.2571039588093065,\n 'scale_pos_weight': 1.4700266933495618,\n 'subsample': 0.857971740304964,\n 'objective': 'binary:logistic',\n 'learning_rate': 0.02,\n 'random_state': 1991}"
     },
     "execution_count": 21,
     "metadata": {},
     "output_type": "execute_result"
    }
   ],
   "source": [
    "# 정수형 하이퍼파라미터 변환\n",
    "max_params['max_depth'] = int(round(max_params['max_depth']))\n",
    "# 값이 고정된 파라미터 추가\n",
    "max_params.update(fixed_params)\n",
    "max_params"
   ],
   "metadata": {
    "collapsed": false,
    "pycharm": {
     "name": "#%%\n"
    }
   }
  },
  {
   "cell_type": "markdown",
   "source": [
    "### 8.5.3 모델 훈련 및 성능 검증"
   ],
   "metadata": {
    "collapsed": false,
    "pycharm": {
     "name": "#%% md\n"
    }
   }
  },
  {
   "cell_type": "code",
   "execution_count": 22,
   "outputs": [],
   "source": [
    "# OOF 방식으로 LightGBM 훈련\n",
    "from sklearn.model_selection import StratifiedKFold\n",
    "\n",
    "folds = StratifiedKFold(n_splits=5, shuffle=True, random_state=1991)"
   ],
   "metadata": {
    "collapsed": false,
    "pycharm": {
     "name": "#%%\n"
    }
   }
  },
  {
   "cell_type": "code",
   "execution_count": 28,
   "outputs": [
    {
     "name": "stdout",
     "output_type": "stream",
     "text": [
      "######################################## 폴드 1 / 폴드 5 ########################################\n"
     ]
    },
    {
     "name": "stderr",
     "output_type": "stream",
     "text": [
      "C:\\Users\\dukim\\miniconda3\\envs\\musthave_mldl_problem_solving_strategy\\lib\\site-packages\\xgboost\\training.py:39: UserWarning: `feval` is deprecated, use `custom_metric` instead.  They have different behavior when custom objective is also used.See https://xgboost.readthedocs.io/en/latest/tutorials/custom_metric_obj.html for details on the `custom_metric`.\n",
      "  warnings.warn(\n"
     ]
    },
    {
     "name": "stdout",
     "output_type": "stream",
     "text": [
      "[0]\tvalid-logloss:0.67671\tvalid-gini:0.18176\n",
      "[100]\tvalid-logloss:0.19163\tvalid-gini:0.26620\n",
      "[200]\tvalid-logloss:0.15769\tvalid-gini:0.30439\n",
      "[300]\tvalid-logloss:0.15400\tvalid-gini:0.32071\n",
      "[400]\tvalid-logloss:0.15317\tvalid-gini:0.33208\n",
      "[500]\tvalid-logloss:0.15286\tvalid-gini:0.33811\n",
      "[600]\tvalid-logloss:0.15264\tvalid-gini:0.34294\n",
      "[700]\tvalid-logloss:0.15246\tvalid-gini:0.34775\n",
      "[800]\tvalid-logloss:0.15230\tvalid-gini:0.35132\n",
      "[900]\tvalid-logloss:0.15218\tvalid-gini:0.35437\n",
      "[1000]\tvalid-logloss:0.15205\tvalid-gini:0.35755\n",
      "[1100]\tvalid-logloss:0.15194\tvalid-gini:0.35998\n",
      "[1200]\tvalid-logloss:0.15183\tvalid-gini:0.36271\n",
      "[1300]\tvalid-logloss:0.15170\tvalid-gini:0.36551\n",
      "[1400]\tvalid-logloss:0.15159\tvalid-gini:0.36781\n",
      "[1500]\tvalid-logloss:0.15151\tvalid-gini:0.37008\n",
      "[1600]\tvalid-logloss:0.15141\tvalid-gini:0.37226\n",
      "[1700]\tvalid-logloss:0.15133\tvalid-gini:0.37434\n",
      "[1800]\tvalid-logloss:0.15126\tvalid-gini:0.37590\n",
      "[1900]\tvalid-logloss:0.15116\tvalid-gini:0.37828\n",
      "[1999]\tvalid-logloss:0.15107\tvalid-gini:0.38025\n",
      "폴드 1 지니계수 : 0.3802497539806338\n",
      "\n",
      "######################################## 폴드 2 / 폴드 5 ########################################\n",
      "[0]\tvalid-logloss:0.67671\tvalid-gini:0.15778\n",
      "[100]\tvalid-logloss:0.19173\tvalid-gini:0.25283\n",
      "[200]\tvalid-logloss:0.15797\tvalid-gini:0.28963\n",
      "[300]\tvalid-logloss:0.15441\tvalid-gini:0.30410\n",
      "[400]\tvalid-logloss:0.15363\tvalid-gini:0.31461\n",
      "[500]\tvalid-logloss:0.15332\tvalid-gini:0.32089\n",
      "[600]\tvalid-logloss:0.15310\tvalid-gini:0.32562\n",
      "[700]\tvalid-logloss:0.15294\tvalid-gini:0.33009\n",
      "[800]\tvalid-logloss:0.15277\tvalid-gini:0.33356\n",
      "[900]\tvalid-logloss:0.15265\tvalid-gini:0.33643\n",
      "[1000]\tvalid-logloss:0.15253\tvalid-gini:0.33974\n",
      "[1100]\tvalid-logloss:0.15242\tvalid-gini:0.34219\n",
      "[1200]\tvalid-logloss:0.15231\tvalid-gini:0.34495\n",
      "[1300]\tvalid-logloss:0.15217\tvalid-gini:0.34790\n",
      "[1400]\tvalid-logloss:0.15206\tvalid-gini:0.35037\n",
      "[1500]\tvalid-logloss:0.15197\tvalid-gini:0.35251\n",
      "[1600]\tvalid-logloss:0.15188\tvalid-gini:0.35451\n",
      "[1700]\tvalid-logloss:0.15180\tvalid-gini:0.35655\n",
      "[1800]\tvalid-logloss:0.15172\tvalid-gini:0.35836\n",
      "[1900]\tvalid-logloss:0.15163\tvalid-gini:0.36049\n",
      "[1999]\tvalid-logloss:0.15153\tvalid-gini:0.36268\n",
      "폴드 2 지니계수 : 0.3626784932346966\n",
      "\n",
      "######################################## 폴드 3 / 폴드 5 ########################################\n",
      "[0]\tvalid-logloss:0.67671\tvalid-gini:0.16121\n",
      "[100]\tvalid-logloss:0.19166\tvalid-gini:0.25865\n",
      "[200]\tvalid-logloss:0.15773\tvalid-gini:0.29565\n",
      "[300]\tvalid-logloss:0.15411\tvalid-gini:0.30987\n",
      "[400]\tvalid-logloss:0.15337\tvalid-gini:0.31862\n",
      "[500]\tvalid-logloss:0.15309\tvalid-gini:0.32382\n",
      "[600]\tvalid-logloss:0.15291\tvalid-gini:0.32775\n",
      "[700]\tvalid-logloss:0.15276\tvalid-gini:0.33166\n",
      "[800]\tvalid-logloss:0.15261\tvalid-gini:0.33451\n",
      "[900]\tvalid-logloss:0.15250\tvalid-gini:0.33712\n",
      "[1000]\tvalid-logloss:0.15240\tvalid-gini:0.33980\n",
      "[1100]\tvalid-logloss:0.15229\tvalid-gini:0.34234\n",
      "[1200]\tvalid-logloss:0.15217\tvalid-gini:0.34526\n",
      "[1300]\tvalid-logloss:0.15204\tvalid-gini:0.34811\n",
      "[1400]\tvalid-logloss:0.15193\tvalid-gini:0.35064\n",
      "[1500]\tvalid-logloss:0.15185\tvalid-gini:0.35275\n",
      "[1600]\tvalid-logloss:0.15176\tvalid-gini:0.35492\n",
      "[1700]\tvalid-logloss:0.15168\tvalid-gini:0.35692\n",
      "[1800]\tvalid-logloss:0.15160\tvalid-gini:0.35865\n",
      "[1900]\tvalid-logloss:0.15150\tvalid-gini:0.36102\n",
      "[1999]\tvalid-logloss:0.15141\tvalid-gini:0.36296\n",
      "폴드 3 지니계수 : 0.36296201545497014\n",
      "\n",
      "######################################## 폴드 4 / 폴드 5 ########################################\n",
      "[0]\tvalid-logloss:0.67671\tvalid-gini:0.17208\n",
      "[100]\tvalid-logloss:0.19166\tvalid-gini:0.25132\n",
      "[200]\tvalid-logloss:0.15791\tvalid-gini:0.28553\n",
      "[300]\tvalid-logloss:0.15438\tvalid-gini:0.29868\n",
      "[400]\tvalid-logloss:0.15363\tvalid-gini:0.30818\n",
      "[500]\tvalid-logloss:0.15333\tvalid-gini:0.31457\n",
      "[600]\tvalid-logloss:0.15313\tvalid-gini:0.31920\n",
      "[700]\tvalid-logloss:0.15297\tvalid-gini:0.32361\n",
      "[800]\tvalid-logloss:0.15281\tvalid-gini:0.32708\n",
      "[900]\tvalid-logloss:0.15269\tvalid-gini:0.33006\n",
      "[1000]\tvalid-logloss:0.15258\tvalid-gini:0.33317\n",
      "[1100]\tvalid-logloss:0.15247\tvalid-gini:0.33565\n",
      "[1200]\tvalid-logloss:0.15236\tvalid-gini:0.33853\n",
      "[1300]\tvalid-logloss:0.15224\tvalid-gini:0.34102\n",
      "[1400]\tvalid-logloss:0.15214\tvalid-gini:0.34333\n",
      "[1500]\tvalid-logloss:0.15206\tvalid-gini:0.34548\n",
      "[1600]\tvalid-logloss:0.15196\tvalid-gini:0.34778\n",
      "[1700]\tvalid-logloss:0.15188\tvalid-gini:0.34970\n",
      "[1800]\tvalid-logloss:0.15181\tvalid-gini:0.35147\n",
      "[1900]\tvalid-logloss:0.15171\tvalid-gini:0.35370\n",
      "[1999]\tvalid-logloss:0.15162\tvalid-gini:0.35587\n",
      "폴드 4 지니계수 : 0.35587535802480147\n",
      "\n",
      "######################################## 폴드 5 / 폴드 5 ########################################\n",
      "[0]\tvalid-logloss:0.67671\tvalid-gini:0.17493\n",
      "[100]\tvalid-logloss:0.19173\tvalid-gini:0.26039\n",
      "[200]\tvalid-logloss:0.15795\tvalid-gini:0.29857\n",
      "[300]\tvalid-logloss:0.15434\tvalid-gini:0.31355\n",
      "[400]\tvalid-logloss:0.15355\tvalid-gini:0.32412\n",
      "[500]\tvalid-logloss:0.15323\tvalid-gini:0.33024\n",
      "[600]\tvalid-logloss:0.15302\tvalid-gini:0.33491\n",
      "[700]\tvalid-logloss:0.15284\tvalid-gini:0.33962\n",
      "[800]\tvalid-logloss:0.15267\tvalid-gini:0.34351\n",
      "[900]\tvalid-logloss:0.15254\tvalid-gini:0.34674\n",
      "[1000]\tvalid-logloss:0.15241\tvalid-gini:0.34999\n",
      "[1100]\tvalid-logloss:0.15229\tvalid-gini:0.35301\n",
      "[1200]\tvalid-logloss:0.15217\tvalid-gini:0.35626\n",
      "[1300]\tvalid-logloss:0.15202\tvalid-gini:0.35943\n",
      "[1400]\tvalid-logloss:0.15190\tvalid-gini:0.36211\n",
      "[1500]\tvalid-logloss:0.15181\tvalid-gini:0.36451\n",
      "[1600]\tvalid-logloss:0.15171\tvalid-gini:0.36670\n",
      "[1700]\tvalid-logloss:0.15163\tvalid-gini:0.36865\n",
      "[1800]\tvalid-logloss:0.15156\tvalid-gini:0.37022\n",
      "[1900]\tvalid-logloss:0.15147\tvalid-gini:0.37244\n",
      "[1999]\tvalid-logloss:0.15137\tvalid-gini:0.37439\n",
      "폴드 5 지니계수 : 0.37438775139660124\n",
      "\n"
     ]
    }
   ],
   "source": [
    "oof_val_preds = np.zeros(X.shape[0])\n",
    "oof_test_preds = np.zeros(X_test.shape[0])\n",
    "for idx, (train_idx, valid_idx) in enumerate(folds.split(X, y)):\n",
    "    print('#'*40, f'폴드 {idx+1} / 폴드 {folds.n_splits}', '#'*40)\n",
    "    X_train, y_train = X[train_idx], y[train_idx]\n",
    "    X_valid, y_valid = X[valid_idx], y[valid_idx]\n",
    "\n",
    "    dtrain = xgb.DMatrix(X_train, y_train)\n",
    "    dvalid = xgb.DMatrix(X_valid, y_valid)\n",
    "    dtest = xgb.DMatrix(X_test)\n",
    "\n",
    "    xgb_model = xgb.train(\n",
    "        params=max_params,             # 훈련용 하이퍼파라미터\n",
    "        dtrain=bayes_dtrain,          # 훈련 데이터셋\n",
    "        num_boost_round=2000,      # 부스팅 반복 횟수\n",
    "        evals=[(dvalid, 'valid')],         # 상능 평가용 검증 데이터셋\n",
    "        maximize=True,\n",
    "        feval=gini,                # 검증용 평가지표\n",
    "        early_stopping_rounds=200, # 조기종료 조건\n",
    "        verbose_eval=100           # 100번째마다 점수 출력\n",
    "    )\n",
    "    best_iter = xgb_model.best_iteration\n",
    "    oof_test_preds += xgb_model.predict(dtest)/folds.n_splits\n",
    "    oof_val_preds[valid_idx] += xgb_model.predict(dvalid)\n",
    "\n",
    "    gini_score = eval_gini(y_valid, oof_val_preds[valid_idx])\n",
    "    print(f'폴드 {idx+1} 지니계수 : {gini_score}\\n')"
   ],
   "metadata": {
    "collapsed": false,
    "pycharm": {
     "name": "#%%\n"
    }
   }
  },
  {
   "cell_type": "code",
   "execution_count": 29,
   "outputs": [
    {
     "name": "stdout",
     "output_type": "stream",
     "text": [
      "OOF 검증 데이터 지니계수: 0.3672147450586398\n"
     ]
    }
   ],
   "source": [
    "print(f'OOF 검증 데이터 지니계수: {eval_gini(y, oof_val_preds)}')"
   ],
   "metadata": {
    "collapsed": false,
    "pycharm": {
     "name": "#%%\n"
    }
   }
  },
  {
   "cell_type": "code",
   "execution_count": 30,
   "outputs": [],
   "source": [
    "submission_df['target'] = oof_test_preds\n",
    "submission_df.to_csv(data_path+'submission_enhanced2.csv')"
   ],
   "metadata": {
    "collapsed": false,
    "pycharm": {
     "name": "#%%\n"
    }
   }
  },
  {
   "cell_type": "code",
   "execution_count": null,
   "outputs": [],
   "source": [],
   "metadata": {
    "collapsed": false,
    "pycharm": {
     "name": "#%%\n"
    }
   }
  }
 ],
 "metadata": {
  "kernelspec": {
   "display_name": "Python 3",
   "language": "python",
   "name": "python3"
  },
  "language_info": {
   "codemirror_mode": {
    "name": "ipython",
    "version": 2
   },
   "file_extension": ".py",
   "mimetype": "text/x-python",
   "name": "python",
   "nbconvert_exporter": "python",
   "pygments_lexer": "ipython2",
   "version": "2.7.6"
  }
 },
 "nbformat": 4,
 "nbformat_minor": 0
}