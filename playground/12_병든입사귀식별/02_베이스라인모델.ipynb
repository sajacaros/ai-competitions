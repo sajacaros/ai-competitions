{
 "cells": [
  {
   "cell_type": "markdown",
   "metadata": {
    "collapsed": true,
    "pycharm": {
     "name": "#%% md\n"
    }
   },
   "source": [
    "## 12.3 베이스라인 모델\n",
    "### 12.3.1 시드값 고정 및 GPU 장비 설정"
   ]
  },
  {
   "cell_type": "code",
   "execution_count": null,
   "outputs": [],
   "source": [
    "# 시드값 고정\n",
    "import torch\n",
    "import random\n",
    "import numpy as np\n",
    "import os\n",
    "\n",
    "seed = 50\n",
    "os.environ['PYTHONHASHSEED'] = str(seed)\n",
    "random.seed(seed)\n",
    "np.random.seed(seed)\n",
    "torch.manual_seed(seed)\n",
    "torch.cuda.manual_seed(seed)\n",
    "torch.cuda.manual_seed_all(seed)\n",
    "torch.backends.cudnn.deterministic = True\n",
    "torch.backends.cudnn.benchmark = False\n",
    "torch.backends.cudnn.enabled = False"
   ],
   "metadata": {
    "collapsed": false,
    "pycharm": {
     "name": "#%%\n",
     "is_executing": true
    }
   }
  },
  {
   "cell_type": "code",
   "execution_count": null,
   "outputs": [],
   "source": [
    "# 장비 설정\n",
    "device = torch.device('cuda' if torch.cuda.is_available() else 'cpu')\n",
    "device"
   ],
   "metadata": {
    "collapsed": false,
    "pycharm": {
     "name": "#%%\n",
     "is_executing": true
    }
   }
  },
  {
   "cell_type": "markdown",
   "source": [
    "### 12.3.2 데이터 준비"
   ],
   "metadata": {
    "collapsed": false,
    "pycharm": {
     "name": "#%% md\n"
    }
   }
  },
  {
   "cell_type": "code",
   "execution_count": null,
   "outputs": [],
   "source": [
    "import pandas as pd\n",
    "\n",
    "data_path = '../../data/12_plant/'\n",
    "train = pd.read_csv(data_path + 'train.csv')\n",
    "test = pd.read_csv(data_path + 'test.csv')\n",
    "submission = pd.read_csv(data_path + 'sample_submission.csv')"
   ],
   "metadata": {
    "collapsed": false,
    "pycharm": {
     "name": "#%%\n",
     "is_executing": true
    }
   }
  },
  {
   "cell_type": "code",
   "execution_count": null,
   "outputs": [],
   "source": [
    "# 훈련 데이터, 검증 데이터 분리\n",
    "from sklearn.model_selection import train_test_split\n",
    "\n",
    "train, valid = train_test_split(\n",
    "    train,\n",
    "    test_size=0.1,\n",
    "    stratify=train[['healthy', 'multiple_diseases', 'rust', 'scab']],\n",
    "    random_state=50\n",
    ")"
   ],
   "metadata": {
    "collapsed": false,
    "pycharm": {
     "name": "#%%\n",
     "is_executing": true
    }
   }
  },
  {
   "cell_type": "code",
   "execution_count": null,
   "outputs": [],
   "source": [
    "# 데이터 셋 클래스 정의\n",
    "import cv2\n",
    "from torch.utils.data import Dataset\n",
    "import numpy as np\n",
    "\n",
    "class ImageDataSet(Dataset):\n",
    "    def __init__(self, df, img_dir=data_path+'images/', transform=None, is_test=False):\n",
    "        super().__init__()\n",
    "        self.df = df\n",
    "        self.img_dir = img_dir\n",
    "        self.transform = transform if transform else lambda x:x\n",
    "        self.is_test = is_test\n",
    "\n",
    "    def __len__(self):\n",
    "        return len(self.df)\n",
    "\n",
    "    def __getitem__(self, idx):\n",
    "        img_id = self.df.iloc[idx, 0]\n",
    "        img_path = self.img_dir + img_id + '.jpg'\n",
    "        image = cv2.imread(img_path)\n",
    "        image = cv2.cvtColor(image, cv2.COLOR_BGR2RGB)\n",
    "        image = self.transform(image=image)['image']\n",
    "        if self.is_test:\n",
    "            return image\n",
    "        else:\n",
    "            label = np.argmax(self.df.iloc[idx, 1:5])\n",
    "            return image, label"
   ],
   "metadata": {
    "collapsed": false,
    "pycharm": {
     "name": "#%%\n",
     "is_executing": true
    }
   }
  },
  {
   "cell_type": "code",
   "execution_count": null,
   "outputs": [],
   "source": [
    "# 이미지 변환기 정의\n",
    "import albumentations as A\n",
    "from albumentations.pytorch import ToTensorV2\n",
    "\n",
    "transform_train = A.Compose([\n",
    "    A.Resize(450, 650), # 이미지 크기 조절\n",
    "    A.RandomBrightnessContrast(brightness_limit=0.2, contrast_limit=0.2, p=0.3), # 밝기 대비 조절\n",
    "    A.VerticalFlip(p=0.2), # 상하 대칭 변환\n",
    "    A.HorizontalFlip(p=0.5), # 좌우 대칭 변환\n",
    "    A.ShiftScaleRotate(shift_limit=0.1, scale_limit=0.2, rotate_limit=30, p=0.3), # 이동, 스케일링, 회전\n",
    "    A.OneOf([\n",
    "        A.Emboss(p=1), # 양각화\n",
    "        A.Sharpen(p=1), # 날카로움\n",
    "        A.Blur(p=1) # 불러 효과\n",
    "    ], p=0.3),\n",
    "    A.PiecewiseAffine(p=0.3), # 어파인 변환\n",
    "    A.Normalize(),\n",
    "    ToTensorV2()\n",
    "])\n",
    "\n",
    "transform_test  = A.Compose([\n",
    "    A.Resize(450, 650),\n",
    "    A.Normalize(),\n",
    "    ToTensorV2()\n",
    "])"
   ],
   "metadata": {
    "collapsed": false,
    "pycharm": {
     "name": "#%%\n",
     "is_executing": true
    }
   }
  },
  {
   "cell_type": "code",
   "execution_count": null,
   "outputs": [],
   "source": [
    "# 데이터셋 및 데이터 로더 생성\n",
    "img_dir = data_path+'images/'\n",
    "dataset_train = ImageDataSet(train, img_dir=img_dir, transform=transform_train)\n",
    "dataset_valid = ImageDataSet(valid, img_dir=img_dir, transform=transform_test)"
   ],
   "metadata": {
    "collapsed": false,
    "pycharm": {
     "name": "#%%\n",
     "is_executing": true
    }
   }
  },
  {
   "cell_type": "code",
   "execution_count": null,
   "outputs": [],
   "source": [
    "# 멀티프로세싱 사용을 위한 데이터 로더 시드값 고정\n",
    "def seed_worker(worker_id):\n",
    "    worker_seed = torch.initial_seed() % 2 ** 32\n",
    "    np.random.seed(worker_seed)\n",
    "    random.seed(worker_seed)\n",
    "g = torch.Generator()\n",
    "g.manual_seed(0)"
   ],
   "metadata": {
    "collapsed": false,
    "pycharm": {
     "name": "#%%\n",
     "is_executing": true
    }
   }
  },
  {
   "cell_type": "code",
   "execution_count": null,
   "outputs": [],
   "source": [
    "from torch.utils.data import DataLoader\n",
    "\n",
    "batch_size = 4\n",
    "loader_train = DataLoader(\n",
    "    dataset_train,\n",
    "    batch_size=batch_size,\n",
    "    shuffle=True,\n",
    "    worker_init_fn=seed_worker,\n",
    "    generator=g,\n",
    "    num_workers=2\n",
    ")\n",
    "loader_valid = DataLoader(\n",
    "    dataset_valid,\n",
    "    batch_size=batch_size,\n",
    "    shuffle=False,\n",
    "    worker_init_fn=seed_worker,\n",
    "    generator=g,\n",
    "    num_workers=2\n",
    ")"
   ],
   "metadata": {
    "collapsed": false,
    "pycharm": {
     "name": "#%%\n",
     "is_executing": true
    }
   }
  },
  {
   "cell_type": "markdown",
   "source": [
    "### 12.3.3 모델 생성"
   ],
   "metadata": {
    "collapsed": false,
    "pycharm": {
     "name": "#%% md\n"
    }
   }
  },
  {
   "cell_type": "code",
   "execution_count": null,
   "outputs": [],
   "source": [
    "# !pip install -qqq timm torchmetrics torchinfo"
   ],
   "metadata": {
    "collapsed": false,
    "pycharm": {
     "name": "#%%\n",
     "is_executing": true
    }
   }
  },
  {
   "cell_type": "code",
   "execution_count": null,
   "outputs": [],
   "source": [
    "import timm\n",
    "from timm import create_model\n",
    "\n",
    "model = timm.create_model('efficientnet_b4', pretrained=True, num_classes=4).to(device)"
   ],
   "metadata": {
    "collapsed": false,
    "pycharm": {
     "name": "#%%\n",
     "is_executing": true
    }
   }
  },
  {
   "cell_type": "markdown",
   "source": [
    "### 12.3.4 모델 훈련 및 성능 검증"
   ],
   "metadata": {
    "collapsed": false,
    "pycharm": {
     "name": "#%% md\n"
    }
   }
  },
  {
   "cell_type": "code",
   "execution_count": null,
   "outputs": [],
   "source": [
    "# 손실 함수와 옵티마이저\n",
    "import torch.nn as nn\n",
    "criterion = nn.CrossEntropyLoss()\n",
    "optimizer = torch.optim.AdamW(model.parameters(), lr=0.00006, weight_decay=0.0001)"
   ],
   "metadata": {
    "collapsed": false,
    "pycharm": {
     "name": "#%%\n",
     "is_executing": true
    }
   }
  },
  {
   "cell_type": "code",
   "execution_count": null,
   "outputs": [],
   "source": [
    "# from tqdm.auto import tqdm\n",
    "# # 훈련 및 성능 검증\n",
    "# epochs =\n",
    "# for epoch in range(epochs):\n",
    "#\n",
    "#     # [훈련]\n",
    "#     # 모델 훈련 상태로 설정\n",
    "#     # 에폭별 손실값 초기화(훈련데이터용)\n",
    "#     for idx, (images, labels) in tqdm(enumerate(loader_train)):\n",
    "#         # 기울기 초기화\n",
    "#         # 순전파\n",
    "#         # 손실값 계산(훈련 데이터용)\n",
    "#         # 역전파\n",
    "#         # 사중치 갱신\n",
    "#\n",
    "#     # [검증]\n",
    "#     # 모델 평가 상태로 설정\n",
    "#     with torch.no_grad():\n",
    "#         for idx, (images, labels) in tqdm(enumerate(loader_train)):\n",
    "#             # 순전파\n",
    "#             # 손실값 계산(검증 데이터용)\n",
    "#             # 예측값 및 실제값 계산\n",
    "#     # 검증 데이터 손실 값 및 ROC AUC 점수 출력"
   ],
   "metadata": {
    "collapsed": false,
    "pycharm": {
     "name": "#%%\n",
     "is_executing": true
    }
   }
  },
  {
   "cell_type": "code",
   "execution_count": null,
   "outputs": [],
   "source": [
    "from tqdm.auto import tqdm\n",
    "from sklearn.metrics import roc_auc_score\n",
    "\n",
    "# 훈련 및 성능 검증\n",
    "epochs = 5\n",
    "for epoch in range(epochs):\n",
    "\n",
    "    # [훈련]\n",
    "    # 모델 훈련 상태로 설정\n",
    "    model.train()\n",
    "    # 에폭별 손실값 초기화(훈련데이터용)\n",
    "    train_iter_loss = []\n",
    "    for idx, (images, labels) in tqdm(enumerate(loader_train)):\n",
    "        images = images.to(device)\n",
    "        labels = labels.to(device)\n",
    "        # 기울기 초기화\n",
    "        optimizer.zero_grad()\n",
    "        # 순전파\n",
    "        outputs = model(images)\n",
    "        # 손실값 계산(훈련 데이터용)\n",
    "        loss = criterion(outputs, labels)\n",
    "        train_iter_loss.append(loss.item())\n",
    "        # 역전파\n",
    "        loss.backward()\n",
    "        # 사중치 갱신\n",
    "        optimizer.step()\n",
    "    print(f'Epoch [{epoch+1}/{epochs}] - train loss : {sum(train_iter_loss)/len(loader_train):.4f}')\n",
    "\n",
    "    # [검증]\n",
    "    # 모델 평가 상태로 설정\n",
    "    model.eval()\n",
    "    valid_iter_loss = []\n",
    "    preds_list = []\n",
    "    true_onehot_list = []\n",
    "    with torch.no_grad():\n",
    "        for idx, (images, labels) in tqdm(enumerate(loader_train)):\n",
    "            images = images.to(device)\n",
    "            labels = labels.to(device)\n",
    "            # 순전파\n",
    "            outputs = model(images)\n",
    "            # 손실값 계산(검증 데이터용)\n",
    "            loss = criterion(outputs, labels)\n",
    "            valid_iter_loss.append(loss.item())\n",
    "            preds = torch.softmax(outputs.cpu(), dim=1).numpy()\n",
    "\n",
    "            # 실제값 (원-핫 인코딩 형식)\n",
    "            true_onehot = torch.eye(4)[labels.cpu()].numpy() # 실제 타깃값을\n",
    "\n",
    "            # 예측값 및 실제값 저장\n",
    "            preds_list.extend(preds)\n",
    "            true_onehot_list.extend(true_onehot)\n",
    "    # 검증 데이터 손실 값 및 ROC AUC 점수 출력\n",
    "    print(f'Epoch [{epoch+1}/{epochs}] - valid loss : {sum(valid_iter_loss)/len(loader_valid):.4f}')\n",
    "    print(f'Epoch [{epoch+1}/{epochs}] - valid roc auc : {roc_auc_score(true_onehot_list, preds_list):.4f}')"
   ],
   "metadata": {
    "collapsed": false,
    "pycharm": {
     "name": "#%%\n",
     "is_executing": true
    }
   }
  },
  {
   "cell_type": "code",
   "execution_count": null,
   "outputs": [],
   "source": [
    "torch.eye(4)[[1,2,3]]"
   ],
   "metadata": {
    "collapsed": false,
    "pycharm": {
     "name": "#%%\n",
     "is_executing": true
    }
   }
  },
  {
   "cell_type": "markdown",
   "source": [
    "### 12.3.5 예측 및 결과 제출"
   ],
   "metadata": {
    "collapsed": false,
    "pycharm": {
     "name": "#%% md\n"
    }
   }
  },
  {
   "cell_type": "code",
   "execution_count": null,
   "outputs": [],
   "source": [
    "dataset_test = ImageDataSet(test, img_dir=data_path+'images/', transform=transform_test, is_test=True)\n",
    "loader_test = DataLoader(dataset_test, batch_size=batch_size, shuffle=False, worker_init_fn=seed_worker,generator=g,num_workers=2)"
   ],
   "metadata": {
    "collapsed": false,
    "pycharm": {
     "name": "#%%\n",
     "is_executing": true
    }
   }
  },
  {
   "cell_type": "code",
   "execution_count": null,
   "outputs": [],
   "source": [
    "# 예측\n",
    "model.eval()\n",
    "preds = np.zeros((len(test),4))\n",
    "with torch.no_grad():\n",
    "    for i, images in enumerate(loader_test):\n",
    "        images = images.to(device)\n",
    "        outputs = model(images)\n",
    "        preds_part = torch.sortmax(outputs.cpu(), dim=1).squeeze().numpy()\n",
    "        preds[i*batch_size: (i+1)*batch_size] += preds_part"
   ],
   "metadata": {
    "collapsed": false,
    "pycharm": {
     "name": "#%%\n",
     "is_executing": true
    }
   }
  },
  {
   "cell_type": "code",
   "execution_count": null,
   "outputs": [],
   "source": [
    "# 결과 제출\n",
    "submission[['healthy', 'multiple_diseases', 'rust', 'scab']] = preds\n",
    "submission.to_csv(data_path+'submission.csv', index=False)"
   ],
   "metadata": {
    "collapsed": false,
    "pycharm": {
     "name": "#%%\n",
     "is_executing": true
    }
   }
  },
  {
   "cell_type": "code",
   "execution_count": null,
   "outputs": [],
   "source": [],
   "metadata": {
    "collapsed": false,
    "pycharm": {
     "name": "#%%\n",
     "is_executing": true
    }
   }
  }
 ],
 "metadata": {
  "kernelspec": {
   "display_name": "Python 3",
   "language": "python",
   "name": "python3"
  },
  "language_info": {
   "codemirror_mode": {
    "name": "ipython",
    "version": 2
   },
   "file_extension": ".py",
   "mimetype": "text/x-python",
   "name": "python",
   "nbconvert_exporter": "python",
   "pygments_lexer": "ipython2",
   "version": "2.7.6"
  }
 },
 "nbformat": 4,
 "nbformat_minor": 0
}