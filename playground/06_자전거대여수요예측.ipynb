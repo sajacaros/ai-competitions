{
 "cells": [
  {
   "cell_type": "markdown",
   "metadata": {
    "collapsed": true,
    "pycharm": {
     "name": "#%% md\n"
    }
   },
   "source": [
    "# 06 자전거 대여 수요 예측\n",
    "* 미션\n",
    "    * [자전거 대여 수량 예측](https://www.kaggle.com/c/bike-sharing-demand)\n",
    "* 평가지표\n",
    "    * RMSLE\n",
    "    * ![](images/bike_metrix.PNG)\n",
    "        * $n$ is ther number of hours in the test set\n",
    "        * $p_i$ is your  predicted count\n",
    "        * $a_i$ is the actual count\n",
    "        * $log(x)$ is the natural logarithm"
   ]
  },
  {
   "cell_type": "markdown",
   "source": [
    "## 6.1 경진대회 이해\n",
    "* 자전거 대여 수요 예측이 목표\n",
    "* 피쳐(feature)\n",
    "    * 원하는 값을 예측하기 위해 활용하는 데이터\n",
    "* 타깃값(target value)\n",
    "    * 예측해야 할 값"
   ],
   "metadata": {
    "collapsed": false
   }
  },
  {
   "cell_type": "markdown",
   "source": [
    "## 6.2 경진대회 접속 방법 및 세부 메뉴\n",
    "* data\n",
    "    * ![](images/kaggle_data.PNG)\n",
    "        * Missing : 결측값 비율"
   ],
   "metadata": {
    "collapsed": false
   }
  },
  {
   "cell_type": "markdown",
   "source": [
    "## 6.3 탐색적 데이터 분석"
   ],
   "metadata": {
    "collapsed": false
   }
  },
  {
   "cell_type": "markdown",
   "source": [
    "## 6.4 베이스라인 모델"
   ],
   "metadata": {
    "collapsed": false
   }
  },
  {
   "cell_type": "markdown",
   "source": [
    "## 6.5 성능 개선 I : 릿지 회귀 모델"
   ],
   "metadata": {
    "collapsed": false
   }
  },
  {
   "cell_type": "markdown",
   "source": [
    "## 6.6 성능 개선 II : 라쏘 회귀 모델"
   ],
   "metadata": {
    "collapsed": false
   }
  },
  {
   "cell_type": "markdown",
   "source": [
    "## 6.7 성능 개선 III : 랜덤 포레스트 회귀 모델"
   ],
   "metadata": {
    "collapsed": false
   }
  }
 ],
 "metadata": {
  "kernelspec": {
   "display_name": "Python 3",
   "language": "python",
   "name": "python3"
  },
  "language_info": {
   "codemirror_mode": {
    "name": "ipython",
    "version": 2
   },
   "file_extension": ".py",
   "mimetype": "text/x-python",
   "name": "python",
   "nbconvert_exporter": "python",
   "pygments_lexer": "ipython2",
   "version": "2.7.6"
  }
 },
 "nbformat": 4,
 "nbformat_minor": 0
}