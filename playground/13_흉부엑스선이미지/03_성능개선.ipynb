{
 "cells": [
  {
   "cell_type": "markdown",
   "source": [
    "## 13.4 성능 개선\n",
    "* EfficientNet b1~3 이용"
   ],
   "metadata": {
    "collapsed": false
   },
   "id": "c11c43b82d4a5478"
  },
  {
   "cell_type": "code",
   "execution_count": 25,
   "id": "initial_id",
   "metadata": {
    "collapsed": true,
    "ExecuteTime": {
     "end_time": "2023-11-16T12:34:53.076366300Z",
     "start_time": "2023-11-16T12:34:52.998761700Z"
    }
   },
   "outputs": [],
   "source": [
    "import pandas as pd\n",
    "import matplotlib.pyplot as plt\n",
    "import seaborn as sns\n",
    "import numpy as np\n",
    "from glob import glob\n",
    "import matplotlib as mpl\n",
    "import matplotlib.pyplot as plt\n",
    "import matplotlib.gridspec as gridspec\n",
    "import cv2\n",
    "import torch\n",
    "import random\n",
    "import os\n",
    "from tqdm.auto import tqdm"
   ]
  },
  {
   "cell_type": "code",
   "execution_count": 26,
   "outputs": [],
   "source": [
    "# 시드값 고정\n",
    "seed = 50\n",
    "os.environ['PYTHONHASHSEED'] = str(seed)\n",
    "random.seed(seed)\n",
    "np.random.seed(seed)\n",
    "torch.manual_seed(seed)\n",
    "torch.cuda.manual_seed(seed)\n",
    "torch.cuda.manual_seed_all(seed)\n",
    "torch.backends.cudnn.deterministic = True\n",
    "torch.backends.cudnn.benchmark = False\n",
    "torch.backends.cudnn.enabled = False"
   ],
   "metadata": {
    "collapsed": false,
    "ExecuteTime": {
     "end_time": "2023-11-16T12:34:53.123161800Z",
     "start_time": "2023-11-16T12:34:53.013775100Z"
    }
   },
   "id": "24576c51bb43e638"
  },
  {
   "cell_type": "code",
   "execution_count": 27,
   "outputs": [],
   "source": [
    "# GPU 장비 설정\n",
    "device = torch.device('cuda' if torch.cuda.is_available() else 'cpu')"
   ],
   "metadata": {
    "collapsed": false,
    "ExecuteTime": {
     "end_time": "2023-11-16T12:34:53.123161800Z",
     "start_time": "2023-11-16T12:34:53.029415200Z"
    }
   },
   "id": "e083bb9955720f54"
  },
  {
   "cell_type": "code",
   "execution_count": 28,
   "outputs": [],
   "source": [
    "data_path = '../../data/13_xray/chest_xray/'\n",
    "\n",
    "train_path = data_path + 'train/'\n",
    "valid_path = data_path + 'val/'\n",
    "test_path = data_path + 'test/'"
   ],
   "metadata": {
    "collapsed": false,
    "ExecuteTime": {
     "end_time": "2023-11-16T12:34:53.123161800Z",
     "start_time": "2023-11-16T12:34:53.045063400Z"
    }
   },
   "id": "bc225ee4dc62521e"
  },
  {
   "cell_type": "code",
   "execution_count": 29,
   "outputs": [],
   "source": [
    "# 데이터 증강을 위한 이미지 변환기 정의\n",
    "from torchvision import transforms\n",
    "transform_train = transforms.Compose([\n",
    "    transforms.Resize((224,224)),\n",
    "    transforms.CenterCrop(180), # 중앙 이미지 확대\n",
    "    transforms.RandomHorizontalFlip(0.5), # 좌우 대칭\n",
    "    transforms.RandomVerticalFlip(0.2), # 상하 대칭\n",
    "    transforms.RandomRotation(20), # 이미지 회전\n",
    "    transforms.ToTensor(),\n",
    "    transforms.Normalize((0.485, 0.456, 0.406), (0.229, 0.224, 0.225))\n",
    "])\n",
    "transform_valid = transforms.Compose([\n",
    "    transforms.Resize((224,224)),\n",
    "    transforms.CenterCrop(180), # 중앙 이미지 확대\n",
    "    transforms.ToTensor(),\n",
    "    transforms.Normalize((0.485, 0.456, 0.406), (0.229, 0.224, 0.225))\n",
    "])"
   ],
   "metadata": {
    "collapsed": false,
    "ExecuteTime": {
     "end_time": "2023-11-16T12:34:53.123161800Z",
     "start_time": "2023-11-16T12:34:53.060735300Z"
    }
   },
   "id": "6bb8fde264133e58"
  },
  {
   "cell_type": "code",
   "execution_count": 30,
   "outputs": [],
   "source": [
    "# 데이터셋 및 데이터 로더 생성\n",
    "from torchvision.datasets import ImageFolder\n",
    "datasets_train = ImageFolder(root=train_path, transform=transform_train)\n",
    "datasets_valid = ImageFolder(root=valid_path, transform=transform_valid)"
   ],
   "metadata": {
    "collapsed": false,
    "ExecuteTime": {
     "end_time": "2023-11-16T12:34:53.123161800Z",
     "start_time": "2023-11-16T12:34:53.076366300Z"
    }
   },
   "id": "ef1f22c91965ec31"
  },
  {
   "cell_type": "code",
   "execution_count": 31,
   "outputs": [
    {
     "data": {
      "text/plain": "<torch._C.Generator at 0x1e38b37ca10>"
     },
     "execution_count": 31,
     "metadata": {},
     "output_type": "execute_result"
    }
   ],
   "source": [
    "def seed_worker(worker_id):\n",
    "    worker_seed = torch.initial_seed() % 2 ** 32\n",
    "    np.random.seed(worker_seed)\n",
    "    random.seed(worker_seed)\n",
    "g = torch.Generator()\n",
    "g.manual_seed(0)"
   ],
   "metadata": {
    "collapsed": false,
    "ExecuteTime": {
     "end_time": "2023-11-16T12:34:53.123161800Z",
     "start_time": "2023-11-16T12:34:53.107536100Z"
    }
   },
   "id": "c478422bb0e34702"
  },
  {
   "cell_type": "code",
   "execution_count": 32,
   "outputs": [],
   "source": [
    "from torch.utils.data import DataLoader\n",
    "\n",
    "batch_size = 8\n",
    "loader_train = DataLoader(dataset=datasets_train, batch_size=batch_size, shuffle=True, worker_init_fn=seed_worker, generator=g, num_workers=0)\n",
    "loader_valid = DataLoader(dataset=datasets_valid, batch_size=batch_size, shuffle=False, worker_init_fn=seed_worker, generator=g, num_workers=0)"
   ],
   "metadata": {
    "collapsed": false,
    "ExecuteTime": {
     "end_time": "2023-11-16T12:34:53.138789600Z",
     "start_time": "2023-11-16T12:34:53.123161800Z"
    }
   },
   "id": "9fb01acfadff7999"
  },
  {
   "cell_type": "markdown",
   "source": [
    "### 13.4.1 모델생성"
   ],
   "metadata": {
    "collapsed": false
   },
   "id": "558f852f965ec14a"
  },
  {
   "cell_type": "code",
   "execution_count": 33,
   "outputs": [],
   "source": [
    "import timm\n",
    "models_list = []\n",
    "effiecient_b1 = timm.create_model('efficientnet_b1', pretrained=True).to(device)\n",
    "effiecient_b2 = timm.create_model('efficientnet_b2', pretrained=True).to(device)\n",
    "effiecient_b3 = timm.create_model('efficientnet_b3', pretrained=True).to(device)\n",
    "models_list.append(effiecient_b1)\n",
    "models_list.append(effiecient_b2)\n",
    "models_list.append(effiecient_b3)"
   ],
   "metadata": {
    "collapsed": false,
    "ExecuteTime": {
     "end_time": "2023-11-16T12:34:54.940364400Z",
     "start_time": "2023-11-16T12:34:53.138789600Z"
    }
   },
   "id": "bf709d242508d842"
  },
  {
   "cell_type": "code",
   "execution_count": 34,
   "outputs": [
    {
     "name": "stdout",
     "output_type": "stream",
     "text": [
      "model(1) 파라미터 개수 \" 7794184\n",
      "model(2) 파라미터 개수 \" 9109994\n",
      "model(3) 파라미터 개수 \" 12233232\n"
     ]
    }
   ],
   "source": [
    "for idx, model in enumerate(models_list):\n",
    "    num_params = sum(param.numel() for param in model.parameters())\n",
    "    print(f'model({idx+1}) 파라미터 개수 \" {num_params}')"
   ],
   "metadata": {
    "collapsed": false,
    "ExecuteTime": {
     "end_time": "2023-11-16T12:34:54.956346700Z",
     "start_time": "2023-11-16T12:34:54.948281400Z"
    }
   },
   "id": "c89e49a58a9ca2dc"
  },
  {
   "cell_type": "code",
   "execution_count": 35,
   "outputs": [],
   "source": [
    "# 손실 함수와 옵티마이저 설정\n",
    "import torch.nn as nn\n",
    "criterion = nn.CrossEntropyLoss()\n",
    "optimizer1 = torch.optim.Adam(models_list[0].parameters(), lr=0.0006, weight_decay=0.001)\n",
    "optimizer2 = torch.optim.Adam(models_list[1].parameters(), lr=0.0006, weight_decay=0.001)\n",
    "optimizer3 = torch.optim.Adam(models_list[2].parameters(), lr=0.0006, weight_decay=0.001)"
   ],
   "metadata": {
    "collapsed": false,
    "ExecuteTime": {
     "end_time": "2023-11-16T12:34:55.003231900Z",
     "start_time": "2023-11-16T12:34:54.956346700Z"
    }
   },
   "id": "9de4d3a44ab45123"
  },
  {
   "cell_type": "code",
   "execution_count": 36,
   "outputs": [],
   "source": [
    "from transformers import get_cosine_schedule_with_warmup\n",
    "\n",
    "epochs = 20\n",
    "scheduler1= get_cosine_schedule_with_warmup(\n",
    "    optimizer1, \n",
    "    num_warmup_steps=len(loader_train)*3,\n",
    "    num_training_steps=len(loader_train)*epochs\n",
    ")\n",
    "scheduler2= get_cosine_schedule_with_warmup(\n",
    "    optimizer2, \n",
    "    num_warmup_steps=len(loader_train)*3,\n",
    "    num_training_steps=len(loader_train)*epochs\n",
    ")\n",
    "scheduler3= get_cosine_schedule_with_warmup(\n",
    "    optimizer3, \n",
    "    num_warmup_steps=len(loader_train)*3,\n",
    "    num_training_steps=len(loader_train)*epochs\n",
    ")"
   ],
   "metadata": {
    "collapsed": false,
    "ExecuteTime": {
     "end_time": "2023-11-16T12:34:55.003231900Z",
     "start_time": "2023-11-16T12:34:54.971997900Z"
    }
   },
   "id": "7ea76eed9afefa68"
  },
  {
   "cell_type": "code",
   "execution_count": 0,
   "outputs": [],
   "source": [
    "### 13.4.2 모델 훈련 및 성능 검증"
   ],
   "metadata": {
    "collapsed": false
   },
   "id": "80f92b3aa1187190"
  },
  {
   "cell_type": "code",
   "execution_count": 47,
   "outputs": [],
   "source": [
    "from sklearn.metrics import accuracy_score,f1_score,recall_score "
   ],
   "metadata": {
    "collapsed": false,
    "ExecuteTime": {
     "end_time": "2023-11-16T16:28:34.110844500Z",
     "start_time": "2023-11-16T16:28:34.085768600Z"
    }
   },
   "id": "84249a87a74a8c2f"
  },
  {
   "cell_type": "code",
   "execution_count": 38,
   "outputs": [],
   "source": [
    "# 훈련 함수 작성\n",
    "def train(model, loader_train, loader_valid, criterion, optimizer, scheduler=None, epochs=10, save_file='model_state_dict.pth'):\n",
    "    valid_loss_min = np.inf\n",
    "    for epoch in range(epochs):\n",
    "        print(f'train epoch [{epoch+1}/{epochs}]\\n-------------------------------')\n",
    "        model.train()\n",
    "        epoch_train_loss=0\n",
    "        for images, labels in tqdm(loader_train):\n",
    "            images = images.to(device)\n",
    "            labels = labels.to(device)\n",
    "            \n",
    "            optimizer.zero_grad()\n",
    "            outputs = model(images)\n",
    "            loss = criterion(outputs, labels)\n",
    "            epoch_train_loss += loss.item()\n",
    "            loss.backward()\n",
    "            optimizer.step()\n",
    "            if scheduler !=None:\n",
    "                scheduler.step()\n",
    "        print(f'\\t훈련 데이터 손실값 : {epoch_train_loss/len(loader_train):.4f}')\n",
    "    \n",
    "        print(f'valid epoch [{epoch+1}/{epochs}]\\n-------------------------------')\n",
    "        model.eval()\n",
    "        epoch_valid_loss=0\n",
    "        preds_list = []\n",
    "        true_list = []\n",
    "        with torch.no_grad():\n",
    "            for images, labels in tqdm(loader_valid):\n",
    "                images = images.to(device)\n",
    "                labels = labels.to(device)\n",
    "                \n",
    "                outputs = model(images)\n",
    "                loss = criterion(outputs, labels)\n",
    "                epoch_valid_loss += loss.item()\n",
    "                \n",
    "                preds = torch.max(outputs.cpu(), dim=1)[1].numpy()\n",
    "                true = labels.cpu().numpy()\n",
    "                \n",
    "                preds_list.extend(preds)\n",
    "                true_list.extend(true)\n",
    "                \n",
    "            print(f'\\tvalid 데이터 손실값 : {epoch_valid_loss/len(loader_valid):.4f}')\n",
    "            val_accuracy = accuracy_score(true_list, preds_list)\n",
    "            val_recall = recall_score(true_list, preds_list)\n",
    "            val_f1_score = f1_score(true_list, preds_list)\n",
    "            print(f'\\t정확도 : {val_accuracy:.4f} / 재현률 : {val_recall:.4f} / F1-score : {val_f1_score:.4f}')\n",
    "            \n",
    "            if epoch_valid_loss <= valid_loss_min:\n",
    "                print(f'\\t valid 데이터 loss 감소({valid_loss_min:.4f}=>{epoch_valid_loss:.4f}). 모델 저장')\n",
    "                torch.save(model.state_dict(), save_file)\n",
    "                valid_loss_min = epoch_valid_loss\n",
    "    \n",
    "    return torch.load(save_file)"
   ],
   "metadata": {
    "collapsed": false,
    "ExecuteTime": {
     "end_time": "2023-11-16T12:34:55.018870600Z",
     "start_time": "2023-11-16T12:34:55.003231900Z"
    }
   },
   "id": "7b99481db2a2484f"
  },
  {
   "cell_type": "code",
   "execution_count": 39,
   "outputs": [
    {
     "name": "stdout",
     "output_type": "stream",
     "text": [
      "train epoch [1/20]\n",
      "-------------------------------\n"
     ]
    },
    {
     "data": {
      "text/plain": "  0%|          | 0/652 [00:00<?, ?it/s]",
      "application/vnd.jupyter.widget-view+json": {
       "version_major": 2,
       "version_minor": 0,
       "model_id": "7b4707f1672243b4946f8a7930f27618"
      }
     },
     "metadata": {},
     "output_type": "display_data"
    },
    {
     "name": "stdout",
     "output_type": "stream",
     "text": [
      "\t훈련 데이터 손실값 : 1.5424\n",
      "valid epoch [1/20]\n",
      "-------------------------------\n"
     ]
    },
    {
     "data": {
      "text/plain": "  0%|          | 0/2 [00:00<?, ?it/s]",
      "application/vnd.jupyter.widget-view+json": {
       "version_major": 2,
       "version_minor": 0,
       "model_id": "1a119f5c11a244819dce36b4422177f1"
      }
     },
     "metadata": {},
     "output_type": "display_data"
    },
    {
     "name": "stdout",
     "output_type": "stream",
     "text": [
      "\tvalid 데이터 손실값 : 1.7000\n",
      "\t정확도 : 0.6250 / 재현률 : 1.0000 / F1-score : 0.7273\n",
      "\t valid 데이터 loss 감소(inf=>3.3999). 모델 저장\n",
      "train epoch [2/20]\n",
      "-------------------------------\n"
     ]
    },
    {
     "data": {
      "text/plain": "  0%|          | 0/652 [00:00<?, ?it/s]",
      "application/vnd.jupyter.widget-view+json": {
       "version_major": 2,
       "version_minor": 0,
       "model_id": "af09ff49cbb64b7ea47276c4da24030a"
      }
     },
     "metadata": {},
     "output_type": "display_data"
    },
    {
     "name": "stdout",
     "output_type": "stream",
     "text": [
      "\t훈련 데이터 손실값 : 0.1437\n",
      "valid epoch [2/20]\n",
      "-------------------------------\n"
     ]
    },
    {
     "data": {
      "text/plain": "  0%|          | 0/2 [00:00<?, ?it/s]",
      "application/vnd.jupyter.widget-view+json": {
       "version_major": 2,
       "version_minor": 0,
       "model_id": "43f322a5b9fb4862bdc32784c7743e69"
      }
     },
     "metadata": {},
     "output_type": "display_data"
    },
    {
     "name": "stdout",
     "output_type": "stream",
     "text": [
      "\tvalid 데이터 손실값 : 0.3379\n",
      "\t정확도 : 0.8750 / 재현률 : 1.0000 / F1-score : 0.8889\n",
      "\t valid 데이터 loss 감소(3.3999=>0.6758). 모델 저장\n",
      "train epoch [3/20]\n",
      "-------------------------------\n"
     ]
    },
    {
     "data": {
      "text/plain": "  0%|          | 0/652 [00:00<?, ?it/s]",
      "application/vnd.jupyter.widget-view+json": {
       "version_major": 2,
       "version_minor": 0,
       "model_id": "b23de1fb2bb540bbbceb9b17067b3bc0"
      }
     },
     "metadata": {},
     "output_type": "display_data"
    },
    {
     "name": "stdout",
     "output_type": "stream",
     "text": [
      "\t훈련 데이터 손실값 : 0.1300\n",
      "valid epoch [3/20]\n",
      "-------------------------------\n"
     ]
    },
    {
     "data": {
      "text/plain": "  0%|          | 0/2 [00:00<?, ?it/s]",
      "application/vnd.jupyter.widget-view+json": {
       "version_major": 2,
       "version_minor": 0,
       "model_id": "068d6bd71b8d4c7084b77be14c4081dd"
      }
     },
     "metadata": {},
     "output_type": "display_data"
    },
    {
     "name": "stdout",
     "output_type": "stream",
     "text": [
      "\tvalid 데이터 손실값 : 0.6906\n",
      "\t정확도 : 0.6875 / 재현률 : 1.0000 / F1-score : 0.7619\n",
      "train epoch [4/20]\n",
      "-------------------------------\n"
     ]
    },
    {
     "data": {
      "text/plain": "  0%|          | 0/652 [00:00<?, ?it/s]",
      "application/vnd.jupyter.widget-view+json": {
       "version_major": 2,
       "version_minor": 0,
       "model_id": "6b84db2316704a148d11d04412369f6d"
      }
     },
     "metadata": {},
     "output_type": "display_data"
    },
    {
     "name": "stdout",
     "output_type": "stream",
     "text": [
      "\t훈련 데이터 손실값 : 0.1115\n",
      "valid epoch [4/20]\n",
      "-------------------------------\n"
     ]
    },
    {
     "data": {
      "text/plain": "  0%|          | 0/2 [00:00<?, ?it/s]",
      "application/vnd.jupyter.widget-view+json": {
       "version_major": 2,
       "version_minor": 0,
       "model_id": "d03191a8c8f44328a783755cdd9c3ad5"
      }
     },
     "metadata": {},
     "output_type": "display_data"
    },
    {
     "name": "stdout",
     "output_type": "stream",
     "text": [
      "\tvalid 데이터 손실값 : 0.2500\n",
      "\t정확도 : 1.0000 / 재현률 : 1.0000 / F1-score : 1.0000\n",
      "\t valid 데이터 loss 감소(0.6758=>0.5000). 모델 저장\n",
      "train epoch [5/20]\n",
      "-------------------------------\n"
     ]
    },
    {
     "data": {
      "text/plain": "  0%|          | 0/652 [00:00<?, ?it/s]",
      "application/vnd.jupyter.widget-view+json": {
       "version_major": 2,
       "version_minor": 0,
       "model_id": "67e3055b494f46b6bb4e78f2fe202980"
      }
     },
     "metadata": {},
     "output_type": "display_data"
    },
    {
     "name": "stdout",
     "output_type": "stream",
     "text": [
      "\t훈련 데이터 손실값 : 0.1191\n",
      "valid epoch [5/20]\n",
      "-------------------------------\n"
     ]
    },
    {
     "data": {
      "text/plain": "  0%|          | 0/2 [00:00<?, ?it/s]",
      "application/vnd.jupyter.widget-view+json": {
       "version_major": 2,
       "version_minor": 0,
       "model_id": "3a2cc96022734156a5324bf63fac975b"
      }
     },
     "metadata": {},
     "output_type": "display_data"
    },
    {
     "name": "stdout",
     "output_type": "stream",
     "text": [
      "\tvalid 데이터 손실값 : 0.5067\n",
      "\t정확도 : 0.6250 / 재현률 : 1.0000 / F1-score : 0.7273\n",
      "train epoch [6/20]\n",
      "-------------------------------\n"
     ]
    },
    {
     "data": {
      "text/plain": "  0%|          | 0/652 [00:00<?, ?it/s]",
      "application/vnd.jupyter.widget-view+json": {
       "version_major": 2,
       "version_minor": 0,
       "model_id": "2c14f3b9f85c4037ac79b43ae1ee89ce"
      }
     },
     "metadata": {},
     "output_type": "display_data"
    },
    {
     "name": "stdout",
     "output_type": "stream",
     "text": [
      "\t훈련 데이터 손실값 : 0.1172\n",
      "valid epoch [6/20]\n",
      "-------------------------------\n"
     ]
    },
    {
     "data": {
      "text/plain": "  0%|          | 0/2 [00:00<?, ?it/s]",
      "application/vnd.jupyter.widget-view+json": {
       "version_major": 2,
       "version_minor": 0,
       "model_id": "ca0da3d52c5b40da860181b1d0608cdb"
      }
     },
     "metadata": {},
     "output_type": "display_data"
    },
    {
     "name": "stdout",
     "output_type": "stream",
     "text": [
      "\tvalid 데이터 손실값 : 0.5361\n",
      "\t정확도 : 0.6875 / 재현률 : 1.0000 / F1-score : 0.7619\n",
      "train epoch [7/20]\n",
      "-------------------------------\n"
     ]
    },
    {
     "data": {
      "text/plain": "  0%|          | 0/652 [00:00<?, ?it/s]",
      "application/vnd.jupyter.widget-view+json": {
       "version_major": 2,
       "version_minor": 0,
       "model_id": "7cc80523549048c7b629125c72b24140"
      }
     },
     "metadata": {},
     "output_type": "display_data"
    },
    {
     "name": "stdout",
     "output_type": "stream",
     "text": [
      "\t훈련 데이터 손실값 : 0.1074\n",
      "valid epoch [7/20]\n",
      "-------------------------------\n"
     ]
    },
    {
     "data": {
      "text/plain": "  0%|          | 0/2 [00:00<?, ?it/s]",
      "application/vnd.jupyter.widget-view+json": {
       "version_major": 2,
       "version_minor": 0,
       "model_id": "c3001e94203944b0bbb73ac13f35cc6b"
      }
     },
     "metadata": {},
     "output_type": "display_data"
    },
    {
     "name": "stdout",
     "output_type": "stream",
     "text": [
      "\tvalid 데이터 손실값 : 0.8078\n",
      "\t정확도 : 0.6875 / 재현률 : 1.0000 / F1-score : 0.7619\n",
      "train epoch [8/20]\n",
      "-------------------------------\n"
     ]
    },
    {
     "data": {
      "text/plain": "  0%|          | 0/652 [00:00<?, ?it/s]",
      "application/vnd.jupyter.widget-view+json": {
       "version_major": 2,
       "version_minor": 0,
       "model_id": "4d68880d93ce4cd1953fc814d11e645d"
      }
     },
     "metadata": {},
     "output_type": "display_data"
    },
    {
     "name": "stdout",
     "output_type": "stream",
     "text": [
      "\t훈련 데이터 손실값 : 0.1022\n",
      "valid epoch [8/20]\n",
      "-------------------------------\n"
     ]
    },
    {
     "data": {
      "text/plain": "  0%|          | 0/2 [00:00<?, ?it/s]",
      "application/vnd.jupyter.widget-view+json": {
       "version_major": 2,
       "version_minor": 0,
       "model_id": "858ebb833ea84c2086a9d66633a8d8ad"
      }
     },
     "metadata": {},
     "output_type": "display_data"
    },
    {
     "name": "stdout",
     "output_type": "stream",
     "text": [
      "\tvalid 데이터 손실값 : 0.0982\n",
      "\t정확도 : 1.0000 / 재현률 : 1.0000 / F1-score : 1.0000\n",
      "\t valid 데이터 loss 감소(0.5000=>0.1963). 모델 저장\n",
      "train epoch [9/20]\n",
      "-------------------------------\n"
     ]
    },
    {
     "data": {
      "text/plain": "  0%|          | 0/652 [00:00<?, ?it/s]",
      "application/vnd.jupyter.widget-view+json": {
       "version_major": 2,
       "version_minor": 0,
       "model_id": "a0e6ab4774ff49209abd71d472b4cf44"
      }
     },
     "metadata": {},
     "output_type": "display_data"
    },
    {
     "name": "stdout",
     "output_type": "stream",
     "text": [
      "\t훈련 데이터 손실값 : 0.1065\n",
      "valid epoch [9/20]\n",
      "-------------------------------\n"
     ]
    },
    {
     "data": {
      "text/plain": "  0%|          | 0/2 [00:00<?, ?it/s]",
      "application/vnd.jupyter.widget-view+json": {
       "version_major": 2,
       "version_minor": 0,
       "model_id": "c3071fdf0f64491ba6a0acfd24391d7e"
      }
     },
     "metadata": {},
     "output_type": "display_data"
    },
    {
     "name": "stdout",
     "output_type": "stream",
     "text": [
      "\tvalid 데이터 손실값 : 0.2661\n",
      "\t정확도 : 0.8750 / 재현률 : 1.0000 / F1-score : 0.8889\n",
      "train epoch [10/20]\n",
      "-------------------------------\n"
     ]
    },
    {
     "data": {
      "text/plain": "  0%|          | 0/652 [00:00<?, ?it/s]",
      "application/vnd.jupyter.widget-view+json": {
       "version_major": 2,
       "version_minor": 0,
       "model_id": "268a4476d5cd4fb39a7c16cd86d24343"
      }
     },
     "metadata": {},
     "output_type": "display_data"
    },
    {
     "name": "stdout",
     "output_type": "stream",
     "text": [
      "\t훈련 데이터 손실값 : 0.0875\n",
      "valid epoch [10/20]\n",
      "-------------------------------\n"
     ]
    },
    {
     "data": {
      "text/plain": "  0%|          | 0/2 [00:00<?, ?it/s]",
      "application/vnd.jupyter.widget-view+json": {
       "version_major": 2,
       "version_minor": 0,
       "model_id": "357ae26a3e1e4846962e654ab3710ecf"
      }
     },
     "metadata": {},
     "output_type": "display_data"
    },
    {
     "name": "stdout",
     "output_type": "stream",
     "text": [
      "\tvalid 데이터 손실값 : 0.2889\n",
      "\t정확도 : 0.8750 / 재현률 : 1.0000 / F1-score : 0.8889\n",
      "train epoch [11/20]\n",
      "-------------------------------\n"
     ]
    },
    {
     "data": {
      "text/plain": "  0%|          | 0/652 [00:00<?, ?it/s]",
      "application/vnd.jupyter.widget-view+json": {
       "version_major": 2,
       "version_minor": 0,
       "model_id": "ea5b47cc06c84604959990c1d44c9b2b"
      }
     },
     "metadata": {},
     "output_type": "display_data"
    },
    {
     "name": "stdout",
     "output_type": "stream",
     "text": [
      "\t훈련 데이터 손실값 : 0.0791\n",
      "valid epoch [11/20]\n",
      "-------------------------------\n"
     ]
    },
    {
     "data": {
      "text/plain": "  0%|          | 0/2 [00:00<?, ?it/s]",
      "application/vnd.jupyter.widget-view+json": {
       "version_major": 2,
       "version_minor": 0,
       "model_id": "fa633aa1e5b54a6f9f04036b4836061d"
      }
     },
     "metadata": {},
     "output_type": "display_data"
    },
    {
     "name": "stdout",
     "output_type": "stream",
     "text": [
      "\tvalid 데이터 손실값 : 0.1472\n",
      "\t정확도 : 0.9375 / 재현률 : 0.8750 / F1-score : 0.9333\n",
      "train epoch [12/20]\n",
      "-------------------------------\n"
     ]
    },
    {
     "data": {
      "text/plain": "  0%|          | 0/652 [00:00<?, ?it/s]",
      "application/vnd.jupyter.widget-view+json": {
       "version_major": 2,
       "version_minor": 0,
       "model_id": "6da4718a233244da9a5dc389d3dcecb5"
      }
     },
     "metadata": {},
     "output_type": "display_data"
    },
    {
     "name": "stdout",
     "output_type": "stream",
     "text": [
      "\t훈련 데이터 손실값 : 0.0673\n",
      "valid epoch [12/20]\n",
      "-------------------------------\n"
     ]
    },
    {
     "data": {
      "text/plain": "  0%|          | 0/2 [00:00<?, ?it/s]",
      "application/vnd.jupyter.widget-view+json": {
       "version_major": 2,
       "version_minor": 0,
       "model_id": "a518182d61c245a6b5a404c559b763ab"
      }
     },
     "metadata": {},
     "output_type": "display_data"
    },
    {
     "name": "stdout",
     "output_type": "stream",
     "text": [
      "\tvalid 데이터 손실값 : 0.2206\n",
      "\t정확도 : 0.8125 / 재현률 : 1.0000 / F1-score : 0.8421\n",
      "train epoch [13/20]\n",
      "-------------------------------\n"
     ]
    },
    {
     "data": {
      "text/plain": "  0%|          | 0/652 [00:00<?, ?it/s]",
      "application/vnd.jupyter.widget-view+json": {
       "version_major": 2,
       "version_minor": 0,
       "model_id": "d6b14b9c0a3549fba558254254dba4ac"
      }
     },
     "metadata": {},
     "output_type": "display_data"
    },
    {
     "name": "stdout",
     "output_type": "stream",
     "text": [
      "\t훈련 데이터 손실값 : 0.0632\n",
      "valid epoch [13/20]\n",
      "-------------------------------\n"
     ]
    },
    {
     "data": {
      "text/plain": "  0%|          | 0/2 [00:00<?, ?it/s]",
      "application/vnd.jupyter.widget-view+json": {
       "version_major": 2,
       "version_minor": 0,
       "model_id": "f6585751b9154d059a301a785748df5c"
      }
     },
     "metadata": {},
     "output_type": "display_data"
    },
    {
     "name": "stdout",
     "output_type": "stream",
     "text": [
      "\tvalid 데이터 손실값 : 0.0597\n",
      "\t정확도 : 1.0000 / 재현률 : 1.0000 / F1-score : 1.0000\n",
      "\t valid 데이터 loss 감소(0.1963=>0.1194). 모델 저장\n",
      "train epoch [14/20]\n",
      "-------------------------------\n"
     ]
    },
    {
     "data": {
      "text/plain": "  0%|          | 0/652 [00:00<?, ?it/s]",
      "application/vnd.jupyter.widget-view+json": {
       "version_major": 2,
       "version_minor": 0,
       "model_id": "992dda24e4de48ffb85c131e60be918d"
      }
     },
     "metadata": {},
     "output_type": "display_data"
    },
    {
     "name": "stdout",
     "output_type": "stream",
     "text": [
      "\t훈련 데이터 손실값 : 0.0507\n",
      "valid epoch [14/20]\n",
      "-------------------------------\n"
     ]
    },
    {
     "data": {
      "text/plain": "  0%|          | 0/2 [00:00<?, ?it/s]",
      "application/vnd.jupyter.widget-view+json": {
       "version_major": 2,
       "version_minor": 0,
       "model_id": "dd86381470134869b1e3b8a687fe16e4"
      }
     },
     "metadata": {},
     "output_type": "display_data"
    },
    {
     "name": "stdout",
     "output_type": "stream",
     "text": [
      "\tvalid 데이터 손실값 : 0.1958\n",
      "\t정확도 : 0.8125 / 재현률 : 1.0000 / F1-score : 0.8421\n",
      "train epoch [15/20]\n",
      "-------------------------------\n"
     ]
    },
    {
     "data": {
      "text/plain": "  0%|          | 0/652 [00:00<?, ?it/s]",
      "application/vnd.jupyter.widget-view+json": {
       "version_major": 2,
       "version_minor": 0,
       "model_id": "f070c3fc48a5413f8595c916bef296fc"
      }
     },
     "metadata": {},
     "output_type": "display_data"
    },
    {
     "name": "stdout",
     "output_type": "stream",
     "text": [
      "\t훈련 데이터 손실값 : 0.0496\n",
      "valid epoch [15/20]\n",
      "-------------------------------\n"
     ]
    },
    {
     "data": {
      "text/plain": "  0%|          | 0/2 [00:00<?, ?it/s]",
      "application/vnd.jupyter.widget-view+json": {
       "version_major": 2,
       "version_minor": 0,
       "model_id": "b83a6e9466704461ba4c067d23e2113b"
      }
     },
     "metadata": {},
     "output_type": "display_data"
    },
    {
     "name": "stdout",
     "output_type": "stream",
     "text": [
      "\tvalid 데이터 손실값 : 0.0684\n",
      "\t정확도 : 1.0000 / 재현률 : 1.0000 / F1-score : 1.0000\n",
      "train epoch [16/20]\n",
      "-------------------------------\n"
     ]
    },
    {
     "data": {
      "text/plain": "  0%|          | 0/652 [00:00<?, ?it/s]",
      "application/vnd.jupyter.widget-view+json": {
       "version_major": 2,
       "version_minor": 0,
       "model_id": "5cd6dcbbed24420684c319292ed85353"
      }
     },
     "metadata": {},
     "output_type": "display_data"
    },
    {
     "name": "stdout",
     "output_type": "stream",
     "text": [
      "\t훈련 데이터 손실값 : 0.0405\n",
      "valid epoch [16/20]\n",
      "-------------------------------\n"
     ]
    },
    {
     "data": {
      "text/plain": "  0%|          | 0/2 [00:00<?, ?it/s]",
      "application/vnd.jupyter.widget-view+json": {
       "version_major": 2,
       "version_minor": 0,
       "model_id": "a2ff0824952c49ed8fabbab6df1a399b"
      }
     },
     "metadata": {},
     "output_type": "display_data"
    },
    {
     "name": "stdout",
     "output_type": "stream",
     "text": [
      "\tvalid 데이터 손실값 : 0.0803\n",
      "\t정확도 : 1.0000 / 재현률 : 1.0000 / F1-score : 1.0000\n",
      "train epoch [17/20]\n",
      "-------------------------------\n"
     ]
    },
    {
     "data": {
      "text/plain": "  0%|          | 0/652 [00:00<?, ?it/s]",
      "application/vnd.jupyter.widget-view+json": {
       "version_major": 2,
       "version_minor": 0,
       "model_id": "407f32e0e7d644eeb3bcceb34001292b"
      }
     },
     "metadata": {},
     "output_type": "display_data"
    },
    {
     "name": "stdout",
     "output_type": "stream",
     "text": [
      "\t훈련 데이터 손실값 : 0.0382\n",
      "valid epoch [17/20]\n",
      "-------------------------------\n"
     ]
    },
    {
     "data": {
      "text/plain": "  0%|          | 0/2 [00:00<?, ?it/s]",
      "application/vnd.jupyter.widget-view+json": {
       "version_major": 2,
       "version_minor": 0,
       "model_id": "a0465e4bbd01490fb7d4066001ca888a"
      }
     },
     "metadata": {},
     "output_type": "display_data"
    },
    {
     "name": "stdout",
     "output_type": "stream",
     "text": [
      "\tvalid 데이터 손실값 : 0.1163\n",
      "\t정확도 : 0.9375 / 재현률 : 1.0000 / F1-score : 0.9412\n",
      "train epoch [18/20]\n",
      "-------------------------------\n"
     ]
    },
    {
     "data": {
      "text/plain": "  0%|          | 0/652 [00:00<?, ?it/s]",
      "application/vnd.jupyter.widget-view+json": {
       "version_major": 2,
       "version_minor": 0,
       "model_id": "28c92cdb62db408fbeb0d58d2115bef8"
      }
     },
     "metadata": {},
     "output_type": "display_data"
    },
    {
     "name": "stdout",
     "output_type": "stream",
     "text": [
      "\t훈련 데이터 손실값 : 0.0287\n",
      "valid epoch [18/20]\n",
      "-------------------------------\n"
     ]
    },
    {
     "data": {
      "text/plain": "  0%|          | 0/2 [00:00<?, ?it/s]",
      "application/vnd.jupyter.widget-view+json": {
       "version_major": 2,
       "version_minor": 0,
       "model_id": "77e9f9cd5a3647189c453ad9f72fc856"
      }
     },
     "metadata": {},
     "output_type": "display_data"
    },
    {
     "name": "stdout",
     "output_type": "stream",
     "text": [
      "\tvalid 데이터 손실값 : 0.0616\n",
      "\t정확도 : 1.0000 / 재현률 : 1.0000 / F1-score : 1.0000\n",
      "train epoch [19/20]\n",
      "-------------------------------\n"
     ]
    },
    {
     "data": {
      "text/plain": "  0%|          | 0/652 [00:00<?, ?it/s]",
      "application/vnd.jupyter.widget-view+json": {
       "version_major": 2,
       "version_minor": 0,
       "model_id": "0eaa4a76500048429421253a52b5106e"
      }
     },
     "metadata": {},
     "output_type": "display_data"
    },
    {
     "name": "stdout",
     "output_type": "stream",
     "text": [
      "\t훈련 데이터 손실값 : 0.0294\n",
      "valid epoch [19/20]\n",
      "-------------------------------\n"
     ]
    },
    {
     "data": {
      "text/plain": "  0%|          | 0/2 [00:00<?, ?it/s]",
      "application/vnd.jupyter.widget-view+json": {
       "version_major": 2,
       "version_minor": 0,
       "model_id": "86bc4e8beffe4c6cb1a3fe52f01a9fe5"
      }
     },
     "metadata": {},
     "output_type": "display_data"
    },
    {
     "name": "stdout",
     "output_type": "stream",
     "text": [
      "\tvalid 데이터 손실값 : 0.0913\n",
      "\t정확도 : 1.0000 / 재현률 : 1.0000 / F1-score : 1.0000\n",
      "train epoch [20/20]\n",
      "-------------------------------\n"
     ]
    },
    {
     "data": {
      "text/plain": "  0%|          | 0/652 [00:00<?, ?it/s]",
      "application/vnd.jupyter.widget-view+json": {
       "version_major": 2,
       "version_minor": 0,
       "model_id": "e40d9c7814f14b74a53dd90c329d863c"
      }
     },
     "metadata": {},
     "output_type": "display_data"
    },
    {
     "name": "stdout",
     "output_type": "stream",
     "text": [
      "\t훈련 데이터 손실값 : 0.0271\n",
      "valid epoch [20/20]\n",
      "-------------------------------\n"
     ]
    },
    {
     "data": {
      "text/plain": "  0%|          | 0/2 [00:00<?, ?it/s]",
      "application/vnd.jupyter.widget-view+json": {
       "version_major": 2,
       "version_minor": 0,
       "model_id": "8ab467d011574b068f1fbdd61470dad0"
      }
     },
     "metadata": {},
     "output_type": "display_data"
    },
    {
     "name": "stdout",
     "output_type": "stream",
     "text": [
      "\tvalid 데이터 손실값 : 0.0673\n",
      "\t정확도 : 1.0000 / 재현률 : 1.0000 / F1-score : 1.0000\n"
     ]
    },
    {
     "data": {
      "text/plain": "<All keys matched successfully>"
     },
     "execution_count": 39,
     "metadata": {},
     "output_type": "execute_result"
    }
   ],
   "source": [
    "# 훈련 및 성능 검증\n",
    "model_state_dict = train(model=models_list[0],loader_train=loader_train, loader_valid=loader_valid, criterion=criterion, optimizer=optimizer1, scheduler=scheduler1, epochs=epochs)\n",
    "models_list[0].load_state_dict(model_state_dict)"
   ],
   "metadata": {
    "collapsed": false,
    "ExecuteTime": {
     "end_time": "2023-11-16T13:17:17.285072200Z",
     "start_time": "2023-11-16T12:34:55.018870600Z"
    }
   },
   "id": "4adcf9a9c1071a33"
  },
  {
   "cell_type": "code",
   "execution_count": 40,
   "outputs": [
    {
     "name": "stdout",
     "output_type": "stream",
     "text": [
      "train epoch [1/20]\n",
      "-------------------------------\n"
     ]
    },
    {
     "data": {
      "text/plain": "  0%|          | 0/652 [00:00<?, ?it/s]",
      "application/vnd.jupyter.widget-view+json": {
       "version_major": 2,
       "version_minor": 0,
       "model_id": "319dcefec1224598b8753deec00c9ad6"
      }
     },
     "metadata": {},
     "output_type": "display_data"
    },
    {
     "name": "stdout",
     "output_type": "stream",
     "text": [
      "\t훈련 데이터 손실값 : 1.3444\n",
      "valid epoch [1/20]\n",
      "-------------------------------\n"
     ]
    },
    {
     "data": {
      "text/plain": "  0%|          | 0/2 [00:00<?, ?it/s]",
      "application/vnd.jupyter.widget-view+json": {
       "version_major": 2,
       "version_minor": 0,
       "model_id": "3211f427cdd0448c808439d5f89d9e91"
      }
     },
     "metadata": {},
     "output_type": "display_data"
    },
    {
     "name": "stdout",
     "output_type": "stream",
     "text": [
      "\tvalid 데이터 손실값 : 0.5653\n",
      "\t정확도 : 0.6875 / 재현률 : 1.0000 / F1-score : 0.7619\n",
      "\t valid 데이터 loss 감소(inf=>1.1306). 모델 저장\n",
      "train epoch [2/20]\n",
      "-------------------------------\n"
     ]
    },
    {
     "data": {
      "text/plain": "  0%|          | 0/652 [00:00<?, ?it/s]",
      "application/vnd.jupyter.widget-view+json": {
       "version_major": 2,
       "version_minor": 0,
       "model_id": "6517df991d5641e88297bf6242cf6ad1"
      }
     },
     "metadata": {},
     "output_type": "display_data"
    },
    {
     "name": "stdout",
     "output_type": "stream",
     "text": [
      "\t훈련 데이터 손실값 : 0.1430\n",
      "valid epoch [2/20]\n",
      "-------------------------------\n"
     ]
    },
    {
     "data": {
      "text/plain": "  0%|          | 0/2 [00:00<?, ?it/s]",
      "application/vnd.jupyter.widget-view+json": {
       "version_major": 2,
       "version_minor": 0,
       "model_id": "e8eb8f1842cc4ef8b84813295ecae55f"
      }
     },
     "metadata": {},
     "output_type": "display_data"
    },
    {
     "name": "stdout",
     "output_type": "stream",
     "text": [
      "\tvalid 데이터 손실값 : 0.3839\n",
      "\t정확도 : 0.8125 / 재현률 : 1.0000 / F1-score : 0.8421\n",
      "\t valid 데이터 loss 감소(1.1306=>0.7679). 모델 저장\n",
      "train epoch [3/20]\n",
      "-------------------------------\n"
     ]
    },
    {
     "data": {
      "text/plain": "  0%|          | 0/652 [00:00<?, ?it/s]",
      "application/vnd.jupyter.widget-view+json": {
       "version_major": 2,
       "version_minor": 0,
       "model_id": "1a5bc9e5fe604d348ad4e6f845685f40"
      }
     },
     "metadata": {},
     "output_type": "display_data"
    },
    {
     "name": "stdout",
     "output_type": "stream",
     "text": [
      "\t훈련 데이터 손실값 : 0.1142\n",
      "valid epoch [3/20]\n",
      "-------------------------------\n"
     ]
    },
    {
     "data": {
      "text/plain": "  0%|          | 0/2 [00:00<?, ?it/s]",
      "application/vnd.jupyter.widget-view+json": {
       "version_major": 2,
       "version_minor": 0,
       "model_id": "1c69efffc639455e993e0be2a9a2b05b"
      }
     },
     "metadata": {},
     "output_type": "display_data"
    },
    {
     "name": "stdout",
     "output_type": "stream",
     "text": [
      "\tvalid 데이터 손실값 : 1.0699\n",
      "\t정확도 : 0.5625 / 재현률 : 1.0000 / F1-score : 0.6957\n",
      "train epoch [4/20]\n",
      "-------------------------------\n"
     ]
    },
    {
     "data": {
      "text/plain": "  0%|          | 0/652 [00:00<?, ?it/s]",
      "application/vnd.jupyter.widget-view+json": {
       "version_major": 2,
       "version_minor": 0,
       "model_id": "e12b9afe5a7c488787c542fcb8093ffb"
      }
     },
     "metadata": {},
     "output_type": "display_data"
    },
    {
     "name": "stdout",
     "output_type": "stream",
     "text": [
      "\t훈련 데이터 손실값 : 0.1139\n",
      "valid epoch [4/20]\n",
      "-------------------------------\n"
     ]
    },
    {
     "data": {
      "text/plain": "  0%|          | 0/2 [00:00<?, ?it/s]",
      "application/vnd.jupyter.widget-view+json": {
       "version_major": 2,
       "version_minor": 0,
       "model_id": "baf69ec944dd4d71b629c6a0f33bf373"
      }
     },
     "metadata": {},
     "output_type": "display_data"
    },
    {
     "name": "stdout",
     "output_type": "stream",
     "text": [
      "\tvalid 데이터 손실값 : 0.1485\n",
      "\t정확도 : 1.0000 / 재현률 : 1.0000 / F1-score : 1.0000\n",
      "\t valid 데이터 loss 감소(0.7679=>0.2969). 모델 저장\n",
      "train epoch [5/20]\n",
      "-------------------------------\n"
     ]
    },
    {
     "data": {
      "text/plain": "  0%|          | 0/652 [00:00<?, ?it/s]",
      "application/vnd.jupyter.widget-view+json": {
       "version_major": 2,
       "version_minor": 0,
       "model_id": "b258de2c0c054b668307f06a0287dccf"
      }
     },
     "metadata": {},
     "output_type": "display_data"
    },
    {
     "name": "stdout",
     "output_type": "stream",
     "text": [
      "\t훈련 데이터 손실값 : 0.1167\n",
      "valid epoch [5/20]\n",
      "-------------------------------\n"
     ]
    },
    {
     "data": {
      "text/plain": "  0%|          | 0/2 [00:00<?, ?it/s]",
      "application/vnd.jupyter.widget-view+json": {
       "version_major": 2,
       "version_minor": 0,
       "model_id": "79c306e60ada40979ded37694ad5c0c6"
      }
     },
     "metadata": {},
     "output_type": "display_data"
    },
    {
     "name": "stdout",
     "output_type": "stream",
     "text": [
      "\tvalid 데이터 손실값 : 0.2293\n",
      "\t정확도 : 0.9375 / 재현률 : 1.0000 / F1-score : 0.9412\n",
      "train epoch [6/20]\n",
      "-------------------------------\n"
     ]
    },
    {
     "data": {
      "text/plain": "  0%|          | 0/652 [00:00<?, ?it/s]",
      "application/vnd.jupyter.widget-view+json": {
       "version_major": 2,
       "version_minor": 0,
       "model_id": "bacc28cd5f334f12a4ac35bea3f0ba33"
      }
     },
     "metadata": {},
     "output_type": "display_data"
    },
    {
     "name": "stdout",
     "output_type": "stream",
     "text": [
      "\t훈련 데이터 손실값 : 0.1136\n",
      "valid epoch [6/20]\n",
      "-------------------------------\n"
     ]
    },
    {
     "data": {
      "text/plain": "  0%|          | 0/2 [00:00<?, ?it/s]",
      "application/vnd.jupyter.widget-view+json": {
       "version_major": 2,
       "version_minor": 0,
       "model_id": "7978a69f2bef4fd9ab8fed35aa715285"
      }
     },
     "metadata": {},
     "output_type": "display_data"
    },
    {
     "name": "stdout",
     "output_type": "stream",
     "text": [
      "\tvalid 데이터 손실값 : 0.1836\n",
      "\t정확도 : 0.8750 / 재현률 : 1.0000 / F1-score : 0.8889\n",
      "train epoch [7/20]\n",
      "-------------------------------\n"
     ]
    },
    {
     "data": {
      "text/plain": "  0%|          | 0/652 [00:00<?, ?it/s]",
      "application/vnd.jupyter.widget-view+json": {
       "version_major": 2,
       "version_minor": 0,
       "model_id": "400e3b5e1fdd4ee7be45cdb06141996c"
      }
     },
     "metadata": {},
     "output_type": "display_data"
    },
    {
     "name": "stdout",
     "output_type": "stream",
     "text": [
      "\t훈련 데이터 손실값 : 0.1073\n",
      "valid epoch [7/20]\n",
      "-------------------------------\n"
     ]
    },
    {
     "data": {
      "text/plain": "  0%|          | 0/2 [00:00<?, ?it/s]",
      "application/vnd.jupyter.widget-view+json": {
       "version_major": 2,
       "version_minor": 0,
       "model_id": "8969c986e437401bbc4228ea7af0eaa4"
      }
     },
     "metadata": {},
     "output_type": "display_data"
    },
    {
     "name": "stdout",
     "output_type": "stream",
     "text": [
      "\tvalid 데이터 손실값 : 0.2432\n",
      "\t정확도 : 0.9375 / 재현률 : 0.8750 / F1-score : 0.9333\n",
      "train epoch [8/20]\n",
      "-------------------------------\n"
     ]
    },
    {
     "data": {
      "text/plain": "  0%|          | 0/652 [00:00<?, ?it/s]",
      "application/vnd.jupyter.widget-view+json": {
       "version_major": 2,
       "version_minor": 0,
       "model_id": "7bd94e848b6f480599ad872c82109bcb"
      }
     },
     "metadata": {},
     "output_type": "display_data"
    },
    {
     "name": "stdout",
     "output_type": "stream",
     "text": [
      "\t훈련 데이터 손실값 : 0.1113\n",
      "valid epoch [8/20]\n",
      "-------------------------------\n"
     ]
    },
    {
     "data": {
      "text/plain": "  0%|          | 0/2 [00:00<?, ?it/s]",
      "application/vnd.jupyter.widget-view+json": {
       "version_major": 2,
       "version_minor": 0,
       "model_id": "4618b817096f4e8083e51ae6817ac58e"
      }
     },
     "metadata": {},
     "output_type": "display_data"
    },
    {
     "name": "stdout",
     "output_type": "stream",
     "text": [
      "\tvalid 데이터 손실값 : 0.2344\n",
      "\t정확도 : 0.8750 / 재현률 : 1.0000 / F1-score : 0.8889\n",
      "train epoch [9/20]\n",
      "-------------------------------\n"
     ]
    },
    {
     "data": {
      "text/plain": "  0%|          | 0/652 [00:00<?, ?it/s]",
      "application/vnd.jupyter.widget-view+json": {
       "version_major": 2,
       "version_minor": 0,
       "model_id": "7cc97cde3a324074883082ab158370a7"
      }
     },
     "metadata": {},
     "output_type": "display_data"
    },
    {
     "name": "stdout",
     "output_type": "stream",
     "text": [
      "\t훈련 데이터 손실값 : 0.0981\n",
      "valid epoch [9/20]\n",
      "-------------------------------\n"
     ]
    },
    {
     "data": {
      "text/plain": "  0%|          | 0/2 [00:00<?, ?it/s]",
      "application/vnd.jupyter.widget-view+json": {
       "version_major": 2,
       "version_minor": 0,
       "model_id": "3b8217b760484b1f8a46a19eceb20d82"
      }
     },
     "metadata": {},
     "output_type": "display_data"
    },
    {
     "name": "stdout",
     "output_type": "stream",
     "text": [
      "\tvalid 데이터 손실값 : 0.7564\n",
      "\t정확도 : 0.6250 / 재현률 : 1.0000 / F1-score : 0.7273\n",
      "train epoch [10/20]\n",
      "-------------------------------\n"
     ]
    },
    {
     "data": {
      "text/plain": "  0%|          | 0/652 [00:00<?, ?it/s]",
      "application/vnd.jupyter.widget-view+json": {
       "version_major": 2,
       "version_minor": 0,
       "model_id": "b1de938e6cf1408b9acfba5077c9897f"
      }
     },
     "metadata": {},
     "output_type": "display_data"
    },
    {
     "name": "stdout",
     "output_type": "stream",
     "text": [
      "\t훈련 데이터 손실값 : 0.0983\n",
      "valid epoch [10/20]\n",
      "-------------------------------\n"
     ]
    },
    {
     "data": {
      "text/plain": "  0%|          | 0/2 [00:00<?, ?it/s]",
      "application/vnd.jupyter.widget-view+json": {
       "version_major": 2,
       "version_minor": 0,
       "model_id": "813261c4ee964b22af43322bf6e1bb2e"
      }
     },
     "metadata": {},
     "output_type": "display_data"
    },
    {
     "name": "stdout",
     "output_type": "stream",
     "text": [
      "\tvalid 데이터 손실값 : 0.7146\n",
      "\t정확도 : 0.6875 / 재현률 : 1.0000 / F1-score : 0.7619\n",
      "train epoch [11/20]\n",
      "-------------------------------\n"
     ]
    },
    {
     "data": {
      "text/plain": "  0%|          | 0/652 [00:00<?, ?it/s]",
      "application/vnd.jupyter.widget-view+json": {
       "version_major": 2,
       "version_minor": 0,
       "model_id": "06c125ec8a79470fb0ea36e1d2d35633"
      }
     },
     "metadata": {},
     "output_type": "display_data"
    },
    {
     "name": "stdout",
     "output_type": "stream",
     "text": [
      "\t훈련 데이터 손실값 : 0.0737\n",
      "valid epoch [11/20]\n",
      "-------------------------------\n"
     ]
    },
    {
     "data": {
      "text/plain": "  0%|          | 0/2 [00:00<?, ?it/s]",
      "application/vnd.jupyter.widget-view+json": {
       "version_major": 2,
       "version_minor": 0,
       "model_id": "3e74b6717cdc42e9aff4d7675c312a18"
      }
     },
     "metadata": {},
     "output_type": "display_data"
    },
    {
     "name": "stdout",
     "output_type": "stream",
     "text": [
      "\tvalid 데이터 손실값 : 0.3485\n",
      "\t정확도 : 0.9375 / 재현률 : 1.0000 / F1-score : 0.9412\n",
      "train epoch [12/20]\n",
      "-------------------------------\n"
     ]
    },
    {
     "data": {
      "text/plain": "  0%|          | 0/652 [00:00<?, ?it/s]",
      "application/vnd.jupyter.widget-view+json": {
       "version_major": 2,
       "version_minor": 0,
       "model_id": "7529a5fe21f042c7badd17b614c0ad42"
      }
     },
     "metadata": {},
     "output_type": "display_data"
    },
    {
     "name": "stdout",
     "output_type": "stream",
     "text": [
      "\t훈련 데이터 손실값 : 0.0802\n",
      "valid epoch [12/20]\n",
      "-------------------------------\n"
     ]
    },
    {
     "data": {
      "text/plain": "  0%|          | 0/2 [00:00<?, ?it/s]",
      "application/vnd.jupyter.widget-view+json": {
       "version_major": 2,
       "version_minor": 0,
       "model_id": "70dfacd0739e434cb96bc8aa652901ef"
      }
     },
     "metadata": {},
     "output_type": "display_data"
    },
    {
     "name": "stdout",
     "output_type": "stream",
     "text": [
      "\tvalid 데이터 손실값 : 0.4405\n",
      "\t정확도 : 0.8125 / 재현률 : 1.0000 / F1-score : 0.8421\n",
      "train epoch [13/20]\n",
      "-------------------------------\n"
     ]
    },
    {
     "data": {
      "text/plain": "  0%|          | 0/652 [00:00<?, ?it/s]",
      "application/vnd.jupyter.widget-view+json": {
       "version_major": 2,
       "version_minor": 0,
       "model_id": "00529f450f014c1bb797d6b97bb0115c"
      }
     },
     "metadata": {},
     "output_type": "display_data"
    },
    {
     "name": "stdout",
     "output_type": "stream",
     "text": [
      "\t훈련 데이터 손실값 : 0.0693\n",
      "valid epoch [13/20]\n",
      "-------------------------------\n"
     ]
    },
    {
     "data": {
      "text/plain": "  0%|          | 0/2 [00:00<?, ?it/s]",
      "application/vnd.jupyter.widget-view+json": {
       "version_major": 2,
       "version_minor": 0,
       "model_id": "50bac15595a0455b98e574bba4d7e62c"
      }
     },
     "metadata": {},
     "output_type": "display_data"
    },
    {
     "name": "stdout",
     "output_type": "stream",
     "text": [
      "\tvalid 데이터 손실값 : 0.3030\n",
      "\t정확도 : 0.8125 / 재현률 : 1.0000 / F1-score : 0.8421\n",
      "train epoch [14/20]\n",
      "-------------------------------\n"
     ]
    },
    {
     "data": {
      "text/plain": "  0%|          | 0/652 [00:00<?, ?it/s]",
      "application/vnd.jupyter.widget-view+json": {
       "version_major": 2,
       "version_minor": 0,
       "model_id": "da28a09f06aa4081bbd23cc225f86d8b"
      }
     },
     "metadata": {},
     "output_type": "display_data"
    },
    {
     "name": "stdout",
     "output_type": "stream",
     "text": [
      "\t훈련 데이터 손실값 : 0.0547\n",
      "valid epoch [14/20]\n",
      "-------------------------------\n"
     ]
    },
    {
     "data": {
      "text/plain": "  0%|          | 0/2 [00:00<?, ?it/s]",
      "application/vnd.jupyter.widget-view+json": {
       "version_major": 2,
       "version_minor": 0,
       "model_id": "b9bebef304184bde8f1d9a8f0bb9ba9b"
      }
     },
     "metadata": {},
     "output_type": "display_data"
    },
    {
     "name": "stdout",
     "output_type": "stream",
     "text": [
      "\tvalid 데이터 손실값 : 0.4431\n",
      "\t정확도 : 0.8750 / 재현률 : 1.0000 / F1-score : 0.8889\n",
      "train epoch [15/20]\n",
      "-------------------------------\n"
     ]
    },
    {
     "data": {
      "text/plain": "  0%|          | 0/652 [00:00<?, ?it/s]",
      "application/vnd.jupyter.widget-view+json": {
       "version_major": 2,
       "version_minor": 0,
       "model_id": "373ce8534cdb400494563fcf9c5e8d94"
      }
     },
     "metadata": {},
     "output_type": "display_data"
    },
    {
     "name": "stdout",
     "output_type": "stream",
     "text": [
      "\t훈련 데이터 손실값 : 0.0499\n",
      "valid epoch [15/20]\n",
      "-------------------------------\n"
     ]
    },
    {
     "data": {
      "text/plain": "  0%|          | 0/2 [00:00<?, ?it/s]",
      "application/vnd.jupyter.widget-view+json": {
       "version_major": 2,
       "version_minor": 0,
       "model_id": "a2c4542153144b3d9dc88bfa0434c5e1"
      }
     },
     "metadata": {},
     "output_type": "display_data"
    },
    {
     "name": "stdout",
     "output_type": "stream",
     "text": [
      "\tvalid 데이터 손실값 : 0.2525\n",
      "\t정확도 : 0.8125 / 재현률 : 1.0000 / F1-score : 0.8421\n",
      "train epoch [16/20]\n",
      "-------------------------------\n"
     ]
    },
    {
     "data": {
      "text/plain": "  0%|          | 0/652 [00:00<?, ?it/s]",
      "application/vnd.jupyter.widget-view+json": {
       "version_major": 2,
       "version_minor": 0,
       "model_id": "17afffafec3e480199b9d942d954e178"
      }
     },
     "metadata": {},
     "output_type": "display_data"
    },
    {
     "name": "stdout",
     "output_type": "stream",
     "text": [
      "\t훈련 데이터 손실값 : 0.0380\n",
      "valid epoch [16/20]\n",
      "-------------------------------\n"
     ]
    },
    {
     "data": {
      "text/plain": "  0%|          | 0/2 [00:00<?, ?it/s]",
      "application/vnd.jupyter.widget-view+json": {
       "version_major": 2,
       "version_minor": 0,
       "model_id": "42954da272274aa4ababedc1b7c2e0d1"
      }
     },
     "metadata": {},
     "output_type": "display_data"
    },
    {
     "name": "stdout",
     "output_type": "stream",
     "text": [
      "\tvalid 데이터 손실값 : 0.3777\n",
      "\t정확도 : 0.8750 / 재현률 : 1.0000 / F1-score : 0.8889\n",
      "train epoch [17/20]\n",
      "-------------------------------\n"
     ]
    },
    {
     "data": {
      "text/plain": "  0%|          | 0/652 [00:00<?, ?it/s]",
      "application/vnd.jupyter.widget-view+json": {
       "version_major": 2,
       "version_minor": 0,
       "model_id": "b7e3bdecdc8a4d2a9dac9be9074e56e5"
      }
     },
     "metadata": {},
     "output_type": "display_data"
    },
    {
     "name": "stdout",
     "output_type": "stream",
     "text": [
      "\t훈련 데이터 손실값 : 0.0345\n",
      "valid epoch [17/20]\n",
      "-------------------------------\n"
     ]
    },
    {
     "data": {
      "text/plain": "  0%|          | 0/2 [00:00<?, ?it/s]",
      "application/vnd.jupyter.widget-view+json": {
       "version_major": 2,
       "version_minor": 0,
       "model_id": "7d621099615048978f98955f63d11797"
      }
     },
     "metadata": {},
     "output_type": "display_data"
    },
    {
     "name": "stdout",
     "output_type": "stream",
     "text": [
      "\tvalid 데이터 손실값 : 0.2672\n",
      "\t정확도 : 0.9375 / 재현률 : 1.0000 / F1-score : 0.9412\n",
      "train epoch [18/20]\n",
      "-------------------------------\n"
     ]
    },
    {
     "data": {
      "text/plain": "  0%|          | 0/652 [00:00<?, ?it/s]",
      "application/vnd.jupyter.widget-view+json": {
       "version_major": 2,
       "version_minor": 0,
       "model_id": "a781c99d36fc4877afe7ac9e3ece65fd"
      }
     },
     "metadata": {},
     "output_type": "display_data"
    },
    {
     "name": "stdout",
     "output_type": "stream",
     "text": [
      "\t훈련 데이터 손실값 : 0.0279\n",
      "valid epoch [18/20]\n",
      "-------------------------------\n"
     ]
    },
    {
     "data": {
      "text/plain": "  0%|          | 0/2 [00:00<?, ?it/s]",
      "application/vnd.jupyter.widget-view+json": {
       "version_major": 2,
       "version_minor": 0,
       "model_id": "fe938685195640eca6039349c06f31b2"
      }
     },
     "metadata": {},
     "output_type": "display_data"
    },
    {
     "name": "stdout",
     "output_type": "stream",
     "text": [
      "\tvalid 데이터 손실값 : 0.2576\n",
      "\t정확도 : 0.9375 / 재현률 : 1.0000 / F1-score : 0.9412\n",
      "train epoch [19/20]\n",
      "-------------------------------\n"
     ]
    },
    {
     "data": {
      "text/plain": "  0%|          | 0/652 [00:00<?, ?it/s]",
      "application/vnd.jupyter.widget-view+json": {
       "version_major": 2,
       "version_minor": 0,
       "model_id": "f715395343964da2a07d9051f40a1029"
      }
     },
     "metadata": {},
     "output_type": "display_data"
    },
    {
     "name": "stdout",
     "output_type": "stream",
     "text": [
      "\t훈련 데이터 손실값 : 0.0272\n",
      "valid epoch [19/20]\n",
      "-------------------------------\n"
     ]
    },
    {
     "data": {
      "text/plain": "  0%|          | 0/2 [00:00<?, ?it/s]",
      "application/vnd.jupyter.widget-view+json": {
       "version_major": 2,
       "version_minor": 0,
       "model_id": "71aa2d4005be48a2a95adb3887775fdd"
      }
     },
     "metadata": {},
     "output_type": "display_data"
    },
    {
     "name": "stdout",
     "output_type": "stream",
     "text": [
      "\tvalid 데이터 손실값 : 0.2167\n",
      "\t정확도 : 0.9375 / 재현률 : 1.0000 / F1-score : 0.9412\n",
      "train epoch [20/20]\n",
      "-------------------------------\n"
     ]
    },
    {
     "data": {
      "text/plain": "  0%|          | 0/652 [00:00<?, ?it/s]",
      "application/vnd.jupyter.widget-view+json": {
       "version_major": 2,
       "version_minor": 0,
       "model_id": "c737a0150ba84dfca8465b1eb2c5314e"
      }
     },
     "metadata": {},
     "output_type": "display_data"
    },
    {
     "name": "stdout",
     "output_type": "stream",
     "text": [
      "\t훈련 데이터 손실값 : 0.0248\n",
      "valid epoch [20/20]\n",
      "-------------------------------\n"
     ]
    },
    {
     "data": {
      "text/plain": "  0%|          | 0/2 [00:00<?, ?it/s]",
      "application/vnd.jupyter.widget-view+json": {
       "version_major": 2,
       "version_minor": 0,
       "model_id": "f065adf53b5b4ff29bfeede8eb206b69"
      }
     },
     "metadata": {},
     "output_type": "display_data"
    },
    {
     "name": "stdout",
     "output_type": "stream",
     "text": [
      "\tvalid 데이터 손실값 : 0.2303\n",
      "\t정확도 : 0.9375 / 재현률 : 1.0000 / F1-score : 0.9412\n"
     ]
    },
    {
     "data": {
      "text/plain": "<All keys matched successfully>"
     },
     "execution_count": 40,
     "metadata": {},
     "output_type": "execute_result"
    }
   ],
   "source": [
    "model_state_dict = train(model=models_list[1],loader_train=loader_train, loader_valid=loader_valid, criterion=criterion, optimizer=optimizer2, scheduler=scheduler2, epochs=epochs)\n",
    "models_list[1].load_state_dict(model_state_dict)"
   ],
   "metadata": {
    "collapsed": false,
    "ExecuteTime": {
     "end_time": "2023-11-16T14:29:56.414294Z",
     "start_time": "2023-11-16T13:17:17.288325900Z"
    }
   },
   "id": "68a89e5ec67a0c64"
  },
  {
   "cell_type": "code",
   "execution_count": 41,
   "outputs": [
    {
     "name": "stdout",
     "output_type": "stream",
     "text": [
      "train epoch [1/20]\n",
      "-------------------------------\n"
     ]
    },
    {
     "data": {
      "text/plain": "  0%|          | 0/652 [00:00<?, ?it/s]",
      "application/vnd.jupyter.widget-view+json": {
       "version_major": 2,
       "version_minor": 0,
       "model_id": "183615effec24df7a0407fcb4d1fb4e6"
      }
     },
     "metadata": {},
     "output_type": "display_data"
    },
    {
     "name": "stdout",
     "output_type": "stream",
     "text": [
      "\t훈련 데이터 손실값 : 1.3314\n",
      "valid epoch [1/20]\n",
      "-------------------------------\n"
     ]
    },
    {
     "data": {
      "text/plain": "  0%|          | 0/2 [00:00<?, ?it/s]",
      "application/vnd.jupyter.widget-view+json": {
       "version_major": 2,
       "version_minor": 0,
       "model_id": "60a323918bc04460bbb35b32b8f48c2f"
      }
     },
     "metadata": {},
     "output_type": "display_data"
    },
    {
     "name": "stdout",
     "output_type": "stream",
     "text": [
      "\tvalid 데이터 손실값 : 0.2833\n",
      "\t정확도 : 0.8750 / 재현률 : 1.0000 / F1-score : 0.8889\n",
      "\t valid 데이터 loss 감소(inf=>0.5666). 모델 저장\n",
      "train epoch [2/20]\n",
      "-------------------------------\n"
     ]
    },
    {
     "data": {
      "text/plain": "  0%|          | 0/652 [00:00<?, ?it/s]",
      "application/vnd.jupyter.widget-view+json": {
       "version_major": 2,
       "version_minor": 0,
       "model_id": "e515f00f38384d1b9b68a4e2d6543ad6"
      }
     },
     "metadata": {},
     "output_type": "display_data"
    },
    {
     "name": "stdout",
     "output_type": "stream",
     "text": [
      "\t훈련 데이터 손실값 : 0.1511\n",
      "valid epoch [2/20]\n",
      "-------------------------------\n"
     ]
    },
    {
     "data": {
      "text/plain": "  0%|          | 0/2 [00:00<?, ?it/s]",
      "application/vnd.jupyter.widget-view+json": {
       "version_major": 2,
       "version_minor": 0,
       "model_id": "3df756e01fbc4cc6904ab5ebee539a61"
      }
     },
     "metadata": {},
     "output_type": "display_data"
    },
    {
     "name": "stdout",
     "output_type": "stream",
     "text": [
      "\tvalid 데이터 손실값 : 0.1314\n",
      "\t정확도 : 1.0000 / 재현률 : 1.0000 / F1-score : 1.0000\n",
      "\t valid 데이터 loss 감소(0.5666=>0.2629). 모델 저장\n",
      "train epoch [3/20]\n",
      "-------------------------------\n"
     ]
    },
    {
     "data": {
      "text/plain": "  0%|          | 0/652 [00:00<?, ?it/s]",
      "application/vnd.jupyter.widget-view+json": {
       "version_major": 2,
       "version_minor": 0,
       "model_id": "af5ad05fe2234f2abc6187dcaa57b914"
      }
     },
     "metadata": {},
     "output_type": "display_data"
    },
    {
     "name": "stdout",
     "output_type": "stream",
     "text": [
      "\t훈련 데이터 손실값 : 0.1366\n",
      "valid epoch [3/20]\n",
      "-------------------------------\n"
     ]
    },
    {
     "data": {
      "text/plain": "  0%|          | 0/2 [00:00<?, ?it/s]",
      "application/vnd.jupyter.widget-view+json": {
       "version_major": 2,
       "version_minor": 0,
       "model_id": "9735a7a9d42f4c909eaae8a8ee98916e"
      }
     },
     "metadata": {},
     "output_type": "display_data"
    },
    {
     "name": "stdout",
     "output_type": "stream",
     "text": [
      "\tvalid 데이터 손실값 : 0.5501\n",
      "\t정확도 : 0.7500 / 재현률 : 1.0000 / F1-score : 0.8000\n",
      "train epoch [4/20]\n",
      "-------------------------------\n"
     ]
    },
    {
     "data": {
      "text/plain": "  0%|          | 0/652 [00:00<?, ?it/s]",
      "application/vnd.jupyter.widget-view+json": {
       "version_major": 2,
       "version_minor": 0,
       "model_id": "45da22dbfb66428fafa2857b5a66328a"
      }
     },
     "metadata": {},
     "output_type": "display_data"
    },
    {
     "name": "stdout",
     "output_type": "stream",
     "text": [
      "\t훈련 데이터 손실값 : 0.1271\n",
      "valid epoch [4/20]\n",
      "-------------------------------\n"
     ]
    },
    {
     "data": {
      "text/plain": "  0%|          | 0/2 [00:00<?, ?it/s]",
      "application/vnd.jupyter.widget-view+json": {
       "version_major": 2,
       "version_minor": 0,
       "model_id": "8ef1085db3f24489941f5b4674f4ae1f"
      }
     },
     "metadata": {},
     "output_type": "display_data"
    },
    {
     "name": "stdout",
     "output_type": "stream",
     "text": [
      "\tvalid 데이터 손실값 : 0.1844\n",
      "\t정확도 : 0.9375 / 재현률 : 1.0000 / F1-score : 0.9412\n",
      "train epoch [5/20]\n",
      "-------------------------------\n"
     ]
    },
    {
     "data": {
      "text/plain": "  0%|          | 0/652 [00:00<?, ?it/s]",
      "application/vnd.jupyter.widget-view+json": {
       "version_major": 2,
       "version_minor": 0,
       "model_id": "47356ac0db1a439a9b8fc88b5a07e52c"
      }
     },
     "metadata": {},
     "output_type": "display_data"
    },
    {
     "name": "stdout",
     "output_type": "stream",
     "text": [
      "\t훈련 데이터 손실값 : 0.0978\n",
      "valid epoch [5/20]\n",
      "-------------------------------\n"
     ]
    },
    {
     "data": {
      "text/plain": "  0%|          | 0/2 [00:00<?, ?it/s]",
      "application/vnd.jupyter.widget-view+json": {
       "version_major": 2,
       "version_minor": 0,
       "model_id": "76b6e3a6c4e447279512fc891c8978b7"
      }
     },
     "metadata": {},
     "output_type": "display_data"
    },
    {
     "name": "stdout",
     "output_type": "stream",
     "text": [
      "\tvalid 데이터 손실값 : 0.5354\n",
      "\t정확도 : 0.8125 / 재현률 : 1.0000 / F1-score : 0.8421\n",
      "train epoch [6/20]\n",
      "-------------------------------\n"
     ]
    },
    {
     "data": {
      "text/plain": "  0%|          | 0/652 [00:00<?, ?it/s]",
      "application/vnd.jupyter.widget-view+json": {
       "version_major": 2,
       "version_minor": 0,
       "model_id": "01acf5c69a7444d391bbd759d626a683"
      }
     },
     "metadata": {},
     "output_type": "display_data"
    },
    {
     "name": "stdout",
     "output_type": "stream",
     "text": [
      "\t훈련 데이터 손실값 : 0.1046\n",
      "valid epoch [6/20]\n",
      "-------------------------------\n"
     ]
    },
    {
     "data": {
      "text/plain": "  0%|          | 0/2 [00:00<?, ?it/s]",
      "application/vnd.jupyter.widget-view+json": {
       "version_major": 2,
       "version_minor": 0,
       "model_id": "8c8d878f24e042c7b15b98ee79ad266e"
      }
     },
     "metadata": {},
     "output_type": "display_data"
    },
    {
     "name": "stdout",
     "output_type": "stream",
     "text": [
      "\tvalid 데이터 손실값 : 0.3069\n",
      "\t정확도 : 0.8125 / 재현률 : 1.0000 / F1-score : 0.8421\n",
      "train epoch [7/20]\n",
      "-------------------------------\n"
     ]
    },
    {
     "data": {
      "text/plain": "  0%|          | 0/652 [00:00<?, ?it/s]",
      "application/vnd.jupyter.widget-view+json": {
       "version_major": 2,
       "version_minor": 0,
       "model_id": "eab62b26c54d4c6195e09b6c2fa8f05e"
      }
     },
     "metadata": {},
     "output_type": "display_data"
    },
    {
     "name": "stdout",
     "output_type": "stream",
     "text": [
      "\t훈련 데이터 손실값 : 0.1030\n",
      "valid epoch [7/20]\n",
      "-------------------------------\n"
     ]
    },
    {
     "data": {
      "text/plain": "  0%|          | 0/2 [00:00<?, ?it/s]",
      "application/vnd.jupyter.widget-view+json": {
       "version_major": 2,
       "version_minor": 0,
       "model_id": "45694dc672c84806bbe8c359a28a4d0a"
      }
     },
     "metadata": {},
     "output_type": "display_data"
    },
    {
     "name": "stdout",
     "output_type": "stream",
     "text": [
      "\tvalid 데이터 손실값 : 0.1863\n",
      "\t정확도 : 0.8750 / 재현률 : 1.0000 / F1-score : 0.8889\n",
      "train epoch [8/20]\n",
      "-------------------------------\n"
     ]
    },
    {
     "data": {
      "text/plain": "  0%|          | 0/652 [00:00<?, ?it/s]",
      "application/vnd.jupyter.widget-view+json": {
       "version_major": 2,
       "version_minor": 0,
       "model_id": "07689016abaa43dda5dcb93a15a63e94"
      }
     },
     "metadata": {},
     "output_type": "display_data"
    },
    {
     "name": "stdout",
     "output_type": "stream",
     "text": [
      "\t훈련 데이터 손실값 : 0.1138\n",
      "valid epoch [8/20]\n",
      "-------------------------------\n"
     ]
    },
    {
     "data": {
      "text/plain": "  0%|          | 0/2 [00:00<?, ?it/s]",
      "application/vnd.jupyter.widget-view+json": {
       "version_major": 2,
       "version_minor": 0,
       "model_id": "8aa50e10598e4e2ca206e4e2c9500e6a"
      }
     },
     "metadata": {},
     "output_type": "display_data"
    },
    {
     "name": "stdout",
     "output_type": "stream",
     "text": [
      "\tvalid 데이터 손실값 : 0.1901\n",
      "\t정확도 : 0.9375 / 재현률 : 1.0000 / F1-score : 0.9412\n",
      "train epoch [9/20]\n",
      "-------------------------------\n"
     ]
    },
    {
     "data": {
      "text/plain": "  0%|          | 0/652 [00:00<?, ?it/s]",
      "application/vnd.jupyter.widget-view+json": {
       "version_major": 2,
       "version_minor": 0,
       "model_id": "a8c85724bea045cf896ce3b4b19c7dc6"
      }
     },
     "metadata": {},
     "output_type": "display_data"
    },
    {
     "name": "stdout",
     "output_type": "stream",
     "text": [
      "\t훈련 데이터 손실값 : 0.0952\n",
      "valid epoch [9/20]\n",
      "-------------------------------\n"
     ]
    },
    {
     "data": {
      "text/plain": "  0%|          | 0/2 [00:00<?, ?it/s]",
      "application/vnd.jupyter.widget-view+json": {
       "version_major": 2,
       "version_minor": 0,
       "model_id": "5ea72a8f2ae04e4fad149cfcebbc3e24"
      }
     },
     "metadata": {},
     "output_type": "display_data"
    },
    {
     "name": "stdout",
     "output_type": "stream",
     "text": [
      "\tvalid 데이터 손실값 : 0.3264\n",
      "\t정확도 : 0.8125 / 재현률 : 1.0000 / F1-score : 0.8421\n",
      "train epoch [10/20]\n",
      "-------------------------------\n"
     ]
    },
    {
     "data": {
      "text/plain": "  0%|          | 0/652 [00:00<?, ?it/s]",
      "application/vnd.jupyter.widget-view+json": {
       "version_major": 2,
       "version_minor": 0,
       "model_id": "14d93565ef4d44afb988fabe2d156834"
      }
     },
     "metadata": {},
     "output_type": "display_data"
    },
    {
     "name": "stdout",
     "output_type": "stream",
     "text": [
      "\t훈련 데이터 손실값 : 0.1123\n",
      "valid epoch [10/20]\n",
      "-------------------------------\n"
     ]
    },
    {
     "data": {
      "text/plain": "  0%|          | 0/2 [00:00<?, ?it/s]",
      "application/vnd.jupyter.widget-view+json": {
       "version_major": 2,
       "version_minor": 0,
       "model_id": "3c993cc3615c49ab8803f34bdc2053d0"
      }
     },
     "metadata": {},
     "output_type": "display_data"
    },
    {
     "name": "stdout",
     "output_type": "stream",
     "text": [
      "\tvalid 데이터 손실값 : 2.2131\n",
      "\t정확도 : 0.5625 / 재현률 : 1.0000 / F1-score : 0.6957\n",
      "train epoch [11/20]\n",
      "-------------------------------\n"
     ]
    },
    {
     "data": {
      "text/plain": "  0%|          | 0/652 [00:00<?, ?it/s]",
      "application/vnd.jupyter.widget-view+json": {
       "version_major": 2,
       "version_minor": 0,
       "model_id": "b9e3942ff23f49cc9f7f431b6f42222e"
      }
     },
     "metadata": {},
     "output_type": "display_data"
    },
    {
     "name": "stdout",
     "output_type": "stream",
     "text": [
      "\t훈련 데이터 손실값 : 0.0831\n",
      "valid epoch [11/20]\n",
      "-------------------------------\n"
     ]
    },
    {
     "data": {
      "text/plain": "  0%|          | 0/2 [00:00<?, ?it/s]",
      "application/vnd.jupyter.widget-view+json": {
       "version_major": 2,
       "version_minor": 0,
       "model_id": "575a47fac0e245bdbb7bb67944b43805"
      }
     },
     "metadata": {},
     "output_type": "display_data"
    },
    {
     "name": "stdout",
     "output_type": "stream",
     "text": [
      "\tvalid 데이터 손실값 : 0.5840\n",
      "\t정확도 : 0.7500 / 재현률 : 1.0000 / F1-score : 0.8000\n",
      "train epoch [12/20]\n",
      "-------------------------------\n"
     ]
    },
    {
     "data": {
      "text/plain": "  0%|          | 0/652 [00:00<?, ?it/s]",
      "application/vnd.jupyter.widget-view+json": {
       "version_major": 2,
       "version_minor": 0,
       "model_id": "199fbe18c6a94ccf8fe5294c94f23b08"
      }
     },
     "metadata": {},
     "output_type": "display_data"
    },
    {
     "name": "stdout",
     "output_type": "stream",
     "text": [
      "\t훈련 데이터 손실값 : 0.0875\n",
      "valid epoch [12/20]\n",
      "-------------------------------\n"
     ]
    },
    {
     "data": {
      "text/plain": "  0%|          | 0/2 [00:00<?, ?it/s]",
      "application/vnd.jupyter.widget-view+json": {
       "version_major": 2,
       "version_minor": 0,
       "model_id": "1d9af50cc5ab466d9c4b161ae850631c"
      }
     },
     "metadata": {},
     "output_type": "display_data"
    },
    {
     "name": "stdout",
     "output_type": "stream",
     "text": [
      "\tvalid 데이터 손실값 : 0.2215\n",
      "\t정확도 : 0.9375 / 재현률 : 1.0000 / F1-score : 0.9412\n",
      "train epoch [13/20]\n",
      "-------------------------------\n"
     ]
    },
    {
     "data": {
      "text/plain": "  0%|          | 0/652 [00:00<?, ?it/s]",
      "application/vnd.jupyter.widget-view+json": {
       "version_major": 2,
       "version_minor": 0,
       "model_id": "9ee4a7ec0fb449ee9f56dc793fca4d33"
      }
     },
     "metadata": {},
     "output_type": "display_data"
    },
    {
     "name": "stdout",
     "output_type": "stream",
     "text": [
      "\t훈련 데이터 손실값 : 0.0748\n",
      "valid epoch [13/20]\n",
      "-------------------------------\n"
     ]
    },
    {
     "data": {
      "text/plain": "  0%|          | 0/2 [00:00<?, ?it/s]",
      "application/vnd.jupyter.widget-view+json": {
       "version_major": 2,
       "version_minor": 0,
       "model_id": "a6d2977bba2f4908987516ff4f5c162f"
      }
     },
     "metadata": {},
     "output_type": "display_data"
    },
    {
     "name": "stdout",
     "output_type": "stream",
     "text": [
      "\tvalid 데이터 손실값 : 1.0866\n",
      "\t정확도 : 0.6875 / 재현률 : 1.0000 / F1-score : 0.7619\n",
      "train epoch [14/20]\n",
      "-------------------------------\n"
     ]
    },
    {
     "data": {
      "text/plain": "  0%|          | 0/652 [00:00<?, ?it/s]",
      "application/vnd.jupyter.widget-view+json": {
       "version_major": 2,
       "version_minor": 0,
       "model_id": "ca7524c0784a46f9b2c5135643e3f8ff"
      }
     },
     "metadata": {},
     "output_type": "display_data"
    },
    {
     "name": "stdout",
     "output_type": "stream",
     "text": [
      "\t훈련 데이터 손실값 : 0.0611\n",
      "valid epoch [14/20]\n",
      "-------------------------------\n"
     ]
    },
    {
     "data": {
      "text/plain": "  0%|          | 0/2 [00:00<?, ?it/s]",
      "application/vnd.jupyter.widget-view+json": {
       "version_major": 2,
       "version_minor": 0,
       "model_id": "de598440b3244a51a5aebbf39abc9f4b"
      }
     },
     "metadata": {},
     "output_type": "display_data"
    },
    {
     "name": "stdout",
     "output_type": "stream",
     "text": [
      "\tvalid 데이터 손실값 : 0.3606\n",
      "\t정확도 : 0.8125 / 재현률 : 1.0000 / F1-score : 0.8421\n",
      "train epoch [15/20]\n",
      "-------------------------------\n"
     ]
    },
    {
     "data": {
      "text/plain": "  0%|          | 0/652 [00:00<?, ?it/s]",
      "application/vnd.jupyter.widget-view+json": {
       "version_major": 2,
       "version_minor": 0,
       "model_id": "06c6c3c428bc49cc8b0bb2864fdd6223"
      }
     },
     "metadata": {},
     "output_type": "display_data"
    },
    {
     "name": "stdout",
     "output_type": "stream",
     "text": [
      "\t훈련 데이터 손실값 : 0.0566\n",
      "valid epoch [15/20]\n",
      "-------------------------------\n"
     ]
    },
    {
     "data": {
      "text/plain": "  0%|          | 0/2 [00:00<?, ?it/s]",
      "application/vnd.jupyter.widget-view+json": {
       "version_major": 2,
       "version_minor": 0,
       "model_id": "0f18cb419aa94150b39049b1c9c6986f"
      }
     },
     "metadata": {},
     "output_type": "display_data"
    },
    {
     "name": "stdout",
     "output_type": "stream",
     "text": [
      "\tvalid 데이터 손실값 : 0.2209\n",
      "\t정확도 : 0.9375 / 재현률 : 1.0000 / F1-score : 0.9412\n",
      "train epoch [16/20]\n",
      "-------------------------------\n"
     ]
    },
    {
     "data": {
      "text/plain": "  0%|          | 0/652 [00:00<?, ?it/s]",
      "application/vnd.jupyter.widget-view+json": {
       "version_major": 2,
       "version_minor": 0,
       "model_id": "3e5d05400eda41d59c0f2cebefe5789d"
      }
     },
     "metadata": {},
     "output_type": "display_data"
    },
    {
     "name": "stdout",
     "output_type": "stream",
     "text": [
      "\t훈련 데이터 손실값 : 0.0383\n",
      "valid epoch [16/20]\n",
      "-------------------------------\n"
     ]
    },
    {
     "data": {
      "text/plain": "  0%|          | 0/2 [00:00<?, ?it/s]",
      "application/vnd.jupyter.widget-view+json": {
       "version_major": 2,
       "version_minor": 0,
       "model_id": "c09e3e7815c4433e8ffa2b071f372967"
      }
     },
     "metadata": {},
     "output_type": "display_data"
    },
    {
     "name": "stdout",
     "output_type": "stream",
     "text": [
      "\tvalid 데이터 손실값 : 0.3987\n",
      "\t정확도 : 0.7500 / 재현률 : 1.0000 / F1-score : 0.8000\n",
      "train epoch [17/20]\n",
      "-------------------------------\n"
     ]
    },
    {
     "data": {
      "text/plain": "  0%|          | 0/652 [00:00<?, ?it/s]",
      "application/vnd.jupyter.widget-view+json": {
       "version_major": 2,
       "version_minor": 0,
       "model_id": "76011d47efd74fb79200b2c91a803620"
      }
     },
     "metadata": {},
     "output_type": "display_data"
    },
    {
     "name": "stdout",
     "output_type": "stream",
     "text": [
      "\t훈련 데이터 손실값 : 0.0376\n",
      "valid epoch [17/20]\n",
      "-------------------------------\n"
     ]
    },
    {
     "data": {
      "text/plain": "  0%|          | 0/2 [00:00<?, ?it/s]",
      "application/vnd.jupyter.widget-view+json": {
       "version_major": 2,
       "version_minor": 0,
       "model_id": "317a60cb2b854db984c65489a545692e"
      }
     },
     "metadata": {},
     "output_type": "display_data"
    },
    {
     "name": "stdout",
     "output_type": "stream",
     "text": [
      "\tvalid 데이터 손실값 : 0.2088\n",
      "\t정확도 : 0.8750 / 재현률 : 1.0000 / F1-score : 0.8889\n",
      "train epoch [18/20]\n",
      "-------------------------------\n"
     ]
    },
    {
     "data": {
      "text/plain": "  0%|          | 0/652 [00:00<?, ?it/s]",
      "application/vnd.jupyter.widget-view+json": {
       "version_major": 2,
       "version_minor": 0,
       "model_id": "8154bf817c3e4acb895719a3ea7a4750"
      }
     },
     "metadata": {},
     "output_type": "display_data"
    },
    {
     "name": "stdout",
     "output_type": "stream",
     "text": [
      "\t훈련 데이터 손실값 : 0.0304\n",
      "valid epoch [18/20]\n",
      "-------------------------------\n"
     ]
    },
    {
     "data": {
      "text/plain": "  0%|          | 0/2 [00:00<?, ?it/s]",
      "application/vnd.jupyter.widget-view+json": {
       "version_major": 2,
       "version_minor": 0,
       "model_id": "af06003a89a841018ffc9412db58c5a6"
      }
     },
     "metadata": {},
     "output_type": "display_data"
    },
    {
     "name": "stdout",
     "output_type": "stream",
     "text": [
      "\tvalid 데이터 손실값 : 0.2775\n",
      "\t정확도 : 0.8750 / 재현률 : 1.0000 / F1-score : 0.8889\n",
      "train epoch [19/20]\n",
      "-------------------------------\n"
     ]
    },
    {
     "data": {
      "text/plain": "  0%|          | 0/652 [00:00<?, ?it/s]",
      "application/vnd.jupyter.widget-view+json": {
       "version_major": 2,
       "version_minor": 0,
       "model_id": "275721b773454142b39e12417be7f288"
      }
     },
     "metadata": {},
     "output_type": "display_data"
    },
    {
     "name": "stdout",
     "output_type": "stream",
     "text": [
      "\t훈련 데이터 손실값 : 0.0283\n",
      "valid epoch [19/20]\n",
      "-------------------------------\n"
     ]
    },
    {
     "data": {
      "text/plain": "  0%|          | 0/2 [00:00<?, ?it/s]",
      "application/vnd.jupyter.widget-view+json": {
       "version_major": 2,
       "version_minor": 0,
       "model_id": "6afd1a9612e04de98004698249b8bc4f"
      }
     },
     "metadata": {},
     "output_type": "display_data"
    },
    {
     "name": "stdout",
     "output_type": "stream",
     "text": [
      "\tvalid 데이터 손실값 : 0.2652\n",
      "\t정확도 : 0.8750 / 재현률 : 1.0000 / F1-score : 0.8889\n",
      "train epoch [20/20]\n",
      "-------------------------------\n"
     ]
    },
    {
     "data": {
      "text/plain": "  0%|          | 0/652 [00:00<?, ?it/s]",
      "application/vnd.jupyter.widget-view+json": {
       "version_major": 2,
       "version_minor": 0,
       "model_id": "444db90ea8094d25969fa733a7d81959"
      }
     },
     "metadata": {},
     "output_type": "display_data"
    },
    {
     "name": "stdout",
     "output_type": "stream",
     "text": [
      "\t훈련 데이터 손실값 : 0.0243\n",
      "valid epoch [20/20]\n",
      "-------------------------------\n"
     ]
    },
    {
     "data": {
      "text/plain": "  0%|          | 0/2 [00:00<?, ?it/s]",
      "application/vnd.jupyter.widget-view+json": {
       "version_major": 2,
       "version_minor": 0,
       "model_id": "91d2a95bbbf64751a454779a066834cd"
      }
     },
     "metadata": {},
     "output_type": "display_data"
    },
    {
     "name": "stdout",
     "output_type": "stream",
     "text": [
      "\tvalid 데이터 손실값 : 0.3021\n",
      "\t정확도 : 0.8750 / 재현률 : 1.0000 / F1-score : 0.8889\n"
     ]
    },
    {
     "data": {
      "text/plain": "<All keys matched successfully>"
     },
     "execution_count": 41,
     "metadata": {},
     "output_type": "execute_result"
    }
   ],
   "source": [
    "model_state_dict = train(model=models_list[2],loader_train=loader_train, loader_valid=loader_valid, criterion=criterion, optimizer=optimizer3, scheduler=scheduler3, epochs=epochs)\n",
    "models_list[2].load_state_dict(model_state_dict)"
   ],
   "metadata": {
    "collapsed": false,
    "ExecuteTime": {
     "end_time": "2023-11-16T15:13:58.023116300Z",
     "start_time": "2023-11-16T14:29:56.419294900Z"
    }
   },
   "id": "2c65eed165e22c25"
  },
  {
   "cell_type": "markdown",
   "source": [
    "### 13.4.3 예측 및 평가결과"
   ],
   "metadata": {
    "collapsed": false
   },
   "id": "7e6104a4be159695"
  },
  {
   "cell_type": "code",
   "execution_count": 42,
   "outputs": [],
   "source": [
    "datasets_test = ImageFolder(root=test_path, transform=transform_valid)\n",
    "loader_test = DataLoader(\n",
    "    dataset=datasets_test, \n",
    "    batch_size=batch_size, \n",
    "    shuffle=False, \n",
    "    worker_init_fn=seed_worker,\n",
    "    generator=g,\n",
    "    num_workers=0\n",
    ")"
   ],
   "metadata": {
    "collapsed": false,
    "ExecuteTime": {
     "end_time": "2023-11-16T15:13:58.076342800Z",
     "start_time": "2023-11-16T15:13:58.021101Z"
    }
   },
   "id": "babb3ea99e021598"
  },
  {
   "cell_type": "code",
   "execution_count": 43,
   "outputs": [],
   "source": [
    "def predict(model, loader_test, return_true=False):\n",
    "    model.eval()\n",
    "    preds_list = []\n",
    "    true_list = []\n",
    "    \n",
    "    with torch.no_grad():\n",
    "        for images, labels in loader_test:\n",
    "            images = images.to(device)\n",
    "            labels = labels.to(device)\n",
    "            outputs = model(images)\n",
    "            preds = torch.max(outputs.cpu(), dim=1)[1].numpy()\n",
    "            true = labels.cpu().numpy()\n",
    "            preds_list.extend(preds)\n",
    "            true_list.extend(true)\n",
    "    if return_true:\n",
    "        return true_list, preds_list\n",
    "    else:\n",
    "        return preds_list"
   ],
   "metadata": {
    "collapsed": false,
    "ExecuteTime": {
     "end_time": "2023-11-16T15:13:58.085337400Z",
     "start_time": "2023-11-16T15:13:58.047635300Z"
    }
   },
   "id": "c25d1db26ffaf85c"
  },
  {
   "cell_type": "code",
   "execution_count": 44,
   "outputs": [],
   "source": [
    "true_list, preds_list1 = predict(model=models_list[0], loader_test=loader_test, return_true=True)\n",
    "preds_list2 = predict(model=models_list[1], loader_test=loader_test)\n",
    "preds_list3 = predict(model=models_list[2], loader_test=loader_test)"
   ],
   "metadata": {
    "collapsed": false,
    "ExecuteTime": {
     "end_time": "2023-11-16T15:14:31.136463200Z",
     "start_time": "2023-11-16T15:13:58.063320600Z"
    }
   },
   "id": "a9099c8b389f3d8b"
  },
  {
   "cell_type": "code",
   "execution_count": 48,
   "outputs": [],
   "source": [
    "# 평가 결과\n",
    "def show_metrics(true_list, preds_list):\n",
    "    accuracy_ = accuracy_score(true_list, preds_list)\n",
    "    recall_ = recall_score(true_list, preds_list)\n",
    "    f1_score_ = f1_score(true_list, preds_list)\n",
    "    print(f'\\t정확도 : {accuracy_:.4f} / 재현률 : {recall_:.4f} / F1-score : {f1_score_:.4f}')"
   ],
   "metadata": {
    "collapsed": false,
    "ExecuteTime": {
     "end_time": "2023-11-16T16:28:50.633865Z",
     "start_time": "2023-11-16T16:28:50.614860100Z"
    }
   },
   "id": "e462ee884548574a"
  },
  {
   "cell_type": "code",
   "execution_count": 49,
   "outputs": [
    {
     "name": "stdout",
     "output_type": "stream",
     "text": [
      "\t정확도 : 0.8718 / 재현률 : 0.9487 / F1-score : 0.9024\n"
     ]
    }
   ],
   "source": [
    "show_metrics(true_list, preds_list1)"
   ],
   "metadata": {
    "collapsed": false,
    "ExecuteTime": {
     "end_time": "2023-11-16T16:28:54.398106Z",
     "start_time": "2023-11-16T16:28:54.382240700Z"
    }
   },
   "id": "c2d6076d072fdc15"
  },
  {
   "cell_type": "code",
   "execution_count": 50,
   "outputs": [
    {
     "name": "stdout",
     "output_type": "stream",
     "text": [
      "\t정확도 : 0.9183 / 재현률 : 0.9462 / F1-score : 0.9354\n"
     ]
    }
   ],
   "source": [
    "show_metrics(true_list, preds_list2)"
   ],
   "metadata": {
    "collapsed": false,
    "ExecuteTime": {
     "end_time": "2023-11-16T16:28:54.440116400Z",
     "start_time": "2023-11-16T16:28:54.396103500Z"
    }
   },
   "id": "c711506064a417b0"
  },
  {
   "cell_type": "code",
   "execution_count": 51,
   "outputs": [
    {
     "name": "stdout",
     "output_type": "stream",
     "text": [
      "\t정확도 : 0.8958 / 재현률 : 0.9615 / F1-score : 0.9202\n"
     ]
    }
   ],
   "source": [
    "show_metrics(true_list, preds_list3)"
   ],
   "metadata": {
    "collapsed": false,
    "ExecuteTime": {
     "end_time": "2023-11-16T16:28:54.449616400Z",
     "start_time": "2023-11-16T16:28:54.413104500Z"
    }
   },
   "id": "27819153da98d66a"
  },
  {
   "cell_type": "code",
   "execution_count": 52,
   "outputs": [],
   "source": [
    "# 앙상블 예측\n",
    "ensemble_preds = []\n",
    "for i in range(len(preds_list1)):\n",
    "    pred_element = np.round((preds_list1[i]+preds_list2[i]+preds_list3[i])/3)\n",
    "    ensemble_preds.append(pred_element)"
   ],
   "metadata": {
    "collapsed": false,
    "ExecuteTime": {
     "end_time": "2023-11-16T16:28:57.852345300Z",
     "start_time": "2023-11-16T16:28:57.838252100Z"
    }
   },
   "id": "c96b86d8b44fba3f"
  },
  {
   "cell_type": "code",
   "execution_count": 53,
   "outputs": [
    {
     "name": "stdout",
     "output_type": "stream",
     "text": [
      "\t정확도 : 0.9038 / 재현률 : 0.9590 / F1-score : 0.9257\n"
     ]
    }
   ],
   "source": [
    "# 평가 결과\n",
    "show_metrics(true_list, ensemble_preds)"
   ],
   "metadata": {
    "collapsed": false,
    "ExecuteTime": {
     "end_time": "2023-11-16T16:29:01.462159900Z",
     "start_time": "2023-11-16T16:29:01.447438100Z"
    }
   },
   "id": "51101166973596d8"
  },
  {
   "cell_type": "code",
   "execution_count": null,
   "outputs": [],
   "source": [],
   "metadata": {
    "collapsed": false,
    "ExecuteTime": {
     "end_time": "2023-11-16T15:14:31.330453400Z",
     "start_time": "2023-11-16T15:14:31.330453400Z"
    }
   },
   "id": "647d102e20ffc797"
  },
  {
   "cell_type": "code",
   "execution_count": null,
   "outputs": [],
   "source": [],
   "metadata": {
    "collapsed": false,
    "ExecuteTime": {
     "end_time": "2023-11-16T15:14:31.332966300Z",
     "start_time": "2023-11-16T15:14:31.331959800Z"
    }
   },
   "id": "d8b4139d688b01d0"
  }
 ],
 "metadata": {
  "kernelspec": {
   "display_name": "Python 3",
   "language": "python",
   "name": "python3"
  },
  "language_info": {
   "codemirror_mode": {
    "name": "ipython",
    "version": 2
   },
   "file_extension": ".py",
   "mimetype": "text/x-python",
   "name": "python",
   "nbconvert_exporter": "python",
   "pygments_lexer": "ipython2",
   "version": "2.7.6"
  }
 },
 "nbformat": 4,
 "nbformat_minor": 5
}
