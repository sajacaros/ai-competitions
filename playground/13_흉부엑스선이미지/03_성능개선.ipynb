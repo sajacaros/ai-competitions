{
 "cells": [
  {
   "cell_type": "markdown",
   "source": [
    "## 13.4 성능 개선\n",
    "* EfficientNet b1~3 이용"
   ],
   "metadata": {
    "collapsed": false
   },
   "id": "c11c43b82d4a5478"
  },
  {
   "cell_type": "code",
   "execution_count": 25,
   "id": "initial_id",
   "metadata": {
    "collapsed": true,
    "ExecuteTime": {
     "end_time": "2023-11-16T12:34:53.076366300Z",
     "start_time": "2023-11-16T12:34:52.998761700Z"
    }
   },
   "outputs": [],
   "source": [
    "import pandas as pd\n",
    "import matplotlib.pyplot as plt\n",
    "import seaborn as sns\n",
    "import numpy as np\n",
    "from glob import glob\n",
    "import matplotlib as mpl\n",
    "import matplotlib.pyplot as plt\n",
    "import matplotlib.gridspec as gridspec\n",
    "import cv2\n",
    "import torch\n",
    "import random\n",
    "import os\n",
    "from tqdm.auto import tqdm"
   ]
  },
  {
   "cell_type": "code",
   "execution_count": 26,
   "outputs": [],
   "source": [
    "# 시드값 고정\n",
    "seed = 50\n",
    "os.environ['PYTHONHASHSEED'] = str(seed)\n",
    "random.seed(seed)\n",
    "np.random.seed(seed)\n",
    "torch.manual_seed(seed)\n",
    "torch.cuda.manual_seed(seed)\n",
    "torch.cuda.manual_seed_all(seed)\n",
    "torch.backends.cudnn.deterministic = True\n",
    "torch.backends.cudnn.benchmark = False\n",
    "torch.backends.cudnn.enabled = False"
   ],
   "metadata": {
    "collapsed": false,
    "ExecuteTime": {
     "end_time": "2023-11-16T12:34:53.123161800Z",
     "start_time": "2023-11-16T12:34:53.013775100Z"
    }
   },
   "id": "24576c51bb43e638"
  },
  {
   "cell_type": "code",
   "execution_count": 27,
   "outputs": [],
   "source": [
    "# GPU 장비 설정\n",
    "device = torch.device('cuda' if torch.cuda.is_available() else 'cpu')"
   ],
   "metadata": {
    "collapsed": false,
    "ExecuteTime": {
     "end_time": "2023-11-16T12:34:53.123161800Z",
     "start_time": "2023-11-16T12:34:53.029415200Z"
    }
   },
   "id": "e083bb9955720f54"
  },
  {
   "cell_type": "code",
   "execution_count": 28,
   "outputs": [],
   "source": [
    "data_path = '../../data/13_xray/chest_xray/'\n",
    "\n",
    "train_path = data_path + 'train/'\n",
    "valid_path = data_path + 'val/'\n",
    "test_path = data_path + 'test/'"
   ],
   "metadata": {
    "collapsed": false,
    "ExecuteTime": {
     "end_time": "2023-11-16T12:34:53.123161800Z",
     "start_time": "2023-11-16T12:34:53.045063400Z"
    }
   },
   "id": "bc225ee4dc62521e"
  },
  {
   "cell_type": "code",
   "execution_count": 29,
   "outputs": [],
   "source": [
    "# 데이터 증강을 위한 이미지 변환기 정의\n",
    "from torchvision import transforms\n",
    "transform_train = transforms.Compose([\n",
    "    transforms.Resize((224,224)),\n",
    "    transforms.CenterCrop(180), # 중앙 이미지 확대\n",
    "    transforms.RandomHorizontalFlip(0.5), # 좌우 대칭\n",
    "    transforms.RandomVerticalFlip(0.2), # 상하 대칭\n",
    "    transforms.RandomRotation(20), # 이미지 회전\n",
    "    transforms.ToTensor(),\n",
    "    transforms.Normalize((0.485, 0.456, 0.406), (0.229, 0.224, 0.225))\n",
    "])\n",
    "transform_valid = transforms.Compose([\n",
    "    transforms.Resize((224,224)),\n",
    "    transforms.CenterCrop(180), # 중앙 이미지 확대\n",
    "    transforms.ToTensor(),\n",
    "    transforms.Normalize((0.485, 0.456, 0.406), (0.229, 0.224, 0.225))\n",
    "])"
   ],
   "metadata": {
    "collapsed": false,
    "ExecuteTime": {
     "end_time": "2023-11-16T12:34:53.123161800Z",
     "start_time": "2023-11-16T12:34:53.060735300Z"
    }
   },
   "id": "6bb8fde264133e58"
  },
  {
   "cell_type": "code",
   "execution_count": 30,
   "outputs": [],
   "source": [
    "# 데이터셋 및 데이터 로더 생성\n",
    "from torchvision.datasets import ImageFolder\n",
    "datasets_train = ImageFolder(root=train_path, transform=transform_train)\n",
    "datasets_valid = ImageFolder(root=valid_path, transform=transform_valid)"
   ],
   "metadata": {
    "collapsed": false,
    "ExecuteTime": {
     "end_time": "2023-11-16T12:34:53.123161800Z",
     "start_time": "2023-11-16T12:34:53.076366300Z"
    }
   },
   "id": "ef1f22c91965ec31"
  },
  {
   "cell_type": "code",
   "execution_count": 31,
   "outputs": [
    {
     "data": {
      "text/plain": "<torch._C.Generator at 0x1e38b37ca10>"
     },
     "execution_count": 31,
     "metadata": {},
     "output_type": "execute_result"
    }
   ],
   "source": [
    "def seed_worker(worker_id):\n",
    "    worker_seed = torch.initial_seed() % 2 ** 32\n",
    "    np.random.seed(worker_seed)\n",
    "    random.seed(worker_seed)\n",
    "g = torch.Generator()\n",
    "g.manual_seed(0)"
   ],
   "metadata": {
    "collapsed": false,
    "ExecuteTime": {
     "end_time": "2023-11-16T12:34:53.123161800Z",
     "start_time": "2023-11-16T12:34:53.107536100Z"
    }
   },
   "id": "c478422bb0e34702"
  },
  {
   "cell_type": "code",
   "execution_count": 32,
   "outputs": [],
   "source": [
    "from torch.utils.data import DataLoader\n",
    "\n",
    "batch_size = 8\n",
    "loader_train = DataLoader(dataset=datasets_train, batch_size=batch_size, shuffle=True, worker_init_fn=seed_worker, generator=g, num_workers=0)\n",
    "loader_valid = DataLoader(dataset=datasets_valid, batch_size=batch_size, shuffle=False, worker_init_fn=seed_worker, generator=g, num_workers=0)"
   ],
   "metadata": {
    "collapsed": false,
    "ExecuteTime": {
     "end_time": "2023-11-16T12:34:53.138789600Z",
     "start_time": "2023-11-16T12:34:53.123161800Z"
    }
   },
   "id": "9fb01acfadff7999"
  },
  {
   "cell_type": "markdown",
   "source": [
    "### 13.4.1 모델생성"
   ],
   "metadata": {
    "collapsed": false
   },
   "id": "558f852f965ec14a"
  },
  {
   "cell_type": "code",
   "execution_count": 33,
   "outputs": [],
   "source": [
    "import timm\n",
    "models_list = []\n",
    "effiecient_b1 = timm.create_model('efficientnet_b1', pretrained=True).to(device)\n",
    "effiecient_b2 = timm.create_model('efficientnet_b2', pretrained=True).to(device)\n",
    "effiecient_b3 = timm.create_model('efficientnet_b3', pretrained=True).to(device)\n",
    "models_list.append(effiecient_b1)\n",
    "models_list.append(effiecient_b2)\n",
    "models_list.append(effiecient_b3)"
   ],
   "metadata": {
    "collapsed": false,
    "ExecuteTime": {
     "end_time": "2023-11-16T12:34:54.940364400Z",
     "start_time": "2023-11-16T12:34:53.138789600Z"
    }
   },
   "id": "bf709d242508d842"
  },
  {
   "cell_type": "code",
   "execution_count": 34,
   "outputs": [
    {
     "name": "stdout",
     "output_type": "stream",
     "text": [
      "model(1) 파라미터 개수 \" 7794184\n",
      "model(2) 파라미터 개수 \" 9109994\n",
      "model(3) 파라미터 개수 \" 12233232\n"
     ]
    }
   ],
   "source": [
    "for idx, model in enumerate(models_list):\n",
    "    num_params = sum(param.numel() for param in model.parameters())\n",
    "    print(f'model({idx+1}) 파라미터 개수 \" {num_params}')"
   ],
   "metadata": {
    "collapsed": false,
    "ExecuteTime": {
     "end_time": "2023-11-16T12:34:54.956346700Z",
     "start_time": "2023-11-16T12:34:54.948281400Z"
    }
   },
   "id": "c89e49a58a9ca2dc"
  },
  {
   "cell_type": "code",
   "execution_count": 35,
   "outputs": [],
   "source": [
    "# 손실 함수와 옵티마이저 설정\n",
    "import torch.nn as nn\n",
    "criterion = nn.CrossEntropyLoss()\n",
    "optimizer1 = torch.optim.Adam(models_list[0].parameters(), lr=0.0006, weight_decay=0.001)\n",
    "optimizer2 = torch.optim.Adam(models_list[1].parameters(), lr=0.0006, weight_decay=0.001)\n",
    "optimizer3 = torch.optim.Adam(models_list[2].parameters(), lr=0.0006, weight_decay=0.001)"
   ],
   "metadata": {
    "collapsed": false,
    "ExecuteTime": {
     "end_time": "2023-11-16T12:34:55.003231900Z",
     "start_time": "2023-11-16T12:34:54.956346700Z"
    }
   },
   "id": "9de4d3a44ab45123"
  },
  {
   "cell_type": "code",
   "execution_count": 36,
   "outputs": [],
   "source": [
    "from transformers import get_cosine_schedule_with_warmup\n",
    "\n",
    "epochs = 20\n",
    "scheduler1= get_cosine_schedule_with_warmup(\n",
    "    optimizer1, \n",
    "    num_warmup_steps=len(loader_train)*3,\n",
    "    num_training_steps=len(loader_train)*epochs\n",
    ")\n",
    "scheduler2= get_cosine_schedule_with_warmup(\n",
    "    optimizer2, \n",
    "    num_warmup_steps=len(loader_train)*3,\n",
    "    num_training_steps=len(loader_train)*epochs\n",
    ")\n",
    "scheduler3= get_cosine_schedule_with_warmup(\n",
    "    optimizer3, \n",
    "    num_warmup_steps=len(loader_train)*3,\n",
    "    num_training_steps=len(loader_train)*epochs\n",
    ")"
   ],
   "metadata": {
    "collapsed": false,
    "ExecuteTime": {
     "end_time": "2023-11-16T12:34:55.003231900Z",
     "start_time": "2023-11-16T12:34:54.971997900Z"
    }
   },
   "id": "7ea76eed9afefa68"
  },
  {
   "cell_type": "code",
   "execution_count": 37,
   "outputs": [],
   "source": [
    "### 13.4.2 모델 훈련 및 성능 검증"
   ],
   "metadata": {
    "collapsed": false,
    "ExecuteTime": {
     "end_time": "2023-11-16T12:34:55.003231900Z",
     "start_time": "2023-11-16T12:34:54.987609500Z"
    }
   },
   "id": "84249a87a74a8c2f"
  },
  {
   "cell_type": "code",
   "execution_count": 38,
   "outputs": [],
   "source": [
    "from sklearn.metrics import accuracy_score,f1_score,recall_score \n",
    "\n",
    "# 훈련 함수 작성\n",
    "def train(model, loader_train, loader_valid, criterion, optimizer, scheduler=None, epochs=10, save_file='model_state_dict.pth'):\n",
    "    valid_loss_min = np.inf\n",
    "    for epoch in range(epochs):\n",
    "        print(f'train epoch [{epoch+1}/{epochs}]\\n-------------------------------')\n",
    "        model.train()\n",
    "        epoch_train_loss=0\n",
    "        for images, labels in tqdm(loader_train):\n",
    "            images = images.to(device)\n",
    "            labels = labels.to(device)\n",
    "            \n",
    "            optimizer.zero_grad()\n",
    "            outputs = model(images)\n",
    "            loss = criterion(outputs, labels)\n",
    "            epoch_train_loss += loss.item()\n",
    "            loss.backward()\n",
    "            optimizer.step()\n",
    "            if scheduler !=None:\n",
    "                scheduler.step()\n",
    "        print(f'\\t훈련 데이터 손실값 : {epoch_train_loss/len(loader_train):.4f}')\n",
    "    \n",
    "        print(f'valid epoch [{epoch+1}/{epochs}]\\n-------------------------------')\n",
    "        model.eval()\n",
    "        epoch_valid_loss=0\n",
    "        preds_list = []\n",
    "        true_list = []\n",
    "        with torch.no_grad():\n",
    "            for images, labels in tqdm(loader_valid):\n",
    "                images = images.to(device)\n",
    "                labels = labels.to(device)\n",
    "                \n",
    "                outputs = model(images)\n",
    "                loss = criterion(outputs, labels)\n",
    "                epoch_valid_loss += loss.item()\n",
    "                \n",
    "                preds = torch.max(outputs.cpu(), dim=1)[1].numpy()\n",
    "                true = labels.cpu().numpy()\n",
    "                \n",
    "                preds_list.extend(preds)\n",
    "                true_list.extend(true)\n",
    "                \n",
    "            print(f'\\tvalid 데이터 손실값 : {epoch_valid_loss/len(loader_valid):.4f}')\n",
    "            val_accuracy = accuracy_score(true_list, preds_list)\n",
    "            val_recall = recall_score(true_list, preds_list)\n",
    "            val_f1_score = f1_score(true_list, preds_list)\n",
    "            print(f'\\t정확도 : {val_accuracy:.4f} / 재현률 : {val_recall:.4f} / F1-score : {val_f1_score:.4f}')\n",
    "            \n",
    "            if epoch_valid_loss <= valid_loss_min:\n",
    "                print(f'\\t valid 데이터 loss 감소({valid_loss_min:.4f}=>{epoch_valid_loss:.4f}). 모델 저장')\n",
    "                torch.save(model.state_dict(), save_file)\n",
    "                valid_loss_min = epoch_valid_loss\n",
    "    \n",
    "    return torch.load(save_file)"
   ],
   "metadata": {
    "collapsed": false,
    "ExecuteTime": {
     "end_time": "2023-11-16T12:34:55.018870600Z",
     "start_time": "2023-11-16T12:34:55.003231900Z"
    }
   },
   "id": "7b99481db2a2484f"
  },
  {
   "cell_type": "code",
   "execution_count": null,
   "outputs": [
    {
     "name": "stdout",
     "output_type": "stream",
     "text": [
      "train epoch [1/20]\n",
      "-------------------------------\n"
     ]
    },
    {
     "data": {
      "text/plain": "  0%|          | 0/652 [00:00<?, ?it/s]",
      "application/vnd.jupyter.widget-view+json": {
       "version_major": 2,
       "version_minor": 0,
       "model_id": "7b4707f1672243b4946f8a7930f27618"
      }
     },
     "metadata": {},
     "output_type": "display_data"
    },
    {
     "name": "stdout",
     "output_type": "stream",
     "text": [
      "\t훈련 데이터 손실값 : 1.5424\n",
      "valid epoch [1/20]\n",
      "-------------------------------\n"
     ]
    },
    {
     "data": {
      "text/plain": "  0%|          | 0/2 [00:00<?, ?it/s]",
      "application/vnd.jupyter.widget-view+json": {
       "version_major": 2,
       "version_minor": 0,
       "model_id": "1a119f5c11a244819dce36b4422177f1"
      }
     },
     "metadata": {},
     "output_type": "display_data"
    },
    {
     "name": "stdout",
     "output_type": "stream",
     "text": [
      "\tvalid 데이터 손실값 : 1.7000\n",
      "\t정확도 : 0.6250 / 재현률 : 1.0000 / F1-score : 0.7273\n",
      "\t valid 데이터 loss 감소(inf=>3.3999). 모델 저장\n",
      "train epoch [2/20]\n",
      "-------------------------------\n"
     ]
    },
    {
     "data": {
      "text/plain": "  0%|          | 0/652 [00:00<?, ?it/s]",
      "application/vnd.jupyter.widget-view+json": {
       "version_major": 2,
       "version_minor": 0,
       "model_id": "af09ff49cbb64b7ea47276c4da24030a"
      }
     },
     "metadata": {},
     "output_type": "display_data"
    },
    {
     "name": "stdout",
     "output_type": "stream",
     "text": [
      "\t훈련 데이터 손실값 : 0.1437\n",
      "valid epoch [2/20]\n",
      "-------------------------------\n"
     ]
    },
    {
     "data": {
      "text/plain": "  0%|          | 0/2 [00:00<?, ?it/s]",
      "application/vnd.jupyter.widget-view+json": {
       "version_major": 2,
       "version_minor": 0,
       "model_id": "43f322a5b9fb4862bdc32784c7743e69"
      }
     },
     "metadata": {},
     "output_type": "display_data"
    },
    {
     "name": "stdout",
     "output_type": "stream",
     "text": [
      "\tvalid 데이터 손실값 : 0.3379\n",
      "\t정확도 : 0.8750 / 재현률 : 1.0000 / F1-score : 0.8889\n",
      "\t valid 데이터 loss 감소(3.3999=>0.6758). 모델 저장\n",
      "train epoch [3/20]\n",
      "-------------------------------\n"
     ]
    },
    {
     "data": {
      "text/plain": "  0%|          | 0/652 [00:00<?, ?it/s]",
      "application/vnd.jupyter.widget-view+json": {
       "version_major": 2,
       "version_minor": 0,
       "model_id": "b23de1fb2bb540bbbceb9b17067b3bc0"
      }
     },
     "metadata": {},
     "output_type": "display_data"
    },
    {
     "name": "stdout",
     "output_type": "stream",
     "text": [
      "\t훈련 데이터 손실값 : 0.1300\n",
      "valid epoch [3/20]\n",
      "-------------------------------\n"
     ]
    },
    {
     "data": {
      "text/plain": "  0%|          | 0/2 [00:00<?, ?it/s]",
      "application/vnd.jupyter.widget-view+json": {
       "version_major": 2,
       "version_minor": 0,
       "model_id": "068d6bd71b8d4c7084b77be14c4081dd"
      }
     },
     "metadata": {},
     "output_type": "display_data"
    },
    {
     "name": "stdout",
     "output_type": "stream",
     "text": [
      "\tvalid 데이터 손실값 : 0.6906\n",
      "\t정확도 : 0.6875 / 재현률 : 1.0000 / F1-score : 0.7619\n",
      "train epoch [4/20]\n",
      "-------------------------------\n"
     ]
    },
    {
     "data": {
      "text/plain": "  0%|          | 0/652 [00:00<?, ?it/s]",
      "application/vnd.jupyter.widget-view+json": {
       "version_major": 2,
       "version_minor": 0,
       "model_id": "6b84db2316704a148d11d04412369f6d"
      }
     },
     "metadata": {},
     "output_type": "display_data"
    },
    {
     "name": "stdout",
     "output_type": "stream",
     "text": [
      "\t훈련 데이터 손실값 : 0.1115\n",
      "valid epoch [4/20]\n",
      "-------------------------------\n"
     ]
    },
    {
     "data": {
      "text/plain": "  0%|          | 0/2 [00:00<?, ?it/s]",
      "application/vnd.jupyter.widget-view+json": {
       "version_major": 2,
       "version_minor": 0,
       "model_id": "d03191a8c8f44328a783755cdd9c3ad5"
      }
     },
     "metadata": {},
     "output_type": "display_data"
    },
    {
     "name": "stdout",
     "output_type": "stream",
     "text": [
      "\tvalid 데이터 손실값 : 0.2500\n",
      "\t정확도 : 1.0000 / 재현률 : 1.0000 / F1-score : 1.0000\n",
      "\t valid 데이터 loss 감소(0.6758=>0.5000). 모델 저장\n",
      "train epoch [5/20]\n",
      "-------------------------------\n"
     ]
    },
    {
     "data": {
      "text/plain": "  0%|          | 0/652 [00:00<?, ?it/s]",
      "application/vnd.jupyter.widget-view+json": {
       "version_major": 2,
       "version_minor": 0,
       "model_id": "67e3055b494f46b6bb4e78f2fe202980"
      }
     },
     "metadata": {},
     "output_type": "display_data"
    },
    {
     "name": "stdout",
     "output_type": "stream",
     "text": [
      "\t훈련 데이터 손실값 : 0.1191\n",
      "valid epoch [5/20]\n",
      "-------------------------------\n"
     ]
    },
    {
     "data": {
      "text/plain": "  0%|          | 0/2 [00:00<?, ?it/s]",
      "application/vnd.jupyter.widget-view+json": {
       "version_major": 2,
       "version_minor": 0,
       "model_id": "3a2cc96022734156a5324bf63fac975b"
      }
     },
     "metadata": {},
     "output_type": "display_data"
    },
    {
     "name": "stdout",
     "output_type": "stream",
     "text": [
      "\tvalid 데이터 손실값 : 0.5067\n",
      "\t정확도 : 0.6250 / 재현률 : 1.0000 / F1-score : 0.7273\n",
      "train epoch [6/20]\n",
      "-------------------------------\n"
     ]
    },
    {
     "data": {
      "text/plain": "  0%|          | 0/652 [00:00<?, ?it/s]",
      "application/vnd.jupyter.widget-view+json": {
       "version_major": 2,
       "version_minor": 0,
       "model_id": "2c14f3b9f85c4037ac79b43ae1ee89ce"
      }
     },
     "metadata": {},
     "output_type": "display_data"
    },
    {
     "name": "stdout",
     "output_type": "stream",
     "text": [
      "\t훈련 데이터 손실값 : 0.1172\n",
      "valid epoch [6/20]\n",
      "-------------------------------\n"
     ]
    },
    {
     "data": {
      "text/plain": "  0%|          | 0/2 [00:00<?, ?it/s]",
      "application/vnd.jupyter.widget-view+json": {
       "version_major": 2,
       "version_minor": 0,
       "model_id": "ca0da3d52c5b40da860181b1d0608cdb"
      }
     },
     "metadata": {},
     "output_type": "display_data"
    },
    {
     "name": "stdout",
     "output_type": "stream",
     "text": [
      "\tvalid 데이터 손실값 : 0.5361\n",
      "\t정확도 : 0.6875 / 재현률 : 1.0000 / F1-score : 0.7619\n",
      "train epoch [7/20]\n",
      "-------------------------------\n"
     ]
    },
    {
     "data": {
      "text/plain": "  0%|          | 0/652 [00:00<?, ?it/s]",
      "application/vnd.jupyter.widget-view+json": {
       "version_major": 2,
       "version_minor": 0,
       "model_id": "7cc80523549048c7b629125c72b24140"
      }
     },
     "metadata": {},
     "output_type": "display_data"
    },
    {
     "name": "stdout",
     "output_type": "stream",
     "text": [
      "\t훈련 데이터 손실값 : 0.1074\n",
      "valid epoch [7/20]\n",
      "-------------------------------\n"
     ]
    },
    {
     "data": {
      "text/plain": "  0%|          | 0/2 [00:00<?, ?it/s]",
      "application/vnd.jupyter.widget-view+json": {
       "version_major": 2,
       "version_minor": 0,
       "model_id": "c3001e94203944b0bbb73ac13f35cc6b"
      }
     },
     "metadata": {},
     "output_type": "display_data"
    },
    {
     "name": "stdout",
     "output_type": "stream",
     "text": [
      "\tvalid 데이터 손실값 : 0.8078\n",
      "\t정확도 : 0.6875 / 재현률 : 1.0000 / F1-score : 0.7619\n",
      "train epoch [8/20]\n",
      "-------------------------------\n"
     ]
    },
    {
     "data": {
      "text/plain": "  0%|          | 0/652 [00:00<?, ?it/s]",
      "application/vnd.jupyter.widget-view+json": {
       "version_major": 2,
       "version_minor": 0,
       "model_id": "4d68880d93ce4cd1953fc814d11e645d"
      }
     },
     "metadata": {},
     "output_type": "display_data"
    },
    {
     "name": "stdout",
     "output_type": "stream",
     "text": [
      "\t훈련 데이터 손실값 : 0.1022\n",
      "valid epoch [8/20]\n",
      "-------------------------------\n"
     ]
    },
    {
     "data": {
      "text/plain": "  0%|          | 0/2 [00:00<?, ?it/s]",
      "application/vnd.jupyter.widget-view+json": {
       "version_major": 2,
       "version_minor": 0,
       "model_id": "858ebb833ea84c2086a9d66633a8d8ad"
      }
     },
     "metadata": {},
     "output_type": "display_data"
    },
    {
     "name": "stdout",
     "output_type": "stream",
     "text": [
      "\tvalid 데이터 손실값 : 0.0982\n",
      "\t정확도 : 1.0000 / 재현률 : 1.0000 / F1-score : 1.0000\n",
      "\t valid 데이터 loss 감소(0.5000=>0.1963). 모델 저장\n",
      "train epoch [9/20]\n",
      "-------------------------------\n"
     ]
    },
    {
     "data": {
      "text/plain": "  0%|          | 0/652 [00:00<?, ?it/s]",
      "application/vnd.jupyter.widget-view+json": {
       "version_major": 2,
       "version_minor": 0,
       "model_id": "a0e6ab4774ff49209abd71d472b4cf44"
      }
     },
     "metadata": {},
     "output_type": "display_data"
    },
    {
     "name": "stdout",
     "output_type": "stream",
     "text": [
      "\t훈련 데이터 손실값 : 0.1065\n",
      "valid epoch [9/20]\n",
      "-------------------------------\n"
     ]
    },
    {
     "data": {
      "text/plain": "  0%|          | 0/2 [00:00<?, ?it/s]",
      "application/vnd.jupyter.widget-view+json": {
       "version_major": 2,
       "version_minor": 0,
       "model_id": "c3071fdf0f64491ba6a0acfd24391d7e"
      }
     },
     "metadata": {},
     "output_type": "display_data"
    },
    {
     "name": "stdout",
     "output_type": "stream",
     "text": [
      "\tvalid 데이터 손실값 : 0.2661\n",
      "\t정확도 : 0.8750 / 재현률 : 1.0000 / F1-score : 0.8889\n",
      "train epoch [10/20]\n",
      "-------------------------------\n"
     ]
    },
    {
     "data": {
      "text/plain": "  0%|          | 0/652 [00:00<?, ?it/s]",
      "application/vnd.jupyter.widget-view+json": {
       "version_major": 2,
       "version_minor": 0,
       "model_id": "268a4476d5cd4fb39a7c16cd86d24343"
      }
     },
     "metadata": {},
     "output_type": "display_data"
    },
    {
     "name": "stdout",
     "output_type": "stream",
     "text": [
      "\t훈련 데이터 손실값 : 0.0875\n",
      "valid epoch [10/20]\n",
      "-------------------------------\n"
     ]
    },
    {
     "data": {
      "text/plain": "  0%|          | 0/2 [00:00<?, ?it/s]",
      "application/vnd.jupyter.widget-view+json": {
       "version_major": 2,
       "version_minor": 0,
       "model_id": "357ae26a3e1e4846962e654ab3710ecf"
      }
     },
     "metadata": {},
     "output_type": "display_data"
    },
    {
     "name": "stdout",
     "output_type": "stream",
     "text": [
      "\tvalid 데이터 손실값 : 0.2889\n",
      "\t정확도 : 0.8750 / 재현률 : 1.0000 / F1-score : 0.8889\n",
      "train epoch [11/20]\n",
      "-------------------------------\n"
     ]
    },
    {
     "data": {
      "text/plain": "  0%|          | 0/652 [00:00<?, ?it/s]",
      "application/vnd.jupyter.widget-view+json": {
       "version_major": 2,
       "version_minor": 0,
       "model_id": "ea5b47cc06c84604959990c1d44c9b2b"
      }
     },
     "metadata": {},
     "output_type": "display_data"
    },
    {
     "name": "stdout",
     "output_type": "stream",
     "text": [
      "\t훈련 데이터 손실값 : 0.0791\n",
      "valid epoch [11/20]\n",
      "-------------------------------\n"
     ]
    },
    {
     "data": {
      "text/plain": "  0%|          | 0/2 [00:00<?, ?it/s]",
      "application/vnd.jupyter.widget-view+json": {
       "version_major": 2,
       "version_minor": 0,
       "model_id": "fa633aa1e5b54a6f9f04036b4836061d"
      }
     },
     "metadata": {},
     "output_type": "display_data"
    },
    {
     "name": "stdout",
     "output_type": "stream",
     "text": [
      "\tvalid 데이터 손실값 : 0.1472\n",
      "\t정확도 : 0.9375 / 재현률 : 0.8750 / F1-score : 0.9333\n",
      "train epoch [12/20]\n",
      "-------------------------------\n"
     ]
    },
    {
     "data": {
      "text/plain": "  0%|          | 0/652 [00:00<?, ?it/s]",
      "application/vnd.jupyter.widget-view+json": {
       "version_major": 2,
       "version_minor": 0,
       "model_id": "6da4718a233244da9a5dc389d3dcecb5"
      }
     },
     "metadata": {},
     "output_type": "display_data"
    },
    {
     "name": "stdout",
     "output_type": "stream",
     "text": [
      "\t훈련 데이터 손실값 : 0.0673\n",
      "valid epoch [12/20]\n",
      "-------------------------------\n"
     ]
    },
    {
     "data": {
      "text/plain": "  0%|          | 0/2 [00:00<?, ?it/s]",
      "application/vnd.jupyter.widget-view+json": {
       "version_major": 2,
       "version_minor": 0,
       "model_id": "a518182d61c245a6b5a404c559b763ab"
      }
     },
     "metadata": {},
     "output_type": "display_data"
    },
    {
     "name": "stdout",
     "output_type": "stream",
     "text": [
      "\tvalid 데이터 손실값 : 0.2206\n",
      "\t정확도 : 0.8125 / 재현률 : 1.0000 / F1-score : 0.8421\n",
      "train epoch [13/20]\n",
      "-------------------------------\n"
     ]
    },
    {
     "data": {
      "text/plain": "  0%|          | 0/652 [00:00<?, ?it/s]",
      "application/vnd.jupyter.widget-view+json": {
       "version_major": 2,
       "version_minor": 0,
       "model_id": "d6b14b9c0a3549fba558254254dba4ac"
      }
     },
     "metadata": {},
     "output_type": "display_data"
    }
   ],
   "source": [
    "# 훈련 및 성능 검증\n",
    "model_state_dict = train(model=models_list[0],loader_train=loader_train, loader_valid=loader_valid, criterion=criterion, optimizer=optimizer1, scheduler=scheduler1, epochs=epochs)\n",
    "models_list[0].load_state_dict(model_state_dict)"
   ],
   "metadata": {
    "collapsed": false,
    "is_executing": true,
    "ExecuteTime": {
     "start_time": "2023-11-16T12:34:55.018870600Z"
    }
   },
   "id": "4adcf9a9c1071a33"
  },
  {
   "cell_type": "code",
   "execution_count": null,
   "outputs": [],
   "source": [
    "model_state_dict = train(model=models_list[1],loader_train=loader_train, loader_valid=loader_valid, criterion=criterion, optimizer=optimizer2, scheduler=scheduler2, epochs=epochs)\n",
    "models_list[1].load_state_dict(model_state_dict)"
   ],
   "metadata": {
    "collapsed": false,
    "is_executing": true
   },
   "id": "68a89e5ec67a0c64"
  },
  {
   "cell_type": "code",
   "execution_count": null,
   "outputs": [],
   "source": [
    "model_state_dict = train(model=models_list[2],loader_train=loader_train, loader_valid=loader_valid, criterion=criterion, optimizer=optimizer3, scheduler=scheduler3, epochs=epochs)\n",
    "models_list[2].load_state_dict(model_state_dict)"
   ],
   "metadata": {
    "collapsed": false,
    "is_executing": true
   },
   "id": "2c65eed165e22c25"
  },
  {
   "cell_type": "markdown",
   "source": [
    "### 13.4.3 예측 및 평가결과"
   ],
   "metadata": {
    "collapsed": false
   },
   "id": "7e6104a4be159695"
  },
  {
   "cell_type": "code",
   "execution_count": null,
   "outputs": [],
   "source": [
    "datasets_test = ImageFolder(root=test_path, transform=transform_valid)\n",
    "loader_test = DataLoader(\n",
    "    dataset=datasets_test, \n",
    "    batch_size=batch_size, \n",
    "    shuffle=False, \n",
    "    worker_init_fn=seed_worker,\n",
    "    generator=g,\n",
    "    num_workers=0\n",
    ")"
   ],
   "metadata": {
    "collapsed": false,
    "is_executing": true
   },
   "id": "babb3ea99e021598"
  },
  {
   "cell_type": "code",
   "execution_count": null,
   "outputs": [],
   "source": [
    "def predict(model, loader_test, return_true=False):\n",
    "    model.eval()\n",
    "    preds_list = []\n",
    "    true_list = []\n",
    "    \n",
    "    with torch.no_grad():\n",
    "        for images, labels in loader_test:\n",
    "            images = images.to(device)\n",
    "            labels = labels.to(device)\n",
    "            outputs = model(images)\n",
    "            preds = torch.max(outputs.cpu(), dim=1)[1].numpy()\n",
    "            true = labels.cpu().numpy()\n",
    "            preds_list.extend(preds)\n",
    "            true_list.extend(true)\n",
    "    if return_true:\n",
    "        return true_list, preds_list\n",
    "    else:\n",
    "        return preds_list"
   ],
   "metadata": {
    "collapsed": false,
    "is_executing": true
   },
   "id": "c25d1db26ffaf85c"
  },
  {
   "cell_type": "code",
   "execution_count": null,
   "outputs": [],
   "source": [
    "true_list, preds_list1 = predict(model=models_list[0], loader_test=loader_test, return_true=True)\n",
    "preds_list2 = predict(model=models_list[1], loader_test=loader_test)\n",
    "preds_list3 = predict(model=models_list[2], loader_test=loader_test)"
   ],
   "metadata": {
    "collapsed": false,
    "is_executing": true
   },
   "id": "a9099c8b389f3d8b"
  },
  {
   "cell_type": "code",
   "execution_count": null,
   "outputs": [],
   "source": [
    "# 평가 결과\n",
    "def show_metrics(true_list, preds_list):\n",
    "    accuracy = accuracy_score(true_list, preds_list)\n",
    "    recall = recall_score(true_list, preds_list)\n",
    "    f1_score = f1_score(true_list, preds_list)\n",
    "    print(f'\\t정확도 : {accuracy:.4f} / 재현률 : {recall:.4f} / F1-score : {f1_score:.4f}')"
   ],
   "metadata": {
    "collapsed": false,
    "is_executing": true
   },
   "id": "e462ee884548574a"
  },
  {
   "cell_type": "code",
   "execution_count": null,
   "outputs": [],
   "source": [
    "show_metrics(true_list, preds_list1)"
   ],
   "metadata": {
    "collapsed": false,
    "is_executing": true
   },
   "id": "c2d6076d072fdc15"
  },
  {
   "cell_type": "code",
   "execution_count": null,
   "outputs": [],
   "source": [
    "show_metrics(true_list, preds_list2)"
   ],
   "metadata": {
    "collapsed": false,
    "is_executing": true
   },
   "id": "c711506064a417b0"
  },
  {
   "cell_type": "code",
   "execution_count": null,
   "outputs": [],
   "source": [
    "show_metrics(true_list, preds_list3)"
   ],
   "metadata": {
    "collapsed": false,
    "is_executing": true
   },
   "id": "27819153da98d66a"
  },
  {
   "cell_type": "code",
   "execution_count": null,
   "outputs": [],
   "source": [
    "# 앙상블 예측\n",
    "ensemble_preds = []\n",
    "for i in range(len(preds_list1)):\n",
    "    pred_element = np.round((preds_list1[i]+preds_list2[i]+preds_list3[i])/3)\n",
    "    ensemble_preds.append(pred_element)"
   ],
   "metadata": {
    "collapsed": false,
    "is_executing": true
   },
   "id": "c96b86d8b44fba3f"
  },
  {
   "cell_type": "code",
   "execution_count": null,
   "outputs": [],
   "source": [
    "# 평가 결과\n",
    "show_metrics(true_list, ensemble_preds)"
   ],
   "metadata": {
    "collapsed": false,
    "is_executing": true
   },
   "id": "51101166973596d8"
  },
  {
   "cell_type": "code",
   "execution_count": null,
   "outputs": [],
   "source": [],
   "metadata": {
    "collapsed": false,
    "is_executing": true
   },
   "id": "647d102e20ffc797"
  },
  {
   "cell_type": "code",
   "execution_count": null,
   "outputs": [],
   "source": [],
   "metadata": {
    "collapsed": false,
    "is_executing": true
   },
   "id": "d8b4139d688b01d0"
  }
 ],
 "metadata": {
  "kernelspec": {
   "display_name": "Python 3",
   "language": "python",
   "name": "python3"
  },
  "language_info": {
   "codemirror_mode": {
    "name": "ipython",
    "version": 2
   },
   "file_extension": ".py",
   "mimetype": "text/x-python",
   "name": "python",
   "nbconvert_exporter": "python",
   "pygments_lexer": "ipython2",
   "version": "2.7.6"
  }
 },
 "nbformat": 4,
 "nbformat_minor": 5
}
