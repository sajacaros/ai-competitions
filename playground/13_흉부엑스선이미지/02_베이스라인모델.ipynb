{
 "cells": [
  {
   "cell_type": "markdown",
   "source": [
    "## 13.3 베이스라인 모델\n",
    "* EfficientNet b0 이용"
   ],
   "metadata": {
    "collapsed": false
   },
   "id": "c11c43b82d4a5478"
  },
  {
   "cell_type": "code",
   "execution_count": 36,
   "id": "initial_id",
   "metadata": {
    "collapsed": true,
    "ExecuteTime": {
     "end_time": "2023-11-16T11:52:52.937932100Z",
     "start_time": "2023-11-16T11:52:52.922273800Z"
    }
   },
   "outputs": [],
   "source": [
    "import pandas as pd\n",
    "import matplotlib.pyplot as plt\n",
    "import seaborn as sns\n",
    "import numpy as np\n",
    "from glob import glob\n",
    "import matplotlib as mpl\n",
    "import matplotlib.pyplot as plt\n",
    "import matplotlib.gridspec as gridspec\n",
    "import cv2\n",
    "import torch\n",
    "import random\n",
    "import os\n",
    "from tqdm.auto import tqdm"
   ]
  },
  {
   "cell_type": "markdown",
   "source": [
    "### 13.3.1 시드값 고정 및 GPU 장비 설정"
   ],
   "metadata": {
    "collapsed": false
   },
   "id": "558f852f965ec14a"
  },
  {
   "cell_type": "code",
   "execution_count": 22,
   "outputs": [],
   "source": [
    "# 시드값 고정\n",
    "seed = 50\n",
    "os.environ['PYTHONHASHSEED'] = str(seed)\n",
    "random.seed(seed)\n",
    "np.random.seed(seed)\n",
    "torch.manual_seed(seed)\n",
    "torch.cuda.manual_seed(seed)\n",
    "torch.cuda.manual_seed_all(seed)\n",
    "torch.backends.cudnn.deterministic = True\n",
    "torch.backends.cudnn.benchmark = False\n",
    "torch.backends.cudnn.enabled = False"
   ],
   "metadata": {
    "collapsed": false,
    "ExecuteTime": {
     "end_time": "2023-11-16T11:52:16.241069200Z",
     "start_time": "2023-11-16T11:52:16.194171100Z"
    }
   },
   "id": "24576c51bb43e638"
  },
  {
   "cell_type": "code",
   "execution_count": 23,
   "outputs": [],
   "source": [
    "# GPU 장비 설정\n",
    "device = torch.device('cuda' if torch.cuda.is_available() else 'cpu')"
   ],
   "metadata": {
    "collapsed": false,
    "ExecuteTime": {
     "end_time": "2023-11-16T11:52:16.241069200Z",
     "start_time": "2023-11-16T11:52:16.209720800Z"
    }
   },
   "id": "e083bb9955720f54"
  },
  {
   "cell_type": "markdown",
   "source": [
    "### 13.3.2 데이터 준비"
   ],
   "metadata": {
    "collapsed": false
   },
   "id": "b74bd6610030634b"
  },
  {
   "cell_type": "code",
   "execution_count": 24,
   "outputs": [],
   "source": [
    "data_path = '../../data/13_xray/chest_xray/'\n",
    "\n",
    "train_path = data_path + 'train/'\n",
    "valid_path = data_path + 'val/'\n",
    "test_path = data_path + 'test/'"
   ],
   "metadata": {
    "collapsed": false,
    "ExecuteTime": {
     "end_time": "2023-11-16T11:52:16.241069200Z",
     "start_time": "2023-11-16T11:52:16.225422700Z"
    }
   },
   "id": "bc225ee4dc62521e"
  },
  {
   "cell_type": "code",
   "execution_count": 25,
   "outputs": [],
   "source": [
    "# 데이터 증강을 위한 이미지 변환기 정의\n",
    "from torchvision import transforms\n",
    "transform_train = transforms.Compose([\n",
    "    transforms.Resize((224,224)),\n",
    "    transforms.CenterCrop(180), # 중앙 이미지 확대\n",
    "    transforms.RandomHorizontalFlip(0.5), # 좌우 대칭\n",
    "    transforms.RandomVerticalFlip(0.2), # 상하 대칭\n",
    "    transforms.RandomRotation(20), # 이미지 회전\n",
    "    transforms.ToTensor(),\n",
    "    transforms.Normalize((0.485, 0.456, 0.406), (0.229, 0.224, 0.225))\n",
    "])\n",
    "transform_valid = transforms.Compose([\n",
    "    transforms.Resize((224,224)),\n",
    "    transforms.CenterCrop(180), # 중앙 이미지 확대\n",
    "    transforms.ToTensor(),\n",
    "    transforms.Normalize((0.485, 0.456, 0.406), (0.229, 0.224, 0.225))\n",
    "])"
   ],
   "metadata": {
    "collapsed": false,
    "ExecuteTime": {
     "end_time": "2023-11-16T11:52:16.256674800Z",
     "start_time": "2023-11-16T11:52:16.241069200Z"
    }
   },
   "id": "6bb8fde264133e58"
  },
  {
   "cell_type": "code",
   "execution_count": 41,
   "outputs": [],
   "source": [
    "# 데이터셋 및 데이터 로더 생성\n",
    "from torchvision.datasets import ImageFolder\n",
    "datasets_train = ImageFolder(root=train_path, transform=transform_train)\n",
    "datasets_valid = ImageFolder(root=valid_path, transform=transform_valid)"
   ],
   "metadata": {
    "collapsed": false,
    "ExecuteTime": {
     "end_time": "2023-11-16T11:54:55.697992900Z",
     "start_time": "2023-11-16T11:54:55.548673800Z"
    }
   },
   "id": "ef1f22c91965ec31"
  },
  {
   "cell_type": "code",
   "execution_count": 42,
   "outputs": [
    {
     "data": {
      "text/plain": "<torch._C.Generator at 0x29825580530>"
     },
     "execution_count": 42,
     "metadata": {},
     "output_type": "execute_result"
    }
   ],
   "source": [
    "def seed_worker(worker_id):\n",
    "    worker_seed = torch.initial_seed() % 2 ** 32\n",
    "    np.random.seed(worker_seed)\n",
    "    random.seed(worker_seed)\n",
    "g = torch.Generator()\n",
    "g.manual_seed(0)"
   ],
   "metadata": {
    "collapsed": false,
    "ExecuteTime": {
     "end_time": "2023-11-16T11:54:56.057674500Z",
     "start_time": "2023-11-16T11:54:56.042048500Z"
    }
   },
   "id": "c478422bb0e34702"
  },
  {
   "cell_type": "code",
   "execution_count": 51,
   "outputs": [],
   "source": [
    "from torch.utils.data import DataLoader\n",
    "\n",
    "batch_size = 8\n",
    "loader_train = DataLoader(dataset=datasets_train, batch_size=batch_size, shuffle=True, worker_init_fn=seed_worker, generator=g, num_workers=0)\n",
    "loader_valid = DataLoader(dataset=datasets_valid, batch_size=batch_size, shuffle=False, worker_init_fn=seed_worker, generator=g, num_workers=0)"
   ],
   "metadata": {
    "collapsed": false,
    "ExecuteTime": {
     "end_time": "2023-11-16T11:58:37.304644700Z",
     "start_time": "2023-11-16T11:58:37.289295Z"
    }
   },
   "id": "9fb01acfadff7999"
  },
  {
   "cell_type": "markdown",
   "source": [
    "### 13.3.3 모델 생성"
   ],
   "metadata": {
    "collapsed": false
   },
   "id": "2c77ccdcc94ecec"
  },
  {
   "cell_type": "code",
   "execution_count": 52,
   "outputs": [],
   "source": [
    "import timm\n",
    "model = timm.create_model('efficientnet_b0', pretrained=True).to(device)"
   ],
   "metadata": {
    "collapsed": false,
    "ExecuteTime": {
     "end_time": "2023-11-16T11:58:39.538308900Z",
     "start_time": "2023-11-16T11:58:38.754151400Z"
    }
   },
   "id": "bf709d242508d842"
  },
  {
   "cell_type": "code",
   "execution_count": 53,
   "outputs": [
    {
     "name": "stdout",
     "output_type": "stream",
     "text": [
      "모델 파라미터 개수 : 5288548\n"
     ]
    }
   ],
   "source": [
    "print(f'모델 파라미터 개수 : {sum(param.numel() for param in model.parameters())}')"
   ],
   "metadata": {
    "collapsed": false,
    "ExecuteTime": {
     "end_time": "2023-11-16T11:58:39.544674400Z",
     "start_time": "2023-11-16T11:58:39.538308900Z"
    }
   },
   "id": "c89e49a58a9ca2dc"
  },
  {
   "cell_type": "markdown",
   "source": [
    "### 13.3.4 모델 훈련 및 성능 검증"
   ],
   "metadata": {
    "collapsed": false
   },
   "id": "5743f09c08e2499d"
  },
  {
   "cell_type": "code",
   "execution_count": 54,
   "outputs": [],
   "source": [
    "# 손실 함수와 옵티마이저 설정\n",
    "import torch.nn as nn\n",
    "criterion = nn.CrossEntropyLoss()\n",
    "optimizer = torch.optim.Adam(model.parameters(), lr=0.01)"
   ],
   "metadata": {
    "collapsed": false,
    "ExecuteTime": {
     "end_time": "2023-11-16T11:58:40.613286Z",
     "start_time": "2023-11-16T11:58:40.601270600Z"
    }
   },
   "id": "9de4d3a44ab45123"
  },
  {
   "cell_type": "code",
   "execution_count": 83,
   "outputs": [],
   "source": [
    "from sklearn.metrics import accuracy_score,f1_score,recall_score \n",
    "\n",
    "# 훈련 함수 작성\n",
    "def train(model, loader_train, loader_valid, criterion, optimizer, scheduler=None, epochs=10, save_file='model_state_dict.pth'):\n",
    "    valid_loss_min = np.inf\n",
    "    for epoch in range(epochs):\n",
    "        print(f'train epoch [{epoch+1}/{epochs}]\\n-------------------------------')\n",
    "        model.train()\n",
    "        epoch_train_loss=0\n",
    "        for images, labels in tqdm(loader_train):\n",
    "            images = images.to(device)\n",
    "            labels = labels.to(device)\n",
    "            \n",
    "            optimizer.zero_grad()\n",
    "            outputs = model(images)\n",
    "            loss = criterion(outputs, labels)\n",
    "            epoch_train_loss += loss.item()\n",
    "            loss.backward()\n",
    "            optimizer.step()\n",
    "            if scheduler !=None:\n",
    "                scheduler.step()\n",
    "        print(f'\\t훈련 데이터 손실값 : {epoch_train_loss/len(loader_train):.4f}')\n",
    "    \n",
    "        print(f'valid epoch [{epoch+1}/{epochs}]\\n-------------------------------')\n",
    "        model.eval()\n",
    "        epoch_valid_loss=0\n",
    "        preds_list = []\n",
    "        true_list = []\n",
    "        with torch.no_grad():\n",
    "            for images, labels in tqdm(loader_valid):\n",
    "                images = images.to(device)\n",
    "                labels = labels.to(device)\n",
    "                \n",
    "                outputs = model(images)\n",
    "                loss = criterion(outputs, labels)\n",
    "                epoch_valid_loss += loss.item()\n",
    "                \n",
    "                preds = torch.max(outputs.cpu(), dim=1)[1].numpy()\n",
    "                true = labels.cpu().numpy()\n",
    "                \n",
    "                preds_list.extend(preds)\n",
    "                true_list.extend(true)\n",
    "                \n",
    "            print(f'\\tvalid 데이터 손실값 : {epoch_valid_loss/len(loader_valid):.4f}')\n",
    "            val_accuracy = accuracy_score(true_list, preds_list)\n",
    "            val_recall = recall_score(true_list, preds_list)\n",
    "            val_f1_score = f1_score(true_list, preds_list)\n",
    "            print(f'\\t정확도 : {val_accuracy:.4f} / 재현률 : {val_recall:.4f} / F1-score : {val_f1_score:.4f}')\n",
    "            \n",
    "            if epoch_valid_loss <= valid_loss_min:\n",
    "                print(f'\\t valid 데이터 loss 감소({valid_loss_min:.4f}=>{epoch_valid_loss:.4f}). 모델 저장')\n",
    "                torch.save(model.state_dict(), save_file)\n",
    "                valid_loss_min = epoch_valid_loss\n",
    "    \n",
    "    return torch.load(save_file)"
   ],
   "metadata": {
    "collapsed": false,
    "ExecuteTime": {
     "end_time": "2023-11-16T12:11:22.284198900Z",
     "start_time": "2023-11-16T12:11:22.268561700Z"
    }
   },
   "id": "7b99481db2a2484f"
  },
  {
   "cell_type": "code",
   "execution_count": 84,
   "outputs": [
    {
     "name": "stdout",
     "output_type": "stream",
     "text": [
      "train epoch [1/10]\n",
      "-------------------------------\n"
     ]
    },
    {
     "data": {
      "text/plain": "  0%|          | 0/652 [00:00<?, ?it/s]",
      "application/vnd.jupyter.widget-view+json": {
       "version_major": 2,
       "version_minor": 0,
       "model_id": "12bf03032f224af497b1b626acdddfe4"
      }
     },
     "metadata": {},
     "output_type": "display_data"
    },
    {
     "name": "stdout",
     "output_type": "stream",
     "text": [
      "\t훈련 데이터 손실값 : 0.2132\n",
      "valid epoch [1/10]\n",
      "-------------------------------\n"
     ]
    },
    {
     "data": {
      "text/plain": "  0%|          | 0/78 [00:00<?, ?it/s]",
      "application/vnd.jupyter.widget-view+json": {
       "version_major": 2,
       "version_minor": 0,
       "model_id": "19a2df045c384f25b1a3636331c3b594"
      }
     },
     "metadata": {},
     "output_type": "display_data"
    },
    {
     "name": "stdout",
     "output_type": "stream",
     "text": [
      "\tvalid 데이터 손실값 : 0.5828\n",
      "\t정확도 : 0.8574 / 재현률 : 0.9513 / F1-score : 0.8929\n",
      "\t valid 데이터 loss 감소(inf=>45.4574). 모델 저장\n",
      "train epoch [2/10]\n",
      "-------------------------------\n"
     ]
    },
    {
     "data": {
      "text/plain": "  0%|          | 0/652 [00:00<?, ?it/s]",
      "application/vnd.jupyter.widget-view+json": {
       "version_major": 2,
       "version_minor": 0,
       "model_id": "07adfb8208af4529b29f5e75c028baf2"
      }
     },
     "metadata": {},
     "output_type": "display_data"
    },
    {
     "name": "stdout",
     "output_type": "stream",
     "text": [
      "\t훈련 데이터 손실값 : 0.1919\n",
      "valid epoch [2/10]\n",
      "-------------------------------\n"
     ]
    },
    {
     "data": {
      "text/plain": "  0%|          | 0/78 [00:00<?, ?it/s]",
      "application/vnd.jupyter.widget-view+json": {
       "version_major": 2,
       "version_minor": 0,
       "model_id": "1b33c2b8570f4ad3862e55dfd4c92557"
      }
     },
     "metadata": {},
     "output_type": "display_data"
    },
    {
     "name": "stdout",
     "output_type": "stream",
     "text": [
      "\tvalid 데이터 손실값 : 4.1133\n",
      "\t정확도 : 0.6891 / 재현률 : 0.9949 / F1-score : 0.8000\n",
      "train epoch [3/10]\n",
      "-------------------------------\n"
     ]
    },
    {
     "data": {
      "text/plain": "  0%|          | 0/652 [00:00<?, ?it/s]",
      "application/vnd.jupyter.widget-view+json": {
       "version_major": 2,
       "version_minor": 0,
       "model_id": "17279e31f3594b97a65ef071c900348a"
      }
     },
     "metadata": {},
     "output_type": "display_data"
    },
    {
     "name": "stdout",
     "output_type": "stream",
     "text": [
      "\t훈련 데이터 손실값 : 0.1755\n",
      "valid epoch [3/10]\n",
      "-------------------------------\n"
     ]
    },
    {
     "data": {
      "text/plain": "  0%|          | 0/78 [00:00<?, ?it/s]",
      "application/vnd.jupyter.widget-view+json": {
       "version_major": 2,
       "version_minor": 0,
       "model_id": "866fff3352124d3fb3bceaee8d2176e8"
      }
     },
     "metadata": {},
     "output_type": "display_data"
    },
    {
     "name": "stdout",
     "output_type": "stream",
     "text": [
      "\tvalid 데이터 손실값 : 0.6792\n",
      "\t정확도 : 0.7596 / 재현률 : 0.9897 / F1-score : 0.8373\n",
      "train epoch [4/10]\n",
      "-------------------------------\n"
     ]
    },
    {
     "data": {
      "text/plain": "  0%|          | 0/652 [00:00<?, ?it/s]",
      "application/vnd.jupyter.widget-view+json": {
       "version_major": 2,
       "version_minor": 0,
       "model_id": "34f170d9172e4bf4b983ecb26399362e"
      }
     },
     "metadata": {},
     "output_type": "display_data"
    },
    {
     "name": "stdout",
     "output_type": "stream",
     "text": [
      "\t훈련 데이터 손실값 : 0.1815\n",
      "valid epoch [4/10]\n",
      "-------------------------------\n"
     ]
    },
    {
     "data": {
      "text/plain": "  0%|          | 0/78 [00:00<?, ?it/s]",
      "application/vnd.jupyter.widget-view+json": {
       "version_major": 2,
       "version_minor": 0,
       "model_id": "7d581f7f0dd8415fa6bd0b297701eccc"
      }
     },
     "metadata": {},
     "output_type": "display_data"
    },
    {
     "name": "stdout",
     "output_type": "stream",
     "text": [
      "\tvalid 데이터 손실값 : 0.4804\n",
      "\t정확도 : 0.7981 / 재현률 : 0.9436 / F1-score : 0.8538\n",
      "\t valid 데이터 loss 감소(45.4574=>37.4750). 모델 저장\n",
      "train epoch [5/10]\n",
      "-------------------------------\n"
     ]
    },
    {
     "data": {
      "text/plain": "  0%|          | 0/652 [00:00<?, ?it/s]",
      "application/vnd.jupyter.widget-view+json": {
       "version_major": 2,
       "version_minor": 0,
       "model_id": "226295cc9aa345ae994e5213c5610b8e"
      }
     },
     "metadata": {},
     "output_type": "display_data"
    },
    {
     "name": "stdout",
     "output_type": "stream",
     "text": [
      "\t훈련 데이터 손실값 : 0.1608\n",
      "valid epoch [5/10]\n",
      "-------------------------------\n"
     ]
    },
    {
     "data": {
      "text/plain": "  0%|          | 0/78 [00:00<?, ?it/s]",
      "application/vnd.jupyter.widget-view+json": {
       "version_major": 2,
       "version_minor": 0,
       "model_id": "ed13163a7c8a49ebb9657d82ea4b2746"
      }
     },
     "metadata": {},
     "output_type": "display_data"
    },
    {
     "name": "stdout",
     "output_type": "stream",
     "text": [
      "\tvalid 데이터 손실값 : 1.2790\n",
      "\t정확도 : 0.6490 / 재현률 : 1.0000 / F1-score : 0.7808\n",
      "train epoch [6/10]\n",
      "-------------------------------\n"
     ]
    },
    {
     "data": {
      "text/plain": "  0%|          | 0/652 [00:00<?, ?it/s]",
      "application/vnd.jupyter.widget-view+json": {
       "version_major": 2,
       "version_minor": 0,
       "model_id": "35aa09025a414276b6fe61167729f7a5"
      }
     },
     "metadata": {},
     "output_type": "display_data"
    },
    {
     "name": "stdout",
     "output_type": "stream",
     "text": [
      "\t훈련 데이터 손실값 : 0.1691\n",
      "valid epoch [6/10]\n",
      "-------------------------------\n"
     ]
    },
    {
     "data": {
      "text/plain": "  0%|          | 0/78 [00:00<?, ?it/s]",
      "application/vnd.jupyter.widget-view+json": {
       "version_major": 2,
       "version_minor": 0,
       "model_id": "4fe3b40fc1184ab19957ed2baf4f8419"
      }
     },
     "metadata": {},
     "output_type": "display_data"
    },
    {
     "name": "stdout",
     "output_type": "stream",
     "text": [
      "\tvalid 데이터 손실값 : 0.7847\n",
      "\t정확도 : 0.7901 / 재현률 : 0.9974 / F1-score : 0.8559\n",
      "train epoch [7/10]\n",
      "-------------------------------\n"
     ]
    },
    {
     "data": {
      "text/plain": "  0%|          | 0/652 [00:00<?, ?it/s]",
      "application/vnd.jupyter.widget-view+json": {
       "version_major": 2,
       "version_minor": 0,
       "model_id": "789bb6a5c5654e38a183f26a41aca579"
      }
     },
     "metadata": {},
     "output_type": "display_data"
    },
    {
     "name": "stdout",
     "output_type": "stream",
     "text": [
      "\t훈련 데이터 손실값 : 0.1506\n",
      "valid epoch [7/10]\n",
      "-------------------------------\n"
     ]
    },
    {
     "data": {
      "text/plain": "  0%|          | 0/78 [00:00<?, ?it/s]",
      "application/vnd.jupyter.widget-view+json": {
       "version_major": 2,
       "version_minor": 0,
       "model_id": "3f1ec78c1a454d2d888380500999d601"
      }
     },
     "metadata": {},
     "output_type": "display_data"
    },
    {
     "name": "stdout",
     "output_type": "stream",
     "text": [
      "\tvalid 데이터 손실값 : 0.7997\n",
      "\t정확도 : 0.7869 / 재현률 : 0.9821 / F1-score : 0.8521\n",
      "train epoch [8/10]\n",
      "-------------------------------\n"
     ]
    },
    {
     "data": {
      "text/plain": "  0%|          | 0/652 [00:00<?, ?it/s]",
      "application/vnd.jupyter.widget-view+json": {
       "version_major": 2,
       "version_minor": 0,
       "model_id": "8df52c65caaa4f17931e0224c42c9191"
      }
     },
     "metadata": {},
     "output_type": "display_data"
    },
    {
     "name": "stdout",
     "output_type": "stream",
     "text": [
      "\t훈련 데이터 손실값 : 0.1495\n",
      "valid epoch [8/10]\n",
      "-------------------------------\n"
     ]
    },
    {
     "data": {
      "text/plain": "  0%|          | 0/78 [00:00<?, ?it/s]",
      "application/vnd.jupyter.widget-view+json": {
       "version_major": 2,
       "version_minor": 0,
       "model_id": "9a1ca360cf91404fb9ba4008d42a49a0"
      }
     },
     "metadata": {},
     "output_type": "display_data"
    },
    {
     "name": "stdout",
     "output_type": "stream",
     "text": [
      "\tvalid 데이터 손실값 : 0.5790\n",
      "\t정확도 : 0.8253 / 재현률 : 0.9923 / F1-score : 0.8766\n",
      "train epoch [9/10]\n",
      "-------------------------------\n"
     ]
    },
    {
     "data": {
      "text/plain": "  0%|          | 0/652 [00:00<?, ?it/s]",
      "application/vnd.jupyter.widget-view+json": {
       "version_major": 2,
       "version_minor": 0,
       "model_id": "db1a9ef743e941e4b84b08176f5d9c2e"
      }
     },
     "metadata": {},
     "output_type": "display_data"
    },
    {
     "name": "stdout",
     "output_type": "stream",
     "text": [
      "\t훈련 데이터 손실값 : 0.1245\n",
      "valid epoch [9/10]\n",
      "-------------------------------\n"
     ]
    },
    {
     "data": {
      "text/plain": "  0%|          | 0/78 [00:00<?, ?it/s]",
      "application/vnd.jupyter.widget-view+json": {
       "version_major": 2,
       "version_minor": 0,
       "model_id": "cbed30295c354537bf4551c7446f7427"
      }
     },
     "metadata": {},
     "output_type": "display_data"
    },
    {
     "name": "stdout",
     "output_type": "stream",
     "text": [
      "\tvalid 데이터 손실값 : 0.4293\n",
      "\t정확도 : 0.8766 / 재현률 : 0.9821 / F1-score : 0.9087\n",
      "\t valid 데이터 loss 감소(37.4750=>33.4870). 모델 저장\n",
      "train epoch [10/10]\n",
      "-------------------------------\n"
     ]
    },
    {
     "data": {
      "text/plain": "  0%|          | 0/652 [00:00<?, ?it/s]",
      "application/vnd.jupyter.widget-view+json": {
       "version_major": 2,
       "version_minor": 0,
       "model_id": "8d9a78f5682c4515b84bb7ea22ef8bad"
      }
     },
     "metadata": {},
     "output_type": "display_data"
    },
    {
     "name": "stdout",
     "output_type": "stream",
     "text": [
      "\t훈련 데이터 손실값 : 0.1291\n",
      "valid epoch [10/10]\n",
      "-------------------------------\n"
     ]
    },
    {
     "data": {
      "text/plain": "  0%|          | 0/78 [00:00<?, ?it/s]",
      "application/vnd.jupyter.widget-view+json": {
       "version_major": 2,
       "version_minor": 0,
       "model_id": "72f95db017334bf8bf5207dd1759b601"
      }
     },
     "metadata": {},
     "output_type": "display_data"
    },
    {
     "name": "stdout",
     "output_type": "stream",
     "text": [
      "\tvalid 데이터 손실값 : 1.9292\n",
      "\t정확도 : 0.6795 / 재현률 : 1.0000 / F1-score : 0.7959\n"
     ]
    }
   ],
   "source": [
    "# 훈련 및 성능 검증\n",
    "model_state_dict = train(model=model,loader_train=loader_train, loader_valid=loader_valid, criterion=criterion, optimizer=optimizer)"
   ],
   "metadata": {
    "collapsed": false,
    "ExecuteTime": {
     "end_time": "2023-11-16T12:30:08.149994500Z",
     "start_time": "2023-11-16T12:11:22.696611300Z"
    }
   },
   "id": "4adcf9a9c1071a33"
  },
  {
   "cell_type": "code",
   "execution_count": 85,
   "outputs": [
    {
     "data": {
      "text/plain": "tensor([[0.1644, 0.5569],\n        [0.0744, 0.0333],\n        [0.0491, 0.5233],\n        [0.3611, 0.0170]])"
     },
     "execution_count": 85,
     "metadata": {},
     "output_type": "execute_result"
    }
   ],
   "source": [
    "sample = torch.rand(4,2)\n",
    "sample"
   ],
   "metadata": {
    "collapsed": false,
    "ExecuteTime": {
     "end_time": "2023-11-16T12:30:08.167909600Z",
     "start_time": "2023-11-16T12:30:08.148997800Z"
    }
   },
   "id": "43e1fd06bb671f42"
  },
  {
   "cell_type": "code",
   "execution_count": 86,
   "outputs": [
    {
     "data": {
      "text/plain": "torch.return_types.max(\nvalues=tensor([0.5569, 0.0744, 0.5233, 0.3611]),\nindices=tensor([1, 0, 1, 0]))"
     },
     "execution_count": 86,
     "metadata": {},
     "output_type": "execute_result"
    }
   ],
   "source": [
    "torch.max(sample, dim=1)"
   ],
   "metadata": {
    "collapsed": false,
    "ExecuteTime": {
     "end_time": "2023-11-16T12:30:08.183540100Z",
     "start_time": "2023-11-16T12:30:08.167909600Z"
    }
   },
   "id": "fbafcfefecfb5ab"
  },
  {
   "cell_type": "markdown",
   "source": [
    "### 13.3.5 예측 및 평가 결과"
   ],
   "metadata": {
    "collapsed": false
   },
   "id": "7e6104a4be159695"
  },
  {
   "cell_type": "code",
   "execution_count": 87,
   "outputs": [],
   "source": [
    "datasets_test = ImageFolder(root=test_path, transform=transform_valid)\n",
    "loader_test = DataLoader(\n",
    "    dataset=datasets_test, \n",
    "    batch_size=batch_size, \n",
    "    shuffle=False, \n",
    "    worker_init_fn=seed_worker,\n",
    "    generator=g,\n",
    "    num_workers=0\n",
    ")"
   ],
   "metadata": {
    "collapsed": false,
    "ExecuteTime": {
     "end_time": "2023-11-16T12:31:38.365923400Z",
     "start_time": "2023-11-16T12:31:38.334606600Z"
    }
   },
   "id": "babb3ea99e021598"
  },
  {
   "cell_type": "code",
   "execution_count": 88,
   "outputs": [],
   "source": [
    "def predict(model, loader_test, return_true=False):\n",
    "    model.eval()\n",
    "    preds_list = []\n",
    "    true_list = []\n",
    "    \n",
    "    with torch.no_grad():\n",
    "        for images, labels in loader_test:\n",
    "            images = images.to(device)\n",
    "            labels = labels.to(device)\n",
    "            outputs = model(images)\n",
    "            preds = torch.max(outputs.cpu(), dim=1)[1].numpy()\n",
    "            true = labels.cpu().numpy()\n",
    "            preds_list.extend(preds)\n",
    "            true_list.extend(true)\n",
    "    if return_true:\n",
    "        return true_list, preds_list\n",
    "    else:\n",
    "        return preds_list"
   ],
   "metadata": {
    "collapsed": false,
    "ExecuteTime": {
     "end_time": "2023-11-16T12:31:40.696576Z",
     "start_time": "2023-11-16T12:31:40.680887500Z"
    }
   },
   "id": "c25d1db26ffaf85c"
  },
  {
   "cell_type": "code",
   "execution_count": 89,
   "outputs": [],
   "source": [
    "true_list, preds_list = predict(model=model, loader_test=loader_test, return_true=True)"
   ],
   "metadata": {
    "collapsed": false,
    "ExecuteTime": {
     "end_time": "2023-11-16T12:31:51.189162300Z",
     "start_time": "2023-11-16T12:31:40.696576Z"
    }
   },
   "id": "a9099c8b389f3d8b"
  },
  {
   "cell_type": "code",
   "execution_count": 90,
   "outputs": [
    {
     "name": "stdout",
     "output_type": "stream",
     "text": [
      "\t정확도 : 0.6795 / 재현률 : 1.0000 / F1-score : 0.7959\n"
     ]
    }
   ],
   "source": [
    "# 평가 결과\n",
    "accuracy = accuracy_score(true_list, preds_list)\n",
    "recall = recall_score(true_list, preds_list)\n",
    "f1_score = f1_score(true_list, preds_list)\n",
    "print(f'\\t정확도 : {accuracy:.4f} / 재현률 : {recall:.4f} / F1-score : {f1_score:.4f}')"
   ],
   "metadata": {
    "collapsed": false,
    "ExecuteTime": {
     "end_time": "2023-11-16T12:31:51.208967600Z",
     "start_time": "2023-11-16T12:31:51.193159900Z"
    }
   },
   "id": "e462ee884548574a"
  },
  {
   "cell_type": "code",
   "execution_count": null,
   "outputs": [],
   "source": [],
   "metadata": {
    "collapsed": false
   },
   "id": "b2e24c3a514cefc3"
  }
 ],
 "metadata": {
  "kernelspec": {
   "display_name": "Python 3",
   "language": "python",
   "name": "python3"
  },
  "language_info": {
   "codemirror_mode": {
    "name": "ipython",
    "version": 2
   },
   "file_extension": ".py",
   "mimetype": "text/x-python",
   "name": "python",
   "nbconvert_exporter": "python",
   "pygments_lexer": "ipython2",
   "version": "2.7.6"
  }
 },
 "nbformat": 4,
 "nbformat_minor": 5
}
