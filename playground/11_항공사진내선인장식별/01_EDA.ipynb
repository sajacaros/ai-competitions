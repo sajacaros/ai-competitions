{
 "cells": [
  {
   "cell_type": "markdown",
   "metadata": {
    "collapsed": true,
    "pycharm": {
     "name": "#%% md\n"
    }
   },
   "source": [
    "# 11. 항공 사진 내 선인장 식별\n",
    "* 경진대회명\n",
    "    * 항공 사진 내 선인장 식별 경진대회\n",
    "* 미션\n",
    "    * 항공 사진 내 선인장이 있을 확률 예측\n",
    "* 문제유형\n",
    "    * 이진분류\n",
    "* 평가지표\n",
    "    * ROC AUC\n",
    "## 11.1 경진대회 이해\n",
    "* 드론이 멕시코의 보호지역을 돌아다니며 찍은 항공 사진에서 선인장(cactus)을 찾아내는게 목표\n",
    "* 데이터\n",
    "    * train.zip : 훈련 이미지 데이터 압축 파일\n",
    "    * test.zip : 테스트 이미지 데이터 압축 파일\n",
    "    * train.csv : 훈련 이미지 데이터 파일명 및 타깃값(0 or 1)\n",
    "    * sample_submission.csv : 샘플 제출 파일\n",
    "## 11.2 탐색적 데이터 분석\n",
    "### 11.2.1 데이터 둘러보기"
   ]
  }
 ],
 "metadata": {
  "kernelspec": {
   "display_name": "Python 3",
   "language": "python",
   "name": "python3"
  },
  "language_info": {
   "codemirror_mode": {
    "name": "ipython",
    "version": 2
   },
   "file_extension": ".py",
   "mimetype": "text/x-python",
   "name": "python",
   "nbconvert_exporter": "python",
   "pygments_lexer": "ipython2",
   "version": "2.7.6"
  }
 },
 "nbformat": 4,
 "nbformat_minor": 0
}