{
 "cells": [
  {
   "cell_type": "markdown",
   "metadata": {
    "collapsed": true,
    "pycharm": {
     "name": "#%% md\n"
    }
   },
   "source": [
    "# 06 자전거 대여 수요 예측\n",
    "* 미션\n",
    "    * [자전거 대여 수량 예측](https://www.kaggle.com/c/bike-sharing-demand)\n",
    "* 평가지표\n",
    "    * RMSLE\n",
    "    * ![](../images/bike_metrix.PNG)\n",
    "        * $n$ is ther number of hours in the test set\n",
    "        * $p_i$ is your  predicted count\n",
    "        * $a_i$ is the actual count\n",
    "        * $log(x)$ is the natural logarithm"
   ]
  },
  {
   "cell_type": "code",
   "execution_count": 39,
   "outputs": [],
   "source": [
    "import pandas as pd\n",
    "import numpy as np\n",
    "import seaborn as sns\n",
    "import matplotlib.pyplot as plt"
   ],
   "metadata": {
    "collapsed": false,
    "pycharm": {
     "name": "#%%\n"
    }
   }
  },
  {
   "cell_type": "code",
   "execution_count": 40,
   "outputs": [],
   "source": [
    "data_path = '../data/06_bike/'"
   ],
   "metadata": {
    "collapsed": false,
    "pycharm": {
     "name": "#%%\n"
    }
   }
  },
  {
   "cell_type": "code",
   "execution_count": 41,
   "outputs": [],
   "source": [
    "train_df = pd.read_csv(data_path + 'train.csv')\n",
    "test_df = pd.read_csv(data_path+'test.csv')\n",
    "submission_df = pd.read_csv(data_path+'sampleSubmission.csv')"
   ],
   "metadata": {
    "collapsed": false,
    "pycharm": {
     "name": "#%%\n"
    }
   }
  },
  {
   "cell_type": "code",
   "execution_count": 42,
   "outputs": [
    {
     "name": "stdout",
     "output_type": "stream",
     "text": [
      "(10886, 12) (6493, 9) (6493, 2)\n"
     ]
    }
   ],
   "source": [
    "print(train_df.shape, test_df.shape, submission_df.shape)"
   ],
   "metadata": {
    "collapsed": false,
    "pycharm": {
     "name": "#%%\n"
    }
   }
  },
  {
   "cell_type": "code",
   "execution_count": 43,
   "outputs": [
    {
     "name": "stdout",
     "output_type": "stream",
     "text": [
      "<class 'pandas.core.frame.DataFrame'>\n",
      "RangeIndex: 10886 entries, 0 to 10885\n",
      "Data columns (total 12 columns):\n",
      " #   Column      Non-Null Count  Dtype  \n",
      "---  ------      --------------  -----  \n",
      " 0   datetime    10886 non-null  object \n",
      " 1   season      10886 non-null  int64  \n",
      " 2   holiday     10886 non-null  int64  \n",
      " 3   workingday  10886 non-null  int64  \n",
      " 4   weather     10886 non-null  int64  \n",
      " 5   temp        10886 non-null  float64\n",
      " 6   atemp       10886 non-null  float64\n",
      " 7   humidity    10886 non-null  int64  \n",
      " 8   windspeed   10886 non-null  float64\n",
      " 9   casual      10886 non-null  int64  \n",
      " 10  registered  10886 non-null  int64  \n",
      " 11  count       10886 non-null  int64  \n",
      "dtypes: float64(3), int64(8), object(1)\n",
      "memory usage: 1020.7+ KB\n"
     ]
    }
   ],
   "source": [
    "train_df.info()"
   ],
   "metadata": {
    "collapsed": false,
    "pycharm": {
     "name": "#%%\n"
    }
   }
  },
  {
   "cell_type": "code",
   "execution_count": 44,
   "outputs": [],
   "source": [
    "train = train_df.copy()"
   ],
   "metadata": {
    "collapsed": false,
    "pycharm": {
     "name": "#%%\n"
    }
   }
  },
  {
   "cell_type": "code",
   "execution_count": 45,
   "outputs": [
    {
     "data": {
      "text/plain": "                  datetime  season  holiday  workingday  weather   temp  \\\n17374  2012-12-31 19:00:00       1        0           1        2  10.66   \n17375  2012-12-31 20:00:00       1        0           1        2  10.66   \n17376  2012-12-31 21:00:00       1        0           1        1  10.66   \n17377  2012-12-31 22:00:00       1        0           1        1  10.66   \n17378  2012-12-31 23:00:00       1        0           1        1  10.66   \n\n        atemp  humidity  windspeed  casual  registered  count  \n17374  12.880        60    11.0014     NaN         NaN    NaN  \n17375  12.880        60    11.0014     NaN         NaN    NaN  \n17376  12.880        60    11.0014     NaN         NaN    NaN  \n17377  13.635        56     8.9981     NaN         NaN    NaN  \n17378  13.635        65     8.9981     NaN         NaN    NaN  ",
      "text/html": "<div>\n<style scoped>\n    .dataframe tbody tr th:only-of-type {\n        vertical-align: middle;\n    }\n\n    .dataframe tbody tr th {\n        vertical-align: top;\n    }\n\n    .dataframe thead th {\n        text-align: right;\n    }\n</style>\n<table border=\"1\" class=\"dataframe\">\n  <thead>\n    <tr style=\"text-align: right;\">\n      <th></th>\n      <th>datetime</th>\n      <th>season</th>\n      <th>holiday</th>\n      <th>workingday</th>\n      <th>weather</th>\n      <th>temp</th>\n      <th>atemp</th>\n      <th>humidity</th>\n      <th>windspeed</th>\n      <th>casual</th>\n      <th>registered</th>\n      <th>count</th>\n    </tr>\n  </thead>\n  <tbody>\n    <tr>\n      <th>17374</th>\n      <td>2012-12-31 19:00:00</td>\n      <td>1</td>\n      <td>0</td>\n      <td>1</td>\n      <td>2</td>\n      <td>10.66</td>\n      <td>12.880</td>\n      <td>60</td>\n      <td>11.0014</td>\n      <td>NaN</td>\n      <td>NaN</td>\n      <td>NaN</td>\n    </tr>\n    <tr>\n      <th>17375</th>\n      <td>2012-12-31 20:00:00</td>\n      <td>1</td>\n      <td>0</td>\n      <td>1</td>\n      <td>2</td>\n      <td>10.66</td>\n      <td>12.880</td>\n      <td>60</td>\n      <td>11.0014</td>\n      <td>NaN</td>\n      <td>NaN</td>\n      <td>NaN</td>\n    </tr>\n    <tr>\n      <th>17376</th>\n      <td>2012-12-31 21:00:00</td>\n      <td>1</td>\n      <td>0</td>\n      <td>1</td>\n      <td>1</td>\n      <td>10.66</td>\n      <td>12.880</td>\n      <td>60</td>\n      <td>11.0014</td>\n      <td>NaN</td>\n      <td>NaN</td>\n      <td>NaN</td>\n    </tr>\n    <tr>\n      <th>17377</th>\n      <td>2012-12-31 22:00:00</td>\n      <td>1</td>\n      <td>0</td>\n      <td>1</td>\n      <td>1</td>\n      <td>10.66</td>\n      <td>13.635</td>\n      <td>56</td>\n      <td>8.9981</td>\n      <td>NaN</td>\n      <td>NaN</td>\n      <td>NaN</td>\n    </tr>\n    <tr>\n      <th>17378</th>\n      <td>2012-12-31 23:00:00</td>\n      <td>1</td>\n      <td>0</td>\n      <td>1</td>\n      <td>1</td>\n      <td>10.66</td>\n      <td>13.635</td>\n      <td>65</td>\n      <td>8.9981</td>\n      <td>NaN</td>\n      <td>NaN</td>\n      <td>NaN</td>\n    </tr>\n  </tbody>\n</table>\n</div>"
     },
     "execution_count": 45,
     "metadata": {},
     "output_type": "execute_result"
    }
   ],
   "source": [
    "# 데이터 합치기\n",
    "all_data = pd.concat([train, test_df], ignore_index=True)\n",
    "all_data.tail()"
   ],
   "metadata": {
    "collapsed": false,
    "pycharm": {
     "name": "#%%\n"
    }
   }
  },
  {
   "cell_type": "code",
   "execution_count": 46,
   "outputs": [],
   "source": [
    "# 파생 피처 추가\n",
    "all_data['datetime'] = pd.to_datetime(all_data['datetime'])\n",
    "\n",
    "all_data['year'] = all_data['datetime'].dt.year\n",
    "all_data['month'] = all_data['datetime'].dt.month\n",
    "all_data['day'] = all_data['datetime'].dt.day\n",
    "all_data['hour'] = all_data['datetime'].dt.hour\n",
    "all_data['weekday'] = all_data['datetime'].dt.weekday"
   ],
   "metadata": {
    "collapsed": false,
    "pycharm": {
     "name": "#%%\n"
    }
   }
  },
  {
   "cell_type": "code",
   "execution_count": 47,
   "outputs": [],
   "source": [
    "# 피처 제거\n",
    "removal_feature = ['casual', 'registered', 'datetime', 'month', 'day', 'windspeed']\n",
    "all_data = all_data.drop(columns=removal_feature)"
   ],
   "metadata": {
    "collapsed": false,
    "pycharm": {
     "name": "#%%\n"
    }
   }
  },
  {
   "cell_type": "code",
   "execution_count": 48,
   "outputs": [
    {
     "data": {
      "text/plain": "   season  holiday  workingday  weather  temp   atemp  humidity  year  hour  \\\n0       1        0           0        1  9.84  14.395        81  2011     0   \n1       1        0           0        1  9.02  13.635        80  2011     1   \n2       1        0           0        1  9.02  13.635        80  2011     2   \n3       1        0           0        1  9.84  14.395        75  2011     3   \n4       1        0           0        1  9.84  14.395        75  2011     4   \n\n   weekday  \n0        5  \n1        5  \n2        5  \n3        5  \n4        5  ",
      "text/html": "<div>\n<style scoped>\n    .dataframe tbody tr th:only-of-type {\n        vertical-align: middle;\n    }\n\n    .dataframe tbody tr th {\n        vertical-align: top;\n    }\n\n    .dataframe thead th {\n        text-align: right;\n    }\n</style>\n<table border=\"1\" class=\"dataframe\">\n  <thead>\n    <tr style=\"text-align: right;\">\n      <th></th>\n      <th>season</th>\n      <th>holiday</th>\n      <th>workingday</th>\n      <th>weather</th>\n      <th>temp</th>\n      <th>atemp</th>\n      <th>humidity</th>\n      <th>year</th>\n      <th>hour</th>\n      <th>weekday</th>\n    </tr>\n  </thead>\n  <tbody>\n    <tr>\n      <th>0</th>\n      <td>1</td>\n      <td>0</td>\n      <td>0</td>\n      <td>1</td>\n      <td>9.84</td>\n      <td>14.395</td>\n      <td>81</td>\n      <td>2011</td>\n      <td>0</td>\n      <td>5</td>\n    </tr>\n    <tr>\n      <th>1</th>\n      <td>1</td>\n      <td>0</td>\n      <td>0</td>\n      <td>1</td>\n      <td>9.02</td>\n      <td>13.635</td>\n      <td>80</td>\n      <td>2011</td>\n      <td>1</td>\n      <td>5</td>\n    </tr>\n    <tr>\n      <th>2</th>\n      <td>1</td>\n      <td>0</td>\n      <td>0</td>\n      <td>1</td>\n      <td>9.02</td>\n      <td>13.635</td>\n      <td>80</td>\n      <td>2011</td>\n      <td>2</td>\n      <td>5</td>\n    </tr>\n    <tr>\n      <th>3</th>\n      <td>1</td>\n      <td>0</td>\n      <td>0</td>\n      <td>1</td>\n      <td>9.84</td>\n      <td>14.395</td>\n      <td>75</td>\n      <td>2011</td>\n      <td>3</td>\n      <td>5</td>\n    </tr>\n    <tr>\n      <th>4</th>\n      <td>1</td>\n      <td>0</td>\n      <td>0</td>\n      <td>1</td>\n      <td>9.84</td>\n      <td>14.395</td>\n      <td>75</td>\n      <td>2011</td>\n      <td>4</td>\n      <td>5</td>\n    </tr>\n  </tbody>\n</table>\n</div>"
     },
     "execution_count": 48,
     "metadata": {},
     "output_type": "execute_result"
    }
   ],
   "source": [
    "# 데이터 나누기\n",
    "X_train = all_data[~pd.isnull(all_data['count'])]\n",
    "X_test = all_data[pd.isnull(all_data['count'])]\n",
    "y = X_train['count']\n",
    "X_train = X_train.drop(columns=['count'])\n",
    "X_test = X_test.drop(columns=['count'])\n",
    "\n",
    "X_train.head()"
   ],
   "metadata": {
    "collapsed": false,
    "pycharm": {
     "name": "#%%\n"
    }
   }
  },
  {
   "cell_type": "markdown",
   "source": [
    "## 6.5 성능 개선 I : 릿지 회귀 모델\n",
    "### 릿지 회귀 모델\n",
    "* L2 규제를 적용한 선형 회귀 모델\n",
    "* 규제(regularization)란?\n",
    "    * 모델이 훈련 데이터에 과대적합되지 않도록 해주는 방법\n",
    "### 모델 성능 개선 프로세스\n",
    "* ![](../images/base_vs_enhanced.PNG)"
   ],
   "metadata": {
    "collapsed": false
   }
  },
  {
   "cell_type": "code",
   "execution_count": 49,
   "outputs": [],
   "source": [
    "# 평가지표 계산 함수 작성\n",
    "def rmsle(y_true, y_pred, convertExp=True):\n",
    "    if convertExp:\n",
    "        y_true = np.exp(y_true)\n",
    "        y_pred = np.exp(y_pred)\n",
    "    log_true = np.nan_to_num(np.log(y_true+1))\n",
    "    log_pred = np.nan_to_num(np.log(y_pred+1))\n",
    "    return np.sqrt(np.mean((log_true-log_pred)**2))"
   ],
   "metadata": {
    "collapsed": false,
    "pycharm": {
     "name": "#%%\n"
    }
   }
  },
  {
   "cell_type": "code",
   "execution_count": 50,
   "outputs": [],
   "source": [
    "# scale\n",
    "from sklearn.preprocessing import MinMaxScaler, StandardScaler\n",
    "# scaler = MinMaxScaler().fit(X_train) # train data로만 훈련\n",
    "scaler = StandardScaler().fit(X_train) # train data로만 훈련\n",
    "X_train_scale = scaler.transform(X_train)\n",
    "X_train_scale = pd.DataFrame(X_train_scale, columns=X_train.columns)"
   ],
   "metadata": {
    "collapsed": false,
    "pycharm": {
     "name": "#%%\n"
    }
   }
  },
  {
   "cell_type": "code",
   "execution_count": 51,
   "outputs": [],
   "source": [
    "# 패키지 import\n",
    "from sklearn.linear_model import Ridge\n",
    "from sklearn.model_selection import GridSearchCV\n",
    "from sklearn import metrics"
   ],
   "metadata": {
    "collapsed": false,
    "pycharm": {
     "name": "#%%\n"
    }
   }
  },
  {
   "cell_type": "code",
   "execution_count": 52,
   "outputs": [],
   "source": [
    "# 모델 생성\n",
    "ridge_model = Ridge()\n",
    "log_y = np.log(y)"
   ],
   "metadata": {
    "collapsed": false,
    "pycharm": {
     "name": "#%%\n"
    }
   }
  },
  {
   "cell_type": "code",
   "execution_count": 53,
   "outputs": [],
   "source": [
    "# 그리드서치 객체 생성\n",
    "ridge_params = {\n",
    "    'max_iter': [3000],\n",
    "    'alpha': [0.1, 1, 2, 3, 4, 10, 30, 100, 200, 300, 400, 800, 900, 1000]\n",
    "}\n",
    "\n",
    "rmsle_scorer = metrics.make_scorer(rmsle, greater_is_better=False)\n",
    "\n",
    "gridsearch_ridge_model = GridSearchCV(\n",
    "    estimator=ridge_model,  # 릿지 모델\n",
    "    param_grid=ridge_params,# 하이퍼 파라미터\n",
    "    scoring=rmsle_scorer,   # 평가 지표, alternative : 'accuracy', 'f1', 'roc_auc', 'recall'\n",
    "    cv=5                    # 교차 검증 분할 수\n",
    ")"
   ],
   "metadata": {
    "collapsed": false,
    "pycharm": {
     "name": "#%%\n"
    }
   }
  },
  {
   "cell_type": "code",
   "execution_count": 54,
   "outputs": [
    {
     "name": "stdout",
     "output_type": "stream",
     "text": [
      "best parameter : {'alpha': 100, 'max_iter': 3000}\n"
     ]
    }
   ],
   "source": [
    "# 그리드서치 수행\n",
    "gridsearch_ridge_model.fit(X_train_scale, log_y)\n",
    "print(f'best parameter : {gridsearch_ridge_model.best_params_}')"
   ],
   "metadata": {
    "collapsed": false,
    "pycharm": {
     "name": "#%%\n"
    }
   }
  },
  {
   "cell_type": "code",
   "execution_count": 55,
   "outputs": [
    {
     "name": "stdout",
     "output_type": "stream",
     "text": [
      "ridge RMSLE : 1.0203\n"
     ]
    }
   ],
   "source": [
    "# 예측\n",
    "preds = gridsearch_ridge_model.best_estimator_.predict(X_train_scale)\n",
    "\n",
    "#평가\n",
    "print(f'ridge RMSLE : {rmsle(log_y, preds, True):.4f}')"
   ],
   "metadata": {
    "collapsed": false,
    "pycharm": {
     "name": "#%%\n"
    }
   }
  },
  {
   "cell_type": "code",
   "execution_count": 56,
   "outputs": [
    {
     "data": {
      "text/plain": "          0           1\n0  0.201083      season\n1   0.00444     holiday\n2  0.001998  workingday\n3 -0.000029     weather\n4  0.127986        temp\n5  0.246131       atemp\n6 -0.289081    humidity\n7  0.217895        year\n8   0.70953        hour\n9  0.057848     weekday",
      "text/html": "<div>\n<style scoped>\n    .dataframe tbody tr th:only-of-type {\n        vertical-align: middle;\n    }\n\n    .dataframe tbody tr th {\n        vertical-align: top;\n    }\n\n    .dataframe thead th {\n        text-align: right;\n    }\n</style>\n<table border=\"1\" class=\"dataframe\">\n  <thead>\n    <tr style=\"text-align: right;\">\n      <th></th>\n      <th>0</th>\n      <th>1</th>\n    </tr>\n  </thead>\n  <tbody>\n    <tr>\n      <th>0</th>\n      <td>0.201083</td>\n      <td>season</td>\n    </tr>\n    <tr>\n      <th>1</th>\n      <td>0.00444</td>\n      <td>holiday</td>\n    </tr>\n    <tr>\n      <th>2</th>\n      <td>0.001998</td>\n      <td>workingday</td>\n    </tr>\n    <tr>\n      <th>3</th>\n      <td>-0.000029</td>\n      <td>weather</td>\n    </tr>\n    <tr>\n      <th>4</th>\n      <td>0.127986</td>\n      <td>temp</td>\n    </tr>\n    <tr>\n      <th>5</th>\n      <td>0.246131</td>\n      <td>atemp</td>\n    </tr>\n    <tr>\n      <th>6</th>\n      <td>-0.289081</td>\n      <td>humidity</td>\n    </tr>\n    <tr>\n      <th>7</th>\n      <td>0.217895</td>\n      <td>year</td>\n    </tr>\n    <tr>\n      <th>8</th>\n      <td>0.70953</td>\n      <td>hour</td>\n    </tr>\n    <tr>\n      <th>9</th>\n      <td>0.057848</td>\n      <td>weekday</td>\n    </tr>\n  </tbody>\n</table>\n</div>"
     },
     "execution_count": 56,
     "metadata": {},
     "output_type": "execute_result"
    }
   ],
   "source": [
    "pd.DataFrame([gridsearch_ridge_model.best_estimator_.coef_, X_train.columns]).T"
   ],
   "metadata": {
    "collapsed": false,
    "pycharm": {
     "name": "#%%\n"
    }
   }
  },
  {
   "cell_type": "code",
   "execution_count": 57,
   "outputs": [
    {
     "name": "stderr",
     "output_type": "stream",
     "text": [
      "C:\\Users\\dukim\\miniconda3\\envs\\musthave_mldl_problem_solving_strategy\\lib\\site-packages\\sklearn\\base.py:464: UserWarning: X does not have valid feature names, but Ridge was fitted with feature names\n",
      "  warnings.warn(\n"
     ]
    }
   ],
   "source": [
    "### 예측 및 결과 제출\n",
    "ridgereg_preds = gridsearch_ridge_model.best_estimator_.predict(scaler.transform(X_test))\n",
    "submission_df['count'] = np.exp(ridgereg_preds)\n",
    "# submission_df.to_csv('submission.csv', index=False)"
   ],
   "metadata": {
    "collapsed": false,
    "pycharm": {
     "name": "#%%\n"
    }
   }
  }
 ],
 "metadata": {
  "kernelspec": {
   "display_name": "Python 3",
   "language": "python",
   "name": "python3"
  },
  "language_info": {
   "codemirror_mode": {
    "name": "ipython",
    "version": 2
   },
   "file_extension": ".py",
   "mimetype": "text/x-python",
   "name": "python",
   "nbconvert_exporter": "python",
   "pygments_lexer": "ipython2",
   "version": "2.7.6"
  }
 },
 "nbformat": 4,
 "nbformat_minor": 0
}